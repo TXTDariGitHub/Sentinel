{
 "cells": [
  {
   "cell_type": "markdown",
   "id": "6e4cbc08",
   "metadata": {},
   "source": [
    "### Notepad"
   ]
  },
  {
   "cell_type": "markdown",
   "id": "78276f48",
   "metadata": {},
   "source": [
    "***Forward Propagation Algorithm***"
   ]
  },
  {
   "cell_type": "markdown",
   "id": "7ac42ddc",
   "metadata": {},
   "source": [
    "Forward Propagation will pass our input through the network to every node in next layers to make a prediction in the output<br>\n",
    "Lines connect the input to the next layers has a weight, that ***indicate how strongly the input effect hidden node***<br>\n",
    "How the node get the value or the data ? it's get from input value * weight"
   ]
  },
  {
   "cell_type": "code",
   "execution_count": 1,
   "id": "90b9b9e3",
   "metadata": {},
   "outputs": [],
   "source": [
    "import numpy as np"
   ]
  },
  {
   "cell_type": "markdown",
   "id": "12220a3e",
   "metadata": {},
   "source": [
    "### 0 - Helper Functions"
   ]
  },
  {
   "cell_type": "code",
   "execution_count": 2,
   "id": "7cf28bbe",
   "metadata": {},
   "outputs": [],
   "source": [
    "def relu(value):\n",
    "    return max(0, value)\n",
    "\n",
    "def softmax(vector):\n",
    "    exp_vector = np.exp(vector)\n",
    "    sum_exp = np.sum(exp_vector)\n",
    "    return exp_vector / sum_exp"
   ]
  },
  {
   "cell_type": "markdown",
   "id": "91b27ac7",
   "metadata": {},
   "source": [
    "### 1 - Basics of Deep Learning and Neural Networks"
   ]
  },
  {
   "cell_type": "code",
   "execution_count": 3,
   "id": "3974769f",
   "metadata": {},
   "outputs": [
    {
     "name": "stdout",
     "output_type": "stream",
     "text": [
      "Node 0 : 5 Node 1 : 1\n"
     ]
    }
   ],
   "source": [
    "# Input\n",
    "\n",
    "input_data = np.array([2,3])\n",
    "\n",
    "weights = {\n",
    "    'node_0' : np.array([1,1]),\n",
    "    'node_1' : np.array([-1, 1]),\n",
    "    'output' : np.array([2,-1])\n",
    "}\n",
    "\n",
    "# Process\n",
    "node_0 = (input_data * weights['node_0']).sum()\n",
    "node_1 = (input_data * weights['node_1']).sum()\n",
    "\n",
    "print(\"Node 0 : {} Node 1 : {}\".format(node_0, node_1))"
   ]
  },
  {
   "cell_type": "code",
   "execution_count": 4,
   "id": "758d6fd9",
   "metadata": {},
   "outputs": [
    {
     "name": "stdout",
     "output_type": "stream",
     "text": [
      "9\n"
     ]
    }
   ],
   "source": [
    "hidden_layer_value = np.array([node_0, node_1])\n",
    "\n",
    "output = (hidden_layer_value * weights['output']).sum()\n",
    "\n",
    "print(output)"
   ]
  },
  {
   "cell_type": "code",
   "execution_count": 5,
   "id": "937ea990",
   "metadata": {},
   "outputs": [
    {
     "name": "stdout",
     "output_type": "stream",
     "text": [
      "-39\n"
     ]
    }
   ],
   "source": [
    "input_data = np.array([3,5])\n",
    "\n",
    "weights = {\n",
    "    'node_0' : np.array([2,4]),\n",
    "    'node_1' : np.array([4,-5]),\n",
    "    'output' : np.array([2,7])\n",
    "}\n",
    "\n",
    "node_0 = (input_data * weights['node_0']).sum()\n",
    "node_1 = (input_data * weights['node_1']).sum()\n",
    "\n",
    "hidden_layer_value = np.array([node_0, node_1])\n",
    "\n",
    "output = (hidden_layer_value * weights['output']).sum()\n",
    "\n",
    "print(output)"
   ]
  },
  {
   "cell_type": "markdown",
   "id": "b2b8f5b3",
   "metadata": {},
   "source": [
    "### 2 - Optimizing a Neural Network with Backward Propagation"
   ]
  },
  {
   "cell_type": "markdown",
   "id": "585fe3df",
   "metadata": {},
   "source": [
    "### 3 - Building Deep Learning models with Keras"
   ]
  },
  {
   "cell_type": "markdown",
   "id": "3f788934",
   "metadata": {},
   "source": [
    "### 4 - Fine Tuning Keras models"
   ]
  }
 ],
 "metadata": {
  "kernelspec": {
   "display_name": "Python 3 (ipykernel)",
   "language": "python",
   "name": "python3"
  },
  "language_info": {
   "codemirror_mode": {
    "name": "ipython",
    "version": 3
   },
   "file_extension": ".py",
   "mimetype": "text/x-python",
   "name": "python",
   "nbconvert_exporter": "python",
   "pygments_lexer": "ipython3",
   "version": "3.9.7"
  }
 },
 "nbformat": 4,
 "nbformat_minor": 5
}
