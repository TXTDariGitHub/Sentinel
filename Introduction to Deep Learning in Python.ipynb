{
 "cells": [
  {
   "cell_type": "markdown",
   "id": "b1732832",
   "metadata": {},
   "source": [
    "### 1 - Basics of Deep Learning and Neural Networks"
   ]
  },
  {
   "cell_type": "code",
   "execution_count": 1,
   "id": "0f944aa5",
   "metadata": {},
   "outputs": [],
   "source": [
    "import numpy as np"
   ]
  },
  {
   "cell_type": "code",
   "execution_count": 2,
   "id": "ab123744",
   "metadata": {},
   "outputs": [
    {
     "name": "stdout",
     "output_type": "stream",
     "text": [
      "Node 0 : 5 Node 1 : 1\n"
     ]
    }
   ],
   "source": [
    "# Input\n",
    "\n",
    "input_data = np.array([2,3])\n",
    "\n",
    "weights = {\n",
    "    'node_0' : np.array([1,1]),\n",
    "    'node_1' : np.array([-1, 1]),\n",
    "    'output' : np.array([2,-1])\n",
    "}\n",
    "\n",
    "# Process\n",
    "node_0 = (input_data * weights['node_0']).sum()\n",
    "node_1 = (input_data * weights['node_1']).sum()\n",
    "\n",
    "print(\"Node 0 : {} Node 1 : {}\".format(node_0, node_1))"
   ]
  },
  {
   "cell_type": "code",
   "execution_count": 3,
   "id": "e69844f8",
   "metadata": {},
   "outputs": [
    {
     "name": "stdout",
     "output_type": "stream",
     "text": [
      "9\n"
     ]
    }
   ],
   "source": [
    "hidden_layer_value = np.array([node_0, node_1])\n",
    "\n",
    "output = (hidden_layer_value * weights['output']).sum()\n",
    "\n",
    "print(output)"
   ]
  },
  {
   "cell_type": "markdown",
   "id": "6bee6cc2",
   "metadata": {},
   "source": [
    "### 2 - Optimizing a Neural Network with Backward Propagation"
   ]
  },
  {
   "cell_type": "markdown",
   "id": "de8c945f",
   "metadata": {},
   "source": [
    "### 3 - Building Deep Learning models with Keras"
   ]
  },
  {
   "cell_type": "markdown",
   "id": "ec77aa9c",
   "metadata": {},
   "source": [
    "### 4 - Fine Tuning Keras models"
   ]
  }
 ],
 "metadata": {
  "kernelspec": {
   "display_name": "Python 3 (ipykernel)",
   "language": "python",
   "name": "python3"
  },
  "language_info": {
   "codemirror_mode": {
    "name": "ipython",
    "version": 3
   },
   "file_extension": ".py",
   "mimetype": "text/x-python",
   "name": "python",
   "nbconvert_exporter": "python",
   "pygments_lexer": "ipython3",
   "version": "3.9.7"
  }
 },
 "nbformat": 4,
 "nbformat_minor": 5
}
