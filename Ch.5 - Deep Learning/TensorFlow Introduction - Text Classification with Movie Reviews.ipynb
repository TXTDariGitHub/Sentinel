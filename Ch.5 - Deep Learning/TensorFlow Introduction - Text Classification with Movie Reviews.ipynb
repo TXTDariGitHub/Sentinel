{
  "nbformat": 4,
  "nbformat_minor": 0,
  "metadata": {
    "colab": {
      "name": "TensorFlow - Text Classification with Movie Reviews.ipynb",
      "provenance": [],
      "authorship_tag": "ABX9TyOQbxrSNqQ9z1h74oQ1hjU9",
      "include_colab_link": true
    },
    "kernelspec": {
      "name": "python3",
      "display_name": "Python 3"
    },
    "language_info": {
      "name": "python"
    }
  },
  "cells": [
    {
      "cell_type": "markdown",
      "metadata": {
        "id": "view-in-github",
        "colab_type": "text"
      },
      "source": [
        "<a href=\"https://colab.research.google.com/github/SophrosyneEunoia/Sentinel/blob/main/Ch.5%20-%20Deep%20Learning/TensorFlow%20Introduction%20-%20Text%20Classification%20with%20Movie%20Reviews.ipynb\" target=\"_parent\"><img src=\"https://colab.research.google.com/assets/colab-badge.svg\" alt=\"Open In Colab\"/></a>"
      ]
    },
    {
      "cell_type": "code",
      "execution_count": null,
      "metadata": {
        "id": "ReqkCDceqdHu"
      },
      "outputs": [],
      "source": [
        "import tensorflow as tf"
      ]
    }
  ]
}