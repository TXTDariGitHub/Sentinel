{
  "cells": [
    {
      "cell_type": "markdown",
      "metadata": {
        "id": "view-in-github",
        "colab_type": "text"
      },
      "source": [
        "<a href=\"https://colab.research.google.com/github/SophrosyneEunoia/Sentinel/blob/main/Ch.5%20-%20Deep%20Learning/TensorFlow%20Developer%20Professional%20Certificate/TF%20Developer%20PC/TensorFlow%20-%20Natural%20Language%20Processing.ipynb\" target=\"_parent\"><img src=\"https://colab.research.google.com/assets/colab-badge.svg\" alt=\"Open In Colab\"/></a>"
      ]
    },
    {
      "cell_type": "code",
      "execution_count": null,
      "id": "a6d07428",
      "metadata": {
        "id": "a6d07428"
      },
      "outputs": [],
      "source": [
        "from tensorflow.keras.preprocessing.text import Tokenizer\n",
        "from tensorflow.keras.preprocessing.sequence import pad_sequences"
      ]
    },
    {
      "cell_type": "code",
      "execution_count": null,
      "id": "808e94bd",
      "metadata": {
        "id": "808e94bd"
      },
      "outputs": [],
      "source": [
        "def remove_stopwords(sentence, stopwords):\n",
        "  sentence = sentence.lower()\n",
        "  words = sentence.split()\n",
        "  temp = [word for word in words if word not in stopwords]\n",
        "  sentence = \" \".join(temp)\n",
        "  return sentence"
      ]
    },
    {
      "cell_type": "code",
      "source": [
        "def Tokenizer(sentences):\n",
        "  tokenizer = Tokenizer(oov_token='<OOV>')\n",
        "  tokenizer.fit_on_texts(sentences)\n",
        "  return Tokenizer"
      ],
      "metadata": {
        "id": "Gm4ISWJkd_o0"
      },
      "id": "Gm4ISWJkd_o0",
      "execution_count": null,
      "outputs": []
    }
  ],
  "metadata": {
    "kernelspec": {
      "display_name": "Python 3 (ipykernel)",
      "language": "python",
      "name": "python3"
    },
    "language_info": {
      "codemirror_mode": {
        "name": "ipython",
        "version": 3
      },
      "file_extension": ".py",
      "mimetype": "text/x-python",
      "name": "python",
      "nbconvert_exporter": "python",
      "pygments_lexer": "ipython3",
      "version": "3.9.7"
    },
    "colab": {
      "name": "TensorFlow - Natural Language Processing.ipynb",
      "provenance": [],
      "include_colab_link": true
    }
  },
  "nbformat": 4,
  "nbformat_minor": 5
}