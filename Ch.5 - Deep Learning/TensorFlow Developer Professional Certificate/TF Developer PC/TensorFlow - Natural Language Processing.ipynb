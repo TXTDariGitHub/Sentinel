{
 "cells": [
  {
   "cell_type": "code",
   "execution_count": null,
   "id": "a6d07428",
   "metadata": {},
   "outputs": [],
   "source": [
    "from tensorflow.keras.preprocessing.text import Tokenizer\n",
    "from tensorflow.keras.preprocessing.sequence import pad_sequences"
   ]
  },
  {
   "cell_type": "code",
   "execution_count": null,
   "id": "808e94bd",
   "metadata": {},
   "outputs": [],
   "source": [
    "def remove_stopwords(sentence, stopwords):\n",
    "    sentence = sentence.lower()\n",
    "    words = sentence.split()\n",
    "    temp = [word for word in words if word not in stopwords]\n",
    "    sentence = \" \".join(temp)\n",
    "    return sentence"
   ]
  }
 ],
 "metadata": {
  "kernelspec": {
   "display_name": "Python 3 (ipykernel)",
   "language": "python",
   "name": "python3"
  },
  "language_info": {
   "codemirror_mode": {
    "name": "ipython",
    "version": 3
   },
   "file_extension": ".py",
   "mimetype": "text/x-python",
   "name": "python",
   "nbconvert_exporter": "python",
   "pygments_lexer": "ipython3",
   "version": "3.9.7"
  }
 },
 "nbformat": 4,
 "nbformat_minor": 5
}
