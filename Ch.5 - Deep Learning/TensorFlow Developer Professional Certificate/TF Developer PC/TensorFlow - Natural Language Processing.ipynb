{
  "cells": [
    {
      "cell_type": "markdown",
      "metadata": {
        "id": "view-in-github",
        "colab_type": "text"
      },
      "source": [
        "<a href=\"https://colab.research.google.com/github/SophrosyneEunoia/Sentinel/blob/main/Ch.5%20-%20Deep%20Learning/TensorFlow%20Developer%20Professional%20Certificate/TF%20Developer%20PC/TensorFlow%20-%20Natural%20Language%20Processing.ipynb\" target=\"_parent\"><img src=\"https://colab.research.google.com/assets/colab-badge.svg\" alt=\"Open In Colab\"/></a>"
      ]
    },
    {
      "cell_type": "code",
      "execution_count": null,
      "id": "a6d07428",
      "metadata": {
        "id": "a6d07428"
      },
      "outputs": [],
      "source": [
        "import tensorflow as tf\n",
        "from tensorflow.keras.preprocessing.text import Tokenizer\n",
        "from tensorflow.keras.preprocessing.sequence import pad_sequences\n",
        "from tensorflow.keras.layers import TextVectorization, Embedding"
      ]
    },
    {
      "cell_type": "markdown",
      "source": [
        "### Ch.1 - Feature Engineering"
      ],
      "metadata": {
        "id": "s-JzMDh1nnLJ"
      },
      "id": "s-JzMDh1nnLJ"
    },
    {
      "cell_type": "markdown",
      "source": [
        "### Ch.2 - Natural Language Processing"
      ],
      "metadata": {
        "id": "bo497rp9iv6j"
      },
      "id": "bo497rp9iv6j"
    },
    {
      "cell_type": "code",
      "source": [
        "word = ['i love my dog']\n",
        "\n",
        "tokenizer = Tokenizer()\n",
        "tokenizer.fit_on_texts(word)\n",
        "print(tokenizer.word_index)"
      ],
      "metadata": {
        "id": "jTVdljCFiNvr"
      },
      "id": "jTVdljCFiNvr",
      "execution_count": null,
      "outputs": []
    },
    {
      "cell_type": "markdown",
      "source": [
        "#### 1 - Sequences"
      ],
      "metadata": {
        "id": "lWk5fbpIiy5r"
      },
      "id": "lWk5fbpIiy5r"
    },
    {
      "cell_type": "markdown",
      "source": [
        "#### 2 - Recurrent Neural Networks"
      ],
      "metadata": {
        "id": "mRufjXGbi0uP"
      },
      "id": "mRufjXGbi0uP"
    },
    {
      "cell_type": "markdown",
      "source": [
        "#### 3 - Long Short Term Memory"
      ],
      "metadata": {
        "id": "PkRMgp-xi_XL"
      },
      "id": "PkRMgp-xi_XL"
    }
  ],
  "metadata": {
    "kernelspec": {
      "display_name": "Python 3 (ipykernel)",
      "language": "python",
      "name": "python3"
    },
    "language_info": {
      "codemirror_mode": {
        "name": "ipython",
        "version": 3
      },
      "file_extension": ".py",
      "mimetype": "text/x-python",
      "name": "python",
      "nbconvert_exporter": "python",
      "pygments_lexer": "ipython3",
      "version": "3.9.7"
    },
    "colab": {
      "name": "TensorFlow - Natural Language Processing.ipynb",
      "provenance": [],
      "toc_visible": true,
      "include_colab_link": true
    }
  },
  "nbformat": 4,
  "nbformat_minor": 5
}