{
  "cells": [
    {
      "cell_type": "code",
      "execution_count": 1,
      "id": "a6d07428",
      "metadata": {
        "id": "a6d07428"
      },
      "outputs": [],
      "source": [
        "import tensorflow as tf\n",
        "from tensorflow.keras.preprocessing.text import Tokenizer\n",
        "from tensorflow.keras.preprocessing.sequence import pad_sequences"
      ]
    },
    {
      "cell_type": "markdown",
      "source": [
        "#### 1 - Tokenizer"
      ],
      "metadata": {
        "id": "bo497rp9iv6j"
      },
      "id": "bo497rp9iv6j"
    },
    {
      "cell_type": "code",
      "source": [
        "word = ['i love my dog']\n",
        "\n",
        "tokenizer = Tokenizer()\n",
        "tokenizer.fit_on_texts(word)\n",
        "print(tokenizer.word_index)"
      ],
      "metadata": {
        "id": "jTVdljCFiNvr",
        "outputId": "0614f007-e872-4691-e8f9-ead916e1d37d",
        "colab": {
          "base_uri": "https://localhost:8080/"
        }
      },
      "id": "jTVdljCFiNvr",
      "execution_count": 2,
      "outputs": [
        {
          "output_type": "stream",
          "name": "stdout",
          "text": [
            "{'i': 1, 'love': 2, 'my': 3, 'dog': 4}\n"
          ]
        }
      ]
    },
    {
      "cell_type": "markdown",
      "source": [
        "#### 2 - Sequences"
      ],
      "metadata": {
        "id": "lWk5fbpIiy5r"
      },
      "id": "lWk5fbpIiy5r"
    },
    {
      "cell_type": "markdown",
      "source": [
        "#### 3 - Recurrent Neural Networks"
      ],
      "metadata": {
        "id": "mRufjXGbi0uP"
      },
      "id": "mRufjXGbi0uP"
    },
    {
      "cell_type": "markdown",
      "source": [
        "#### 4 - Long Short Term Memory"
      ],
      "metadata": {
        "id": "PkRMgp-xi_XL"
      },
      "id": "PkRMgp-xi_XL"
    }
  ],
  "metadata": {
    "kernelspec": {
      "display_name": "Python 3 (ipykernel)",
      "language": "python",
      "name": "python3"
    },
    "language_info": {
      "codemirror_mode": {
        "name": "ipython",
        "version": 3
      },
      "file_extension": ".py",
      "mimetype": "text/x-python",
      "name": "python",
      "nbconvert_exporter": "python",
      "pygments_lexer": "ipython3",
      "version": "3.9.7"
    },
    "colab": {
      "name": "TensorFlow - Natural Language Processing.ipynb",
      "provenance": [],
      "toc_visible": true
    }
  },
  "nbformat": 4,
  "nbformat_minor": 5
}