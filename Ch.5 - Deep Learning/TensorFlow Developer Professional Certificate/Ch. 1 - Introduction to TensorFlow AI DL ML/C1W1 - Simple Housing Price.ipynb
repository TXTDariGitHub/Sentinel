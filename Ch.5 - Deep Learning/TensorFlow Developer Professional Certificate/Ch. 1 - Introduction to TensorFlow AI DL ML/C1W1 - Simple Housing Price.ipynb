{
  "nbformat": 4,
  "nbformat_minor": 0,
  "metadata": {
    "colab": {
      "name": "Simple Housing Price.ipynb",
      "provenance": [],
      "authorship_tag": "ABX9TyOKqF22dbfkS3iuu2aqB7ui"
    },
    "kernelspec": {
      "name": "python3",
      "display_name": "Python 3"
    },
    "language_info": {
      "name": "python"
    }
  },
  "cells": [
    {
      "cell_type": "markdown",
      "source": [
        "*y = 50x + 50*"
      ],
      "metadata": {
        "id": "7ywWKhh_LB8S"
      }
    },
    {
      "cell_type": "code",
      "source": [
        "import numpy as np\n",
        "import tensorflow as tf\n",
        "\n",
        "print(np.__version__)\n",
        "print(tf.__version__)"
      ],
      "metadata": {
        "colab": {
          "base_uri": "https://localhost:8080/"
        },
        "id": "SERG0WNMIgxG",
        "outputId": "5f8ac36f-a629-45ff-9ee7-3f3145c2333d"
      },
      "execution_count": 1,
      "outputs": [
        {
          "output_type": "stream",
          "name": "stdout",
          "text": [
            "1.21.5\n",
            "2.8.0\n"
          ]
        }
      ]
    },
    {
      "cell_type": "code",
      "source": [
        "beds = np.array([*range(1,7)], dtype=np.float16)\n",
        "prices = np.array([(bed * 50000) + 50000 for bed in beds])\n",
        "\n",
        "print(beds)\n",
        "print(prices)"
      ],
      "metadata": {
        "colab": {
          "base_uri": "https://localhost:8080/"
        },
        "id": "hWCdkfx6JqKk",
        "outputId": "35db23bb-59a9-4236-c616-6ed945e26efb"
      },
      "execution_count": 2,
      "outputs": [
        {
          "output_type": "stream",
          "name": "stdout",
          "text": [
            "[1. 2. 3. 4. 5. 6.]\n",
            "[100000. 150000. 200000. 250000. 300000. 350000.]\n"
          ]
        }
      ]
    },
    {
      "cell_type": "code",
      "source": [
        "X, y = tf.constant(beds), tf.constant(prices)\n",
        "\n",
        "print(X)\n",
        "print(y)"
      ],
      "metadata": {
        "colab": {
          "base_uri": "https://localhost:8080/"
        },
        "id": "2KVULBswKGGE",
        "outputId": "7153d616-9141-49fa-bd96-999c63f078bd"
      },
      "execution_count": 3,
      "outputs": [
        {
          "output_type": "stream",
          "name": "stdout",
          "text": [
            "tf.Tensor([1. 2. 3. 4. 5. 6.], shape=(6,), dtype=float16)\n",
            "tf.Tensor([100000. 150000. 200000. 250000. 300000. 350000.], shape=(6,), dtype=float64)\n"
          ]
        }
      ]
    },
    {
      "cell_type": "code",
      "source": [
        "model = tf.keras.Sequential([\n",
        "  tf.keras.layers.Dense(1, input_shape=[1])\n",
        "])\n",
        "\n",
        "model.compile(loss=tf.keras.losses.mse,\n",
        "              optimizer=tf.keras.optimizers.SGD())"
      ],
      "metadata": {
        "id": "NAhekA4ZKNmR"
      },
      "execution_count": 4,
      "outputs": []
    },
    {
      "cell_type": "code",
      "source": [
        "model.fit(X, y, epochs=1000, verbose=0)"
      ],
      "metadata": {
        "colab": {
          "base_uri": "https://localhost:8080/"
        },
        "id": "RG2K7rblKioW",
        "outputId": "4b50cc2f-4d00-4712-8a51-9c78a68d8f78"
      },
      "execution_count": 5,
      "outputs": [
        {
          "output_type": "execute_result",
          "data": {
            "text/plain": [
              "<keras.callbacks.History at 0x7f354e8a2c50>"
            ]
          },
          "metadata": {},
          "execution_count": 5
        }
      ]
    },
    {
      "cell_type": "code",
      "source": [
        "model.predict([7.0])"
      ],
      "metadata": {
        "colab": {
          "base_uri": "https://localhost:8080/"
        },
        "id": "m_fJuuPpKwQs",
        "outputId": "ca4fe718-b9e3-4f8c-95c3-d1a58e30a731"
      },
      "execution_count": 6,
      "outputs": [
        {
          "output_type": "execute_result",
          "data": {
            "text/plain": [
              "array([[400596.16]], dtype=float32)"
            ]
          },
          "metadata": {},
          "execution_count": 6
        }
      ]
    }
  ]
}