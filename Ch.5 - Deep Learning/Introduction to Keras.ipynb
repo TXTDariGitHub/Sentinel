{
 "cells": [
  {
   "cell_type": "markdown",
   "id": "8d14d20d",
   "metadata": {},
   "source": [
    "### 1 - Introducing Keras"
   ]
  },
  {
   "cell_type": "markdown",
   "id": "ddf3dc0f",
   "metadata": {},
   "source": [
    "### 2 - Going Deeper"
   ]
  },
  {
   "cell_type": "markdown",
   "id": "c210e155",
   "metadata": {},
   "source": [
    "### 3 - Improving Your Model Performance\n",
    "\n",
    "#### 3.1 - Batch Size\n",
    "#### 3.2 - Batch Normalization\n",
    "#### 3.3 - Activation Function"
   ]
  },
  {
   "cell_type": "markdown",
   "id": "29c465c0",
   "metadata": {},
   "source": [
    "### 4 - Advanced Model Architectures\n",
    "\n",
    "#### 4.1 - Autoencoders\n",
    "\n",
    "#### 4.2 - Convolutional Neural Network\n",
    "\n",
    "#### 4.3 - Long Short Term Memory"
   ]
  }
 ],
 "metadata": {
  "kernelspec": {
   "display_name": "Python 3 (ipykernel)",
   "language": "python",
   "name": "python3"
  },
  "language_info": {
   "codemirror_mode": {
    "name": "ipython",
    "version": 3
   },
   "file_extension": ".py",
   "mimetype": "text/x-python",
   "name": "python",
   "nbconvert_exporter": "python",
   "pygments_lexer": "ipython3",
   "version": "3.9.7"
  }
 },
 "nbformat": 4,
 "nbformat_minor": 5
}
