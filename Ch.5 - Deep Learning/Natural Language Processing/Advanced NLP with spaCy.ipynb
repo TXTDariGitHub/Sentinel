{
 "cells": [
  {
   "cell_type": "markdown",
   "id": "69b2b7b5",
   "metadata": {},
   "source": [
    "#### 1 - Finding Words, Phrases, Names and Concepts"
   ]
  },
  {
   "cell_type": "markdown",
   "id": "7df0fe09",
   "metadata": {},
   "source": [
    "#### 2 - Large-scale data analysis with spaCy"
   ]
  },
  {
   "cell_type": "markdown",
   "id": "0ff9cb5d",
   "metadata": {},
   "source": [
    "#### 3 - Processing Pipelines"
   ]
  },
  {
   "cell_type": "markdown",
   "id": "fecdcece",
   "metadata": {},
   "source": [
    "#### 4 - Training a neural network model"
   ]
  }
 ],
 "metadata": {
  "kernelspec": {
   "display_name": "Python 3 (ipykernel)",
   "language": "python",
   "name": "python3"
  },
  "language_info": {
   "codemirror_mode": {
    "name": "ipython",
    "version": 3
   },
   "file_extension": ".py",
   "mimetype": "text/x-python",
   "name": "python",
   "nbconvert_exporter": "python",
   "pygments_lexer": "ipython3",
   "version": "3.9.7"
  }
 },
 "nbformat": 4,
 "nbformat_minor": 5
}
