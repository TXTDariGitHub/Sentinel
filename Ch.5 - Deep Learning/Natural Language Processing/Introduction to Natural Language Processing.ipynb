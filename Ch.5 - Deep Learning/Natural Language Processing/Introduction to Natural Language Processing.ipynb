{
 "cells": [
  {
   "cell_type": "markdown",
   "id": "a7628b4a",
   "metadata": {},
   "source": [
    "#### 0 - TensorFlow NLP Zero to Hero"
   ]
  },
  {
   "cell_type": "code",
   "execution_count": null,
   "id": "ac62e3c6",
   "metadata": {},
   "outputs": [],
   "source": [
    "import tensorflow as tf\n",
    "from tensorflow.keras.preprocessing.text import Tokenizer\n",
    "\n",
    "print(tf.__version__)"
   ]
  },
  {
   "cell_type": "code",
   "execution_count": null,
   "id": "8920d0d5",
   "metadata": {},
   "outputs": [],
   "source": [
    "word = [\"i love my dog\", \"i like edm music\", \"you are great!\"]\n",
    "\n",
    "tokenizer = Tokenizer(num_words = 50) # Maximum number words to keep is 50 with 50 most apperance\n",
    "tokenizer.fit_on_texts(word) # Fitting function at word\n",
    "word_index = tokenizer.word_index\n",
    "print(word_index)"
   ]
  },
  {
   "cell_type": "markdown",
   "id": "c65f6577",
   "metadata": {},
   "source": [
    "#### 1 - Regular Expressions & Word Tokenization"
   ]
  },
  {
   "cell_type": "markdown",
   "id": "b52d3d16",
   "metadata": {},
   "source": [
    "#### 2 - Simple Topic Identification"
   ]
  },
  {
   "cell_type": "markdown",
   "id": "da7ff0c8",
   "metadata": {},
   "source": [
    "#### 3 - Named-Entity Recognition"
   ]
  },
  {
   "cell_type": "markdown",
   "id": "8d22e341",
   "metadata": {},
   "source": [
    "#### 4 - Fake News Classifier"
   ]
  }
 ],
 "metadata": {
  "kernelspec": {
   "display_name": "Python 3 (ipykernel)",
   "language": "python",
   "name": "python3"
  },
  "language_info": {
   "codemirror_mode": {
    "name": "ipython",
    "version": 3
   },
   "file_extension": ".py",
   "mimetype": "text/x-python",
   "name": "python",
   "nbconvert_exporter": "python",
   "pygments_lexer": "ipython3",
   "version": "3.9.7"
  }
 },
 "nbformat": 4,
 "nbformat_minor": 5
}
