{
  "cells": [
    {
      "cell_type": "markdown",
      "id": "a7628b4a",
      "metadata": {
        "id": "a7628b4a"
      },
      "source": [
        "#### 0 - TensorFlow NLP Zero to Hero"
      ]
    },
    {
      "cell_type": "code",
      "execution_count": 1,
      "id": "ac62e3c6",
      "metadata": {
        "id": "ac62e3c6",
        "outputId": "63dfe4a2-f310-4673-934f-5f669f0d4a9a",
        "colab": {
          "base_uri": "https://localhost:8080/"
        }
      },
      "outputs": [
        {
          "output_type": "stream",
          "name": "stdout",
          "text": [
            "2.8.0\n"
          ]
        }
      ],
      "source": [
        "import tensorflow as tf\n",
        "from tensorflow.keras.preprocessing.text import Tokenizer\n",
        "\n",
        "print(tf.__version__)"
      ]
    },
    {
      "cell_type": "code",
      "execution_count": 2,
      "id": "8920d0d5",
      "metadata": {
        "id": "8920d0d5",
        "outputId": "36edc35c-ba3e-42e7-a8c9-b6646f4f45a8",
        "colab": {
          "base_uri": "https://localhost:8080/"
        }
      },
      "outputs": [
        {
          "output_type": "stream",
          "name": "stdout",
          "text": [
            "{'i': 1, 'love': 2, 'my': 3, 'dog': 4, 'like': 5, 'edm': 6, 'music': 7, 'you': 8, 'are': 9, 'great': 10}\n"
          ]
        }
      ],
      "source": [
        "word = [\"i love my dog\", \"i like edm music\", \"you are great!\"]\n",
        "\n",
        "tokenizer = Tokenizer(num_words = 50) # Maximum number words to keep is 50 with 50 most apperance\n",
        "tokenizer.fit_on_texts(word) # Fitting function at word\n",
        "word_index = tokenizer.word_index\n",
        "print(word_index)"
      ]
    },
    {
      "cell_type": "markdown",
      "id": "c65f6577",
      "metadata": {
        "id": "c65f6577"
      },
      "source": [
        "#### 1 - Regular Expressions & Word Tokenization"
      ]
    },
    {
      "cell_type": "markdown",
      "id": "b52d3d16",
      "metadata": {
        "id": "b52d3d16"
      },
      "source": [
        "#### 2 - Simple Topic Identification"
      ]
    },
    {
      "cell_type": "markdown",
      "id": "da7ff0c8",
      "metadata": {
        "id": "da7ff0c8"
      },
      "source": [
        "#### 3 - Named-Entity Recognition"
      ]
    },
    {
      "cell_type": "markdown",
      "id": "8d22e341",
      "metadata": {
        "id": "8d22e341"
      },
      "source": [
        "#### 4 - Fake News Classifier"
      ]
    }
  ],
  "metadata": {
    "kernelspec": {
      "display_name": "Python 3 (ipykernel)",
      "language": "python",
      "name": "python3"
    },
    "language_info": {
      "codemirror_mode": {
        "name": "ipython",
        "version": 3
      },
      "file_extension": ".py",
      "mimetype": "text/x-python",
      "name": "python",
      "nbconvert_exporter": "python",
      "pygments_lexer": "ipython3",
      "version": "3.9.7"
    },
    "colab": {
      "name": "Introduction to Natural Language Processing.ipynb",
      "provenance": []
    }
  },
  "nbformat": 4,
  "nbformat_minor": 5
}