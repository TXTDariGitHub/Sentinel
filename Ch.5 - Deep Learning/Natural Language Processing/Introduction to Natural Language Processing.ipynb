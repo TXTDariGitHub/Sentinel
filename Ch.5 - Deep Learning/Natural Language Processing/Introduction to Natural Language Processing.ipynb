{
 "cells": [
  {
   "cell_type": "markdown",
   "id": "c65f6577",
   "metadata": {},
   "source": [
    "#### 1 - Regular Expressions & Word Tokenization"
   ]
  },
  {
   "cell_type": "markdown",
   "id": "b52d3d16",
   "metadata": {},
   "source": [
    "#### 2 - Simple Topic Identification"
   ]
  },
  {
   "cell_type": "markdown",
   "id": "da7ff0c8",
   "metadata": {},
   "source": [
    "#### 3 - Named-Entity Recognition"
   ]
  },
  {
   "cell_type": "markdown",
   "id": "8d22e341",
   "metadata": {},
   "source": [
    "#### 4 - Fake News Classifier"
   ]
  }
 ],
 "metadata": {
  "kernelspec": {
   "display_name": "Python 3 (ipykernel)",
   "language": "python",
   "name": "python3"
  },
  "language_info": {
   "codemirror_mode": {
    "name": "ipython",
    "version": 3
   },
   "file_extension": ".py",
   "mimetype": "text/x-python",
   "name": "python",
   "nbconvert_exporter": "python",
   "pygments_lexer": "ipython3",
   "version": "3.9.7"
  }
 },
 "nbformat": 4,
 "nbformat_minor": 5
}
