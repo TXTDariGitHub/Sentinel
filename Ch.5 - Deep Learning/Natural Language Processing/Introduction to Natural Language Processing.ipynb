{
  "cells": [
    {
      "cell_type": "markdown",
      "id": "a7628b4a",
      "metadata": {
        "id": "a7628b4a"
      },
      "source": [
        "#### 0 - TensorFlow NLP Zero to Hero"
      ]
    },
    {
      "cell_type": "code",
      "execution_count": 1,
      "id": "ac62e3c6",
      "metadata": {
        "colab": {
          "base_uri": "https://localhost:8080/"
        },
        "id": "ac62e3c6",
        "outputId": "6b16f3ef-478f-4159-d111-622425d28fa7"
      },
      "outputs": [
        {
          "output_type": "stream",
          "name": "stdout",
          "text": [
            "2.8.0\n"
          ]
        }
      ],
      "source": [
        "import tensorflow as tf\n",
        "from tensorflow.keras.preprocessing.text import Tokenizer\n",
        "from tensorflow.keras.preprocessing.sequence import pad_sequences\n",
        "\n",
        "print(tf.__version__)"
      ]
    },
    {
      "cell_type": "code",
      "execution_count": 2,
      "id": "8920d0d5",
      "metadata": {
        "colab": {
          "base_uri": "https://localhost:8080/"
        },
        "id": "8920d0d5",
        "outputId": "66f971fc-8fd7-43d9-a3a9-20ebc393e4f9"
      },
      "outputs": [
        {
          "output_type": "stream",
          "name": "stdout",
          "text": [
            "{'i': 1, 'love': 2, 'my': 3, 'dog': 4, 'like': 5, 'edm': 6, 'music': 7, 'you': 8, 'are': 9, 'great': 10}\n"
          ]
        }
      ],
      "source": [
        "# Tokenizer\n",
        "\n",
        "word = [\"i love my dog\", \"i like edm music\", \"you are great!\"]\n",
        "\n",
        "tokenizer = Tokenizer(num_words = 50) # Maximum number words to keep is 50 with 50 most apperance\n",
        "tokenizer.fit_on_texts(word) # Fitting function at word\n",
        "word_index = tokenizer.word_index\n",
        "print(word_index)"
      ]
    },
    {
      "cell_type": "code",
      "source": [
        "# Turning sentences into data\n",
        "\n",
        "sequences = tokenizer.texts_to_sequences(word)\n",
        "\n",
        "padded = pad_sequences(sequences)\n",
        "\n",
        "print(sequences)"
      ],
      "metadata": {
        "id": "m5zlffaLiE51",
        "outputId": "8291ae5f-5a01-4bf1-aae5-d0f159652f30",
        "colab": {
          "base_uri": "https://localhost:8080/"
        }
      },
      "id": "m5zlffaLiE51",
      "execution_count": 3,
      "outputs": [
        {
          "output_type": "stream",
          "name": "stdout",
          "text": [
            "[[1, 2, 3, 4], [1, 5, 6, 7], [8, 9, 10]]\n"
          ]
        }
      ]
    },
    {
      "cell_type": "code",
      "source": [
        "print(padded)"
      ],
      "metadata": {
        "id": "ezwiubejjGyD",
        "outputId": "da5b122c-6053-4e42-fd69-43902315d1dc",
        "colab": {
          "base_uri": "https://localhost:8080/"
        }
      },
      "id": "ezwiubejjGyD",
      "execution_count": 4,
      "outputs": [
        {
          "output_type": "stream",
          "name": "stdout",
          "text": [
            "[[ 1  2  3  4]\n",
            " [ 1  5  6  7]\n",
            " [ 0  8  9 10]]\n"
          ]
        }
      ]
    },
    {
      "cell_type": "markdown",
      "id": "c65f6577",
      "metadata": {
        "id": "c65f6577"
      },
      "source": [
        "#### 1 - Regular Expressions & Word Tokenization"
      ]
    },
    {
      "cell_type": "markdown",
      "id": "b52d3d16",
      "metadata": {
        "id": "b52d3d16"
      },
      "source": [
        "#### 2 - Simple Topic Identification"
      ]
    },
    {
      "cell_type": "markdown",
      "id": "da7ff0c8",
      "metadata": {
        "id": "da7ff0c8"
      },
      "source": [
        "#### 3 - Named-Entity Recognition"
      ]
    },
    {
      "cell_type": "markdown",
      "id": "8d22e341",
      "metadata": {
        "id": "8d22e341"
      },
      "source": [
        "#### 4 - Fake News Classifier"
      ]
    }
  ],
  "metadata": {
    "kernelspec": {
      "display_name": "Python 3 (ipykernel)",
      "language": "python",
      "name": "python3"
    },
    "language_info": {
      "codemirror_mode": {
        "name": "ipython",
        "version": 3
      },
      "file_extension": ".py",
      "mimetype": "text/x-python",
      "name": "python",
      "nbconvert_exporter": "python",
      "pygments_lexer": "ipython3",
      "version": "3.9.7"
    },
    "colab": {
      "name": "Introduction to Natural Language Processing.ipynb",
      "provenance": []
    }
  },
  "nbformat": 4,
  "nbformat_minor": 5
}