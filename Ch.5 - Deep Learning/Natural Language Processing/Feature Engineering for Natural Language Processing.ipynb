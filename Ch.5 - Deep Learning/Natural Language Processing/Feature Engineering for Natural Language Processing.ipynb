{
 "cells": [
  {
   "cell_type": "markdown",
   "id": "dd093383",
   "metadata": {},
   "source": [
    "#### 1 - Basic Features and Readability Scores"
   ]
  },
  {
   "cell_type": "markdown",
   "id": "e28f020b",
   "metadata": {},
   "source": [
    "#### 2 - Text preprocessing, POS tagging and NER"
   ]
  },
  {
   "cell_type": "markdown",
   "id": "b31e865c",
   "metadata": {},
   "source": [
    "#### 3 - N-Gram Models"
   ]
  },
  {
   "cell_type": "markdown",
   "id": "f2cc76dd",
   "metadata": {},
   "source": [
    "#### 4 - TF-IDF and Similarity Scores"
   ]
  }
 ],
 "metadata": {
  "kernelspec": {
   "display_name": "Python 3 (ipykernel)",
   "language": "python",
   "name": "python3"
  },
  "language_info": {
   "codemirror_mode": {
    "name": "ipython",
    "version": 3
   },
   "file_extension": ".py",
   "mimetype": "text/x-python",
   "name": "python",
   "nbconvert_exporter": "python",
   "pygments_lexer": "ipython3",
   "version": "3.9.7"
  }
 },
 "nbformat": 4,
 "nbformat_minor": 5
}
