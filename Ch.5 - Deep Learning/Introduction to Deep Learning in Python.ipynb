{
 "cells": [
  {
   "cell_type": "markdown",
   "id": "dec96c3e",
   "metadata": {},
   "source": [
    "### Notepad"
   ]
  },
  {
   "cell_type": "markdown",
   "id": "1e51929f",
   "metadata": {},
   "source": [
    "***Forward Propagation Algorithm***"
   ]
  },
  {
   "cell_type": "markdown",
   "id": "90eb15dc",
   "metadata": {},
   "source": [
    "Forward Propagation will pass our input through the network to every node in next layers to make a prediction in the output<br>\n",
    "Lines connect the input to the next layers has a weight, that ***indicate how strongly the input effect hidden node***<br>\n",
    "How the node get the value or the data ? it's get from input value * weight"
   ]
  },
  {
   "cell_type": "code",
   "execution_count": 1,
   "id": "7252d5b8",
   "metadata": {},
   "outputs": [],
   "source": [
    "import numpy as np"
   ]
  },
  {
   "cell_type": "markdown",
   "id": "04cbb7c7",
   "metadata": {},
   "source": [
    "### 0 - Helper Functions"
   ]
  },
  {
   "cell_type": "code",
   "execution_count": 2,
   "id": "38faafcb",
   "metadata": {},
   "outputs": [],
   "source": [
    "def relu(value):\n",
    "    return max(0, value)\n",
    "\n",
    "def softmax(vector):\n",
    "    exp_vector = np.exp(vector)\n",
    "    sum_exp = np.sum(exp_vector)\n",
    "    return exp_vector / sum_exp"
   ]
  },
  {
   "cell_type": "markdown",
   "id": "70ca0b73",
   "metadata": {},
   "source": [
    "### 1 - Basics of Deep Learning and Neural Networks"
   ]
  },
  {
   "cell_type": "markdown",
   "id": "565f37ab",
   "metadata": {},
   "source": [
    "<p style=\"font-size:20px\">2-2-1</p>"
   ]
  },
  {
   "cell_type": "code",
   "execution_count": 3,
   "id": "76b275de",
   "metadata": {},
   "outputs": [
    {
     "name": "stdout",
     "output_type": "stream",
     "text": [
      "Node 0 : 5 Node 1 : 1\n"
     ]
    }
   ],
   "source": [
    "# Input\n",
    "\n",
    "input_data = np.array([2,3])\n",
    "\n",
    "weights = {\n",
    "    'node_0' : np.array([1,1]),\n",
    "    'node_1' : np.array([-1, 1]),\n",
    "    'output' : np.array([2,-1])\n",
    "}\n",
    "\n",
    "# Process\n",
    "node_0 = (input_data * weights['node_0']).sum()\n",
    "node_1 = (input_data * weights['node_1']).sum()\n",
    "\n",
    "print(\"Node 0 : {} Node 1 : {}\".format(node_0, node_1))"
   ]
  },
  {
   "cell_type": "code",
   "execution_count": 4,
   "id": "f39220ce",
   "metadata": {},
   "outputs": [
    {
     "name": "stdout",
     "output_type": "stream",
     "text": [
      "9\n"
     ]
    }
   ],
   "source": [
    "hidden_layer_value = np.array([node_0, node_1])\n",
    "\n",
    "output = (hidden_layer_value * weights['output']).sum()\n",
    "\n",
    "print(output)"
   ]
  },
  {
   "cell_type": "code",
   "execution_count": 5,
   "id": "5904649f",
   "metadata": {},
   "outputs": [
    {
     "name": "stdout",
     "output_type": "stream",
     "text": [
      "-39\n"
     ]
    }
   ],
   "source": [
    "input_data = np.array([3,5])\n",
    "\n",
    "weights = {\n",
    "    'node_0' : np.array([2,4]),\n",
    "    'node_1' : np.array([4,-5]),\n",
    "    'output' : np.array([2,7])\n",
    "}\n",
    "\n",
    "node_0 = (input_data * weights['node_0']).sum()\n",
    "\n",
    "\n",
    "node_1 = (input_data * weights['node_1']).sum()\n",
    "\n",
    "hidden_layer_value = np.array([node_0, node_1])\n",
    "\n",
    "output = (hidden_layer_value * weights['output']).sum()\n",
    "\n",
    "print(output)"
   ]
  },
  {
   "cell_type": "code",
   "execution_count": 6,
   "id": "1f5d511e",
   "metadata": {},
   "outputs": [
    {
     "name": "stdout",
     "output_type": "stream",
     "text": [
      "52\n"
     ]
    }
   ],
   "source": [
    "input_data = np.array([3,5])\n",
    "\n",
    "weights = {\n",
    "    'node_0' : np.array([2,4]),\n",
    "    'node_1' : np.array([4,-5]),\n",
    "    'output' : np.array([2,7])\n",
    "}\n",
    "\n",
    "node_0 = (input_data * weights['node_0']).sum()\n",
    "relu_0 = relu(node_0)\n",
    "\n",
    "node_1 = (input_data * weights['node_1']).sum()\n",
    "relu_1 = relu(node_1)\n",
    "\n",
    "hidden_layer_value = np.array([relu_0, relu_1])\n",
    "\n",
    "output = (hidden_layer_value * weights['output']).sum()\n",
    "\n",
    "print(output)"
   ]
  },
  {
   "cell_type": "markdown",
   "id": "99dfefcc",
   "metadata": {},
   "source": [
    "<p style=\"font-size:20px\">2-2-2-1</p>"
   ]
  },
  {
   "cell_type": "code",
   "execution_count": 7,
   "id": "9cca7c8e",
   "metadata": {},
   "outputs": [],
   "source": [
    "weights = {'node_0_0': np.array([2, 4]),\n",
    "           'node_0_1': np.array([ 4, -5]),\n",
    "           'node_1_0': np.array([-1,  2]),\n",
    "           'node_1_1': np.array([1, 2]),\n",
    "           'output': np.array([2, 7])}"
   ]
  },
  {
   "cell_type": "code",
   "execution_count": 8,
   "id": "f8c8e921",
   "metadata": {},
   "outputs": [],
   "source": [
    "input_data = np.array([3, 5])"
   ]
  },
  {
   "cell_type": "code",
   "execution_count": 9,
   "id": "9c6418cc",
   "metadata": {},
   "outputs": [],
   "source": [
    "node_00 = (input_data * weights['node_0_0']).sum()\n",
    "relu_00 = relu(node_00)\n",
    "\n",
    "node_01 = (input_data * weights['node_0_1']).sum()\n",
    "relu_01 = relu(node_01)\n",
    "\n",
    "hidden_layer_0 = np.array([relu_00, relu_01])\n",
    "\n",
    "node_10 = (hidden_layer_0 * weights['node_1_0']).sum()\n",
    "relu_10 = relu(node_10)\n",
    "\n",
    "node_11 = (hidden_layer_0 * weights['node_1_1']).sum()\n",
    "relu_11 = relu(node_11)\n",
    "\n",
    "hidden_layer_1 = np.array([relu_10, relu_11])"
   ]
  },
  {
   "cell_type": "code",
   "execution_count": 10,
   "id": "63c814ef",
   "metadata": {},
   "outputs": [
    {
     "name": "stdout",
     "output_type": "stream",
     "text": [
      "182\n"
     ]
    }
   ],
   "source": [
    "result = (hidden_layer_1 * weights['output']).sum()\n",
    "\n",
    "print(result)"
   ]
  },
  {
   "cell_type": "code",
   "execution_count": 11,
   "id": "08000537",
   "metadata": {},
   "outputs": [],
   "source": [
    "def neural_network(input_data, weight):\n",
    "    node_0 = (input_data * weight['node_0']).sum()\n",
    "    node_1 = (input_data * weight['node_1']).sum()\n",
    "    output = (np.array([node_0, node_1]) * weight['output']).sum()\n",
    "    return output"
   ]
  },
  {
   "cell_type": "markdown",
   "id": "b305b1ed",
   "metadata": {},
   "source": [
    "### 2 - Optimizing a Neural Network with Backward Propagation"
   ]
  },
  {
   "cell_type": "code",
   "execution_count": 12,
   "id": "3648b9eb",
   "metadata": {},
   "outputs": [
    {
     "name": "stdout",
     "output_type": "stream",
     "text": [
      "Model 0 Output : 9\n",
      "Error Model 0 : 6\n",
      "Model 1 Output : 3\n",
      "Error Model 1 : 0\n"
     ]
    }
   ],
   "source": [
    "import numpy as np\n",
    "\n",
    "# The data point you will make a prediction for\n",
    "input_data = np.array([0, 3])\n",
    "\n",
    "# Sample weights\n",
    "weights_0 = {'node_0': [2, 1],\n",
    "             'node_1': [1, 2],\n",
    "             'output': [1, 1]\n",
    "            }\n",
    "\n",
    "# The actual target value, used to calculate the error\n",
    "target_actual = 3\n",
    "\n",
    "# Make prediction using original weights\n",
    "model_output_0 = neural_network(input_data, weights_0)\n",
    "\n",
    "# Calculate error: error_0\n",
    "error_0 = model_output_0 - target_actual\n",
    "\n",
    "# Create weights that cause the network to make perfect prediction (3): weights_1\n",
    "weights_1 = {'node_0': [2, 1],\n",
    "             'node_1': [1, 2],\n",
    "             'output': [1, 0]\n",
    "            }\n",
    "\n",
    "# Make prediction using new weights: model_output_1\n",
    "model_output_1 = neural_network(input_data, weights_1)\n",
    "\n",
    "# Calculate error: error_1\n",
    "error_1 = model_output_1 - target_actual\n",
    "\n",
    "# Print error_0 and error_1\n",
    "print(f\"Model 0 Output : {model_output_0}\")\n",
    "print(f\"Error Model 0 : {error_0}\")\n",
    "print(f\"Model 1 Output : {model_output_1}\")\n",
    "print(f\"Error Model 1 : {error_1}\")"
   ]
  },
  {
   "cell_type": "markdown",
   "id": "2d24051a",
   "metadata": {},
   "source": [
    "### 3 - Building Deep Learning models with Keras"
   ]
  },
  {
   "cell_type": "markdown",
   "id": "50e2b9f4",
   "metadata": {},
   "source": [
    "### 4 - Fine Tuning Keras models"
   ]
  }
 ],
 "metadata": {
  "kernelspec": {
   "display_name": "Python 3 (ipykernel)",
   "language": "python",
   "name": "python3"
  },
  "language_info": {
   "codemirror_mode": {
    "name": "ipython",
    "version": 3
   },
   "file_extension": ".py",
   "mimetype": "text/x-python",
   "name": "python",
   "nbconvert_exporter": "python",
   "pygments_lexer": "ipython3",
   "version": "3.9.7"
  }
 },
 "nbformat": 4,
 "nbformat_minor": 5
}
