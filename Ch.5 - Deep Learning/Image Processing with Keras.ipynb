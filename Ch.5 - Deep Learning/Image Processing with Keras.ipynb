{
  "nbformat": 4,
  "nbformat_minor": 0,
  "metadata": {
    "colab": {
      "name": "Image Processing with Keras.ipynb",
      "provenance": [],
      "authorship_tag": "ABX9TyO0TicXNmJcobOeo2jOeksg",
      "include_colab_link": true
    },
    "kernelspec": {
      "name": "python3",
      "display_name": "Python 3"
    },
    "language_info": {
      "name": "python"
    }
  },
  "cells": [
    {
      "cell_type": "markdown",
      "metadata": {
        "id": "view-in-github",
        "colab_type": "text"
      },
      "source": [
        "<a href=\"https://colab.research.google.com/github/SophrosyneEunoia/Sentinel/blob/main/Ch.5%20-%20Deep%20Learning/Image%20Processing%20with%20Keras.ipynb\" target=\"_parent\"><img src=\"https://colab.research.google.com/assets/colab-badge.svg\" alt=\"Open In Colab\"/></a>"
      ]
    },
    {
      "cell_type": "markdown",
      "source": [
        "#### 1 - Image Processing With Neural Networks"
      ],
      "metadata": {
        "id": "WFf-ScKA8ijX"
      }
    },
    {
      "cell_type": "markdown",
      "source": [
        "#### 2 - Using Convolutions"
      ],
      "metadata": {
        "id": "cNYN2O4a87XU"
      }
    },
    {
      "cell_type": "markdown",
      "source": [
        "#### 3 - Going Deeper"
      ],
      "metadata": {
        "id": "qYVGcV2Z9C_x"
      }
    },
    {
      "cell_type": "markdown",
      "source": [
        "#### 4 - Understanding and Improving Deep Convolutional Networks"
      ],
      "metadata": {
        "id": "s8Z25Eix9HjK"
      }
    }
  ]
}