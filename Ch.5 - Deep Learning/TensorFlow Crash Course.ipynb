{
 "cells": [
  {
   "cell_type": "markdown",
   "metadata": {},
   "source": [
    "#### TensorFlow Importing Package"
   ]
  },
  {
   "cell_type": "code",
   "execution_count": null,
   "metadata": {},
   "outputs": [],
   "source": [
    "import tensorflow as tf\n",
    "\n",
    "print(tf.__version__)"
   ]
  },
  {
   "cell_type": "markdown",
   "metadata": {},
   "source": [
    "#### TensorFlow Constant and TensorFlow Variable"
   ]
  },
  {
   "cell_type": "markdown",
   "metadata": {},
   "source": [
    "**```tf.constant()``` is a special variable where you only can defined it once**"
   ]
  },
  {
   "cell_type": "code",
   "execution_count": null,
   "metadata": {},
   "outputs": [],
   "source": [
    "var_zero = tf.constant(10)\n",
    "\n",
    "print(var_zero)"
   ]
  },
  {
   "cell_type": "code",
   "execution_count": null,
   "metadata": {},
   "outputs": [],
   "source": [
    "var_one = tf.constant([10])\n",
    "\n",
    "print(var_one)"
   ]
  },
  {
   "cell_type": "code",
   "execution_count": 4,
   "metadata": {
    "colab": {
     "base_uri": "https://localhost:8080/"
    },
    "id": "7ID8vYME8B5H",
    "outputId": "d6efa92e-3421-47bf-b4b2-89a7e44aaa5d"
   },
   "outputs": [
    {
     "name": "stdout",
     "output_type": "stream",
     "text": [
      "tf.Tensor([[10 10]], shape=(1, 2), dtype=int32)\n"
     ]
    }
   ],
   "source": [
    "var_two = tf.constant([[10,10]])\n",
    "\n",
    "print(var_two)"
   ]
  },
  {
   "cell_type": "code",
   "execution_count": 5,
   "metadata": {
    "colab": {
     "base_uri": "https://localhost:8080/"
    },
    "id": "-MWX5CyH8iDj",
    "outputId": "e6ddac58-e5cb-4f9f-9364-84ad8e10ac7d"
   },
   "outputs": [
    {
     "name": "stdout",
     "output_type": "stream",
     "text": [
      "tf.Tensor([[10 10 10]], shape=(1, 3), dtype=int32)\n"
     ]
    }
   ],
   "source": [
    "var_two1 = tf.constant(\n",
    "    [[10,10,10]])\n",
    "\n",
    "print(var_two1)"
   ]
  },
  {
   "cell_type": "code",
   "execution_count": 6,
   "metadata": {
    "colab": {
     "base_uri": "https://localhost:8080/"
    },
    "id": "WmHKfV7x8y5y",
    "outputId": "4fda3588-46fa-47eb-f5f9-e3757a0fc537"
   },
   "outputs": [
    {
     "name": "stdout",
     "output_type": "stream",
     "text": [
      "tf.Tensor(\n",
      "[[1 2]\n",
      " [3 4]], shape=(2, 2), dtype=int32)\n"
     ]
    }
   ],
   "source": [
    "var_two2 = tf.constant(\n",
    "    [[1,2],\n",
    "     [3,4]])\n",
    "\n",
    "print(var_two2)"
   ]
  },
  {
   "cell_type": "code",
   "execution_count": 7,
   "metadata": {
    "colab": {
     "base_uri": "https://localhost:8080/"
    },
    "id": "Z-UdqPei88wA",
    "outputId": "604c0d2b-af82-4029-9dcd-57f4e0df1839"
   },
   "outputs": [
    {
     "name": "stdout",
     "output_type": "stream",
     "text": [
      "tf.Tensor(\n",
      "[[1 2 3]\n",
      " [4 5 6]\n",
      " [7 8 9]], shape=(3, 3), dtype=int32)\n"
     ]
    }
   ],
   "source": [
    "var_two3 = tf.constant([\n",
    "    [1,2,3],\n",
    "    [4,5,6],\n",
    "    [7,8,9]])\n",
    "\n",
    "print(var_two3)"
   ]
  },
  {
   "cell_type": "code",
   "execution_count": 8,
   "metadata": {
    "colab": {
     "base_uri": "https://localhost:8080/"
    },
    "id": "kgxMo70l-GlC",
    "outputId": "c0bae190-2122-4165-843b-073cc86c5fac"
   },
   "outputs": [
    {
     "name": "stdout",
     "output_type": "stream",
     "text": [
      "tf.Tensor([1 2 3 4 5], shape=(5,), dtype=int32)\n"
     ]
    }
   ],
   "source": [
    "var_list = tf.constant([*range(1,6)])\n",
    "\n",
    "print(var_list)"
   ]
  },
  {
   "cell_type": "code",
   "execution_count": 9,
   "metadata": {
    "colab": {
     "base_uri": "https://localhost:8080/"
    },
    "id": "mtDaDwqS-X57",
    "outputId": "8da32908-b425-4dff-8aae-c11d87031f7d"
   },
   "outputs": [
    {
     "name": "stdout",
     "output_type": "stream",
     "text": [
      "tf.Tensor(\n",
      "[[ 1  2  3  4  5]\n",
      " [ 6  7  8  9 10]], shape=(2, 5), dtype=int32)\n"
     ]
    }
   ],
   "source": [
    "var_list2 = tf.constant([[*range(1,6)],[*range(6,11)]])\n",
    "\n",
    "print(var_list2)"
   ]
  },
  {
   "cell_type": "markdown",
   "metadata": {},
   "source": [
    "**```tf.Variable()``` is a variable that you can defined it more than once**"
   ]
  },
  {
   "cell_type": "code",
   "execution_count": 10,
   "metadata": {
    "colab": {
     "base_uri": "https://localhost:8080/"
    },
    "id": "apFRp3sS-isR",
    "outputId": "9f92fc85-6071-4c21-de54-ef13d575a619"
   },
   "outputs": [
    {
     "name": "stdout",
     "output_type": "stream",
     "text": [
      "<tf.Variable 'Variable:0' shape=() dtype=int32, numpy=10>\n"
     ]
    }
   ],
   "source": [
    "var_zero = tf.Variable(10)\n",
    "\n",
    "print(var_zero)"
   ]
  },
  {
   "cell_type": "code",
   "execution_count": 11,
   "metadata": {
    "colab": {
     "base_uri": "https://localhost:8080/"
    },
    "id": "HvcK9KXu-qHc",
    "outputId": "87573bd9-e8bf-4c78-8ebb-6aa9f0c90ced"
   },
   "outputs": [
    {
     "name": "stdout",
     "output_type": "stream",
     "text": [
      "<tf.Variable 'Variable:0' shape=(1,) dtype=int32, numpy=array([10], dtype=int32)>\n"
     ]
    }
   ],
   "source": [
    "var_one = tf.Variable([10])\n",
    "\n",
    "print(var_one)"
   ]
  },
  {
   "cell_type": "code",
   "execution_count": 12,
   "metadata": {
    "colab": {
     "base_uri": "https://localhost:8080/"
    },
    "id": "R04GKraK_dLO",
    "outputId": "79a4e91c-39dc-431c-d608-af4b55e943bb"
   },
   "outputs": [
    {
     "name": "stdout",
     "output_type": "stream",
     "text": [
      "tf.Tensor([[10 10]], shape=(1, 2), dtype=int32)\n"
     ]
    }
   ],
   "source": [
    "var_twov = tf.Variable([[1,2],[3,4]])\n",
    "\n",
    "print(var_two)"
   ]
  },
  {
   "cell_type": "code",
   "execution_count": 13,
   "metadata": {
    "colab": {
     "base_uri": "https://localhost:8080/"
    },
    "id": "iciB2QXNANeq",
    "outputId": "80356838-e9be-4613-fef8-3670fa24635f"
   },
   "outputs": [
    {
     "name": "stdout",
     "output_type": "stream",
     "text": [
      "<tf.Variable 'Variable:0' shape=() dtype=int32, numpy=10>\n"
     ]
    }
   ],
   "source": [
    "chng_x = tf.Variable(10)\n",
    "\n",
    "print(chng_x)"
   ]
  },
  {
   "cell_type": "code",
   "execution_count": 14,
   "metadata": {
    "colab": {
     "base_uri": "https://localhost:8080/"
    },
    "id": "xeaRPx4xAXb4",
    "outputId": "e7cf720a-895e-4160-b317-5a66e072e28e"
   },
   "outputs": [
    {
     "name": "stdout",
     "output_type": "stream",
     "text": [
      "<tf.Variable 'Variable:0' shape=() dtype=int32, numpy=50>\n"
     ]
    }
   ],
   "source": [
    "try:\n",
    "    chng_x.assign(50)\n",
    "    print(chng_x)\n",
    "except:\n",
    "    print(\"Unavailable Method !\")"
   ]
  },
  {
   "cell_type": "code",
   "execution_count": 15,
   "metadata": {
    "colab": {
     "base_uri": "https://localhost:8080/"
    },
    "id": "RdKk7QwNAigh",
    "outputId": "3ddd1f3c-6dad-4008-abde-29d2a7cc40c8"
   },
   "outputs": [
    {
     "name": "stdout",
     "output_type": "stream",
     "text": [
      "Unavailable method !\n"
     ]
    }
   ],
   "source": [
    "cnst_x = tf.constant(50)\n",
    "\n",
    "try:\n",
    "    cnst_x.assign(100)\n",
    "    print(cnst_x)\n",
    "except:\n",
    "    print(\"Unavailable method !\")"
   ]
  },
  {
   "cell_type": "markdown",
   "metadata": {},
   "source": [
    "**Create special random tensor**"
   ]
  },
  {
   "cell_type": "markdown",
   "metadata": {},
   "source": [
    "**```tf.random.uniform()``` is a special method to create a random tensor based on Uniform Distribution**"
   ]
  },
  {
   "cell_type": "code",
   "execution_count": 16,
   "metadata": {
    "colab": {
     "base_uri": "https://localhost:8080/"
    },
    "id": "VinSsyHmBDd2",
    "outputId": "91726399-2ebc-4fa3-d307-9578b2e2472b"
   },
   "outputs": [
    {
     "name": "stdout",
     "output_type": "stream",
     "text": [
      "tf.Tensor(\n",
      "[[2.6043315 2.5451856]\n",
      " [1.4255922 2.1423936]], shape=(2, 2), dtype=float32)\n"
     ]
    }
   ],
   "source": [
    "# shape, minval, maxval\n",
    "random_uniform = tf.random.uniform(shape=[2,2], minval=1, maxval=4)\n",
    "\n",
    "print(random_uniform)"
   ]
  },
  {
   "cell_type": "code",
   "execution_count": 17,
   "metadata": {
    "colab": {
     "base_uri": "https://localhost:8080/"
    },
    "id": "e_bXVgq9BkeC",
    "outputId": "822bb903-f88f-461e-b7f1-7ae6779b384d"
   },
   "outputs": [
    {
     "name": "stdout",
     "output_type": "stream",
     "text": [
      "tf.Tensor(\n",
      "[[2 1]\n",
      " [3 1]], shape=(2, 2), dtype=int32)\n"
     ]
    }
   ],
   "source": [
    "# shape, minval, maxval\n",
    "random_uniform = tf.random.uniform(shape=[2,2], minval=1, maxval=4, dtype=tf.int32)\n",
    "\n",
    "print(random_uniform)"
   ]
  },
  {
   "cell_type": "code",
   "execution_count": 18,
   "metadata": {
    "colab": {
     "base_uri": "https://localhost:8080/"
    },
    "id": "56DubdXjCz9Z",
    "outputId": "bd4f9eaa-cb2b-4f9a-e5d4-10a95203e59a"
   },
   "outputs": [
    {
     "name": "stdout",
     "output_type": "stream",
     "text": [
      "tf.Tensor(\n",
      "[[1 1]\n",
      " [2 3]], shape=(2, 2), dtype=int32)\n"
     ]
    }
   ],
   "source": [
    "random_uniform = tf.random.uniform(shape=[2,2], minval=1, maxval=4, dtype=tf.int32)\n",
    "\n",
    "print(random_uniform)"
   ]
  },
  {
   "cell_type": "code",
   "execution_count": 19,
   "metadata": {
    "colab": {
     "base_uri": "https://localhost:8080/"
    },
    "id": "DDzNKtdODBID",
    "outputId": "71835529-a817-432d-dde2-d3e6403e71d5"
   },
   "outputs": [
    {
     "name": "stdout",
     "output_type": "stream",
     "text": [
      "tf.Tensor([[0.6645621  0.44100678]], shape=(1, 2), dtype=float32)\n"
     ]
    }
   ],
   "source": [
    "tf.random.set_seed(42)\n",
    "\n",
    "rand_uniform = tf.random.uniform(shape=[1,2])\n",
    "\n",
    "print(rand_uniform)"
   ]
  },
  {
   "cell_type": "code",
   "execution_count": 20,
   "metadata": {
    "colab": {
     "base_uri": "https://localhost:8080/"
    },
    "id": "o0OrJoRzDyae",
    "outputId": "62b93350-3dd2-4e68-e643-7800ec9a162b"
   },
   "outputs": [
    {
     "name": "stdout",
     "output_type": "stream",
     "text": [
      "tf.Tensor([[0.6645621  0.44100678]], shape=(1, 2), dtype=float32)\n"
     ]
    }
   ],
   "source": [
    "tf.random.set_seed(42)\n",
    "\n",
    "rand_uniform = tf.random.uniform(shape=[1,2])\n",
    "\n",
    "print(rand_uniform)"
   ]
  },
  {
   "cell_type": "markdown",
   "metadata": {},
   "source": [
    "**```tf.random.normal()``` is a special method to create a random tensor based on Normal Distribution**"
   ]
  },
  {
   "cell_type": "code",
   "execution_count": 21,
   "metadata": {
    "colab": {
     "base_uri": "https://localhost:8080/"
    },
    "id": "rcrZBrxJJoE0",
    "outputId": "854fd807-5fc8-4550-d1df-13bd3ab6d798"
   },
   "outputs": [
    {
     "name": "stdout",
     "output_type": "stream",
     "text": [
      "tf.Tensor(\n",
      "[[ 0.08422458 -0.86090374]\n",
      " [ 0.37812304 -0.00519627]], shape=(2, 2), dtype=float32)\n"
     ]
    }
   ],
   "source": [
    "rand_norm = tf.random.normal(shape=[2,2], mean=0, stddev=1)\n",
    "\n",
    "print(rand_norm)"
   ]
  },
  {
   "cell_type": "code",
   "execution_count": 22,
   "metadata": {
    "colab": {
     "base_uri": "https://localhost:8080/"
    },
    "id": "xvMo9Gh2MNVw",
    "outputId": "297bf1f7-56a7-4b62-e3b6-eb83cebc2df7"
   },
   "outputs": [
    {
     "name": "stdout",
     "output_type": "stream",
     "text": [
      "tf.Tensor(\n",
      "[[-0.8757808   0.3356369 ]\n",
      " [-0.35219625 -0.3031456 ]], shape=(2, 2), dtype=float32)\n"
     ]
    }
   ],
   "source": [
    "tf.random.set_seed(10)\n",
    "\n",
    "rand_norm = tf.random.normal(shape=[2,2], mean=0, stddev=1)\n",
    "\n",
    "print(rand_norm)"
   ]
  },
  {
   "cell_type": "code",
   "execution_count": 23,
   "metadata": {
    "colab": {
     "base_uri": "https://localhost:8080/"
    },
    "id": "TuzfuRm_MUge",
    "outputId": "09353250-8abb-4be7-b98b-3802ca7907ec"
   },
   "outputs": [
    {
     "name": "stdout",
     "output_type": "stream",
     "text": [
      "tf.Tensor(\n",
      "[[-0.8757808   0.3356369 ]\n",
      " [-0.35219625 -0.3031456 ]], shape=(2, 2), dtype=float32)\n"
     ]
    }
   ],
   "source": [
    "tf.random.set_seed(10)\n",
    "\n",
    "rand_norm = tf.random.normal(shape=[2,2], mean=0, stddev=1)\n",
    "\n",
    "print(rand_norm)"
   ]
  },
  {
   "cell_type": "markdown",
   "metadata": {},
   "source": [
    "**Create special Tensor**"
   ]
  },
  {
   "cell_type": "code",
   "execution_count": 24,
   "metadata": {
    "colab": {
     "base_uri": "https://localhost:8080/"
    },
    "id": "YsU95HJFMZt1",
    "outputId": "55f9878d-d3d8-4953-a5c8-75828be0ec8b"
   },
   "outputs": [
    {
     "name": "stdout",
     "output_type": "stream",
     "text": [
      "tf.Tensor(\n",
      "[[1 1]\n",
      " [1 1]], shape=(2, 2), dtype=int32)\n"
     ]
    }
   ],
   "source": [
    "one = tf.ones([2,2], dtype=tf.int32)\n",
    "\n",
    "print(one)"
   ]
  },
  {
   "cell_type": "code",
   "execution_count": 1,
   "metadata": {
    "colab": {
     "base_uri": "https://localhost:8080/"
    },
    "id": "wQv0uMiKMhQ1",
    "outputId": "d3d63583-a32f-4eba-ad12-f80f2e697c5a"
   },
   "outputs": [
    {
     "ename": "NameError",
     "evalue": "name 'tf' is not defined",
     "output_type": "error",
     "traceback": [
      "\u001b[1;31m---------------------------------------------------------------------------\u001b[0m",
      "\u001b[1;31mNameError\u001b[0m                                 Traceback (most recent call last)",
      "\u001b[1;32m~\\AppData\\Local\\Temp/ipykernel_16168/641872079.py\u001b[0m in \u001b[0;36m<module>\u001b[1;34m\u001b[0m\n\u001b[1;32m----> 1\u001b[1;33m \u001b[0mzero\u001b[0m \u001b[1;33m=\u001b[0m \u001b[0mtf\u001b[0m\u001b[1;33m.\u001b[0m\u001b[0mzeros\u001b[0m\u001b[1;33m(\u001b[0m\u001b[1;33m[\u001b[0m\u001b[1;36m2\u001b[0m\u001b[1;33m,\u001b[0m\u001b[1;36m2\u001b[0m\u001b[1;33m]\u001b[0m\u001b[1;33m)\u001b[0m\u001b[1;33m\u001b[0m\u001b[1;33m\u001b[0m\u001b[0m\n\u001b[0m\u001b[0;32m      2\u001b[0m \u001b[1;33m\u001b[0m\u001b[0m\n\u001b[0;32m      3\u001b[0m \u001b[0mprint\u001b[0m\u001b[1;33m(\u001b[0m\u001b[0mzero\u001b[0m\u001b[1;33m)\u001b[0m\u001b[1;33m\u001b[0m\u001b[1;33m\u001b[0m\u001b[0m\n",
      "\u001b[1;31mNameError\u001b[0m: name 'tf' is not defined"
     ]
    }
   ],
   "source": [
    "zero = tf.zeros([2,2])\n",
    "\n",
    "print(zero)"
   ]
  },
  {
   "cell_type": "markdown",
   "metadata": {},
   "source": [
    "**Create Tensor from Numerical Python**"
   ]
  },
  {
   "cell_type": "code",
   "execution_count": 26,
   "metadata": {
    "colab": {
     "base_uri": "https://localhost:8080/"
    },
    "id": "0lFzhMpHMq_o",
    "outputId": "6f0881d8-06e9-47e0-e7c5-f359479170ac"
   },
   "outputs": [
    {
     "name": "stdout",
     "output_type": "stream",
     "text": [
      "<tf.Variable 'Variable:0' shape=(5,) dtype=int64, numpy=array([1, 2, 3, 4, 5])>\n"
     ]
    }
   ],
   "source": [
    "import numpy as np\n",
    "\n",
    "arr = np.array([*range(1,6)])\n",
    "tf_arr = tf.Variable(arr)\n",
    "\n",
    "print(tf_arr)"
   ]
  },
  {
   "cell_type": "markdown",
   "metadata": {},
   "source": [
    "**Get information from Tensor**"
   ]
  },
  {
   "cell_type": "code",
   "execution_count": 27,
   "metadata": {
    "colab": {
     "base_uri": "https://localhost:8080/"
    },
    "id": "U0IRXzncNmAJ",
    "outputId": "226664a8-29f9-4aee-bfcb-55256697c7c6"
   },
   "outputs": [
    {
     "name": "stdout",
     "output_type": "stream",
     "text": [
      "tf.Tensor(\n",
      "[[1 2 3]\n",
      " [4 5 6]], shape=(2, 3), dtype=int32)\n"
     ]
    }
   ],
   "source": [
    "var_rand = tf.constant([[1,2,3],[4,5,6]])\n",
    "\n",
    "print(var_rand)"
   ]
  },
  {
   "cell_type": "code",
   "execution_count": 28,
   "metadata": {
    "colab": {
     "base_uri": "https://localhost:8080/"
    },
    "id": "OTTwoAzONwUb",
    "outputId": "7c23aab7-ef8b-4f49-b57e-2c529099bf55"
   },
   "outputs": [
    {
     "name": "stdout",
     "output_type": "stream",
     "text": [
      "2\n"
     ]
    }
   ],
   "source": [
    "print(var_rand.ndim)"
   ]
  },
  {
   "cell_type": "code",
   "execution_count": 29,
   "metadata": {
    "colab": {
     "base_uri": "https://localhost:8080/"
    },
    "id": "Y_DDRT71N5wz",
    "outputId": "cabbddd4-0ba5-4770-dea4-011528d7d06f"
   },
   "outputs": [
    {
     "name": "stdout",
     "output_type": "stream",
     "text": [
      "(2, 3)\n"
     ]
    }
   ],
   "source": [
    "print(var_rand.shape)"
   ]
  },
  {
   "cell_type": "code",
   "execution_count": 30,
   "metadata": {
    "colab": {
     "base_uri": "https://localhost:8080/"
    },
    "id": "9tD1CJUwOE06",
    "outputId": "7dde90b8-2efe-48fc-ff7a-78fba59d954c"
   },
   "outputs": [
    {
     "name": "stdout",
     "output_type": "stream",
     "text": [
      "[[1 2 3]\n",
      " [4 5 6]]\n"
     ]
    }
   ],
   "source": [
    "print(var_rand.numpy())"
   ]
  },
  {
   "cell_type": "code",
   "execution_count": 31,
   "metadata": {
    "colab": {
     "base_uri": "https://localhost:8080/"
    },
    "id": "tOcTL2hHOJoX",
    "outputId": "e6282b4b-fb36-437d-c641-7c350a9ca2f2"
   },
   "outputs": [
    {
     "name": "stdout",
     "output_type": "stream",
     "text": [
      "tf.Tensor(\n",
      "[[1 2 3]\n",
      " [4 5 6]\n",
      " [7 8 9]], shape=(3, 3), dtype=int32)\n"
     ]
    }
   ],
   "source": [
    "rand = tf.constant([[1,2,3],[4,5,6],[7,8,9]])\n",
    "\n",
    "print(rand)"
   ]
  },
  {
   "cell_type": "markdown",
   "metadata": {},
   "source": [
    "**Accessing Tensor**"
   ]
  },
  {
   "cell_type": "code",
   "execution_count": 32,
   "metadata": {
    "colab": {
     "base_uri": "https://localhost:8080/"
    },
    "id": "lrYR6LogON-m",
    "outputId": "f3c470e6-4cc6-4e86-9394-888aa8aeeb83"
   },
   "outputs": [
    {
     "name": "stdout",
     "output_type": "stream",
     "text": [
      "tf.Tensor([1 2 3], shape=(3,), dtype=int32)\n"
     ]
    }
   ],
   "source": [
    "print(rand[0])"
   ]
  },
  {
   "cell_type": "code",
   "execution_count": 33,
   "metadata": {
    "colab": {
     "base_uri": "https://localhost:8080/"
    },
    "id": "P9slxSH4ORRc",
    "outputId": "7d6ca8fa-5a73-4a8c-9be7-1bba81566a5b"
   },
   "outputs": [
    {
     "name": "stdout",
     "output_type": "stream",
     "text": [
      "tf.Tensor([[1 2 3]], shape=(1, 3), dtype=int32)\n"
     ]
    }
   ],
   "source": [
    "print(rand[:1])"
   ]
  },
  {
   "cell_type": "code",
   "execution_count": 34,
   "metadata": {
    "colab": {
     "base_uri": "https://localhost:8080/"
    },
    "id": "WUR972TBOYLu",
    "outputId": "bda8f95e-fc91-49de-d467-c3841051b2f2"
   },
   "outputs": [
    {
     "name": "stdout",
     "output_type": "stream",
     "text": [
      "tf.Tensor(\n",
      "[[1 2 3]\n",
      " [4 5 6]], shape=(2, 3), dtype=int32)\n"
     ]
    }
   ],
   "source": [
    "print(rand[0:2])"
   ]
  },
  {
   "cell_type": "code",
   "execution_count": 35,
   "metadata": {
    "colab": {
     "base_uri": "https://localhost:8080/"
    },
    "id": "-RtJA_hKOiN8",
    "outputId": "1b9b616d-f012-4ea7-b1d4-81f953e0126b"
   },
   "outputs": [
    {
     "name": "stdout",
     "output_type": "stream",
     "text": [
      "tf.Tensor([1 4 7], shape=(3,), dtype=int32)\n"
     ]
    }
   ],
   "source": [
    "print(rand[:,0])"
   ]
  },
  {
   "cell_type": "code",
   "execution_count": 36,
   "metadata": {
    "colab": {
     "base_uri": "https://localhost:8080/"
    },
    "id": "NdsGGcdsOrch",
    "outputId": "f163f9e3-8209-4256-8b5f-aa296d6d94d4"
   },
   "outputs": [
    {
     "name": "stdout",
     "output_type": "stream",
     "text": [
      "tf.Tensor(5, shape=(), dtype=int32)\n"
     ]
    }
   ],
   "source": [
    "print(rand[1,1])"
   ]
  },
  {
   "cell_type": "markdown",
   "metadata": {},
   "source": [
    "**Tensor Operation**"
   ]
  },
  {
   "cell_type": "code",
   "execution_count": 37,
   "metadata": {
    "colab": {
     "base_uri": "https://localhost:8080/"
    },
    "id": "IJIrqKSJOvRO",
    "outputId": "c385394a-7897-44df-9806-2c95837e3eaa"
   },
   "outputs": [
    {
     "name": "stdout",
     "output_type": "stream",
     "text": [
      "tf.Tensor([1 3 5 7 9], shape=(5,), dtype=int32)\n",
      "tf.Tensor([9 7 5 3 1], shape=(5,), dtype=int32)\n"
     ]
    }
   ],
   "source": [
    "tf_1 = tf.constant([*range(1,10,2)])\n",
    "tf_2 = tf.constant([*range(9,0,-2)])\n",
    "\n",
    "print(tf_1)\n",
    "print(tf_2)"
   ]
  },
  {
   "cell_type": "code",
   "execution_count": 38,
   "metadata": {
    "colab": {
     "base_uri": "https://localhost:8080/"
    },
    "id": "dn1uOW58PR8O",
    "outputId": "c6d14093-d508-41a6-f8a6-4644f5607535"
   },
   "outputs": [
    {
     "name": "stdout",
     "output_type": "stream",
     "text": [
      "tf.Tensor([ 2  4  6  8 10], shape=(5,), dtype=int32)\n"
     ]
    }
   ],
   "source": [
    "print(tf_1 + 1)"
   ]
  },
  {
   "cell_type": "code",
   "execution_count": 39,
   "metadata": {
    "colab": {
     "base_uri": "https://localhost:8080/"
    },
    "id": "wvBtknKPPyrv",
    "outputId": "3338beb9-62d2-4b38-d7d8-e3e559cabaf3"
   },
   "outputs": [
    {
     "name": "stdout",
     "output_type": "stream",
     "text": [
      "tf.Tensor([0 2 4 6 8], shape=(5,), dtype=int32)\n"
     ]
    }
   ],
   "source": [
    "print(tf_1 - 1)"
   ]
  },
  {
   "cell_type": "code",
   "execution_count": 40,
   "metadata": {
    "colab": {
     "base_uri": "https://localhost:8080/"
    },
    "id": "UF8TfINhP12B",
    "outputId": "59a3a69b-97d0-4141-a967-06c06145c1c6"
   },
   "outputs": [
    {
     "name": "stdout",
     "output_type": "stream",
     "text": [
      "tf.Tensor([10 30 50 70 90], shape=(5,), dtype=int32)\n"
     ]
    }
   ],
   "source": [
    "print(tf_1 * 10)"
   ]
  },
  {
   "cell_type": "code",
   "execution_count": 41,
   "metadata": {
    "colab": {
     "base_uri": "https://localhost:8080/"
    },
    "id": "9WkCNZQiQN6b",
    "outputId": "ef06cf93-ac53-455a-9345-79a41d28f84e"
   },
   "outputs": [
    {
     "name": "stdout",
     "output_type": "stream",
     "text": [
      "tf.Tensor([0.5 1.5 2.5 3.5 4.5], shape=(5,), dtype=float64)\n"
     ]
    }
   ],
   "source": [
    "print(tf_1 / 2)"
   ]
  },
  {
   "cell_type": "code",
   "execution_count": 42,
   "metadata": {
    "colab": {
     "base_uri": "https://localhost:8080/"
    },
    "id": "a7PXR_k8Qd3e",
    "outputId": "e06a6532-43b5-41d5-9f43-1256dc53a94d"
   },
   "outputs": [
    {
     "name": "stdout",
     "output_type": "stream",
     "text": [
      "tf.Tensor([10 10 10 10 10], shape=(5,), dtype=int32)\n"
     ]
    }
   ],
   "source": [
    "print(tf.math.add(tf_1, tf_2))"
   ]
  },
  {
   "cell_type": "code",
   "execution_count": 43,
   "metadata": {
    "colab": {
     "base_uri": "https://localhost:8080/"
    },
    "id": "79znw3XmQpjL",
    "outputId": "6e859149-ad7b-4471-b564-51d5b8fb0974"
   },
   "outputs": [
    {
     "name": "stdout",
     "output_type": "stream",
     "text": [
      "tf.Tensor([-8 -4  0  4  8], shape=(5,), dtype=int32)\n"
     ]
    }
   ],
   "source": [
    "print(tf.math.subtract(tf_1, tf_2))"
   ]
  },
  {
   "cell_type": "code",
   "execution_count": 44,
   "metadata": {
    "colab": {
     "base_uri": "https://localhost:8080/"
    },
    "id": "f0PRPW8GRETn",
    "outputId": "de8c414b-faeb-467a-bc95-ad81b39a70ad"
   },
   "outputs": [
    {
     "name": "stdout",
     "output_type": "stream",
     "text": [
      "tf.Tensor([10 30 50 70 90], shape=(5,), dtype=int32)\n"
     ]
    }
   ],
   "source": [
    "print(tf.math.multiply(tf_1,10))"
   ]
  },
  {
   "cell_type": "code",
   "execution_count": 45,
   "metadata": {
    "colab": {
     "base_uri": "https://localhost:8080/"
    },
    "id": "zDqY0dalRMLy",
    "outputId": "b57e03df-cb86-4594-91a3-bae560cf5327"
   },
   "outputs": [
    {
     "name": "stdout",
     "output_type": "stream",
     "text": [
      "tf.Tensor([ 9 21 25 21  9], shape=(5,), dtype=int32)\n"
     ]
    }
   ],
   "source": [
    "print(tf.math.multiply(tf_1, tf_2))"
   ]
  },
  {
   "cell_type": "code",
   "execution_count": 46,
   "metadata": {
    "colab": {
     "base_uri": "https://localhost:8080/"
    },
    "id": "rPRxMjJoSXDN",
    "outputId": "6a82ef50-92e1-4c50-d5f4-e9f87c200fc4"
   },
   "outputs": [
    {
     "name": "stdout",
     "output_type": "stream",
     "text": [
      "tf.Tensor([1 3 5 3 1], shape=(5,), dtype=int32)\n"
     ]
    }
   ],
   "source": [
    "print(tf.math.minimum(tf_1, tf_2))"
   ]
  },
  {
   "cell_type": "code",
   "execution_count": 47,
   "metadata": {
    "colab": {
     "base_uri": "https://localhost:8080/"
    },
    "id": "-8tUM9DSSZcZ",
    "outputId": "c1b1e830-c654-480f-f864-cbd9ff231fb0"
   },
   "outputs": [
    {
     "name": "stdout",
     "output_type": "stream",
     "text": [
      "tf.Tensor([9 7 5 7 9], shape=(5,), dtype=int32)\n"
     ]
    }
   ],
   "source": [
    "print(tf.math.maximum(tf_1, tf_2))"
   ]
  },
  {
   "cell_type": "code",
   "execution_count": 48,
   "metadata": {
    "colab": {
     "base_uri": "https://localhost:8080/"
    },
    "id": "2zJPVxxiSgV4",
    "outputId": "7abda7f7-01ce-4149-b382-54a05a187886"
   },
   "outputs": [
    {
     "name": "stdout",
     "output_type": "stream",
     "text": [
      "tf.Tensor(\n",
      "[[19 22]\n",
      " [43 50]], shape=(2, 2), dtype=int32)\n"
     ]
    }
   ],
   "source": [
    "tf_x = tf.constant([[1,2],[3,4]])\n",
    "tf_y = tf.constant([[5,6],[7,8]])\n",
    "\n",
    "print(tf.linalg.matmul(tf_x, tf_y))"
   ]
  },
  {
   "cell_type": "code",
   "execution_count": 49,
   "metadata": {
    "colab": {
     "base_uri": "https://localhost:8080/"
    },
    "id": "3jfKl58gTwjT",
    "outputId": "1cec4478-ffd3-4fb1-d3a4-53f3d6a8ceba"
   },
   "outputs": [
    {
     "name": "stdout",
     "output_type": "stream",
     "text": [
      "tf.Tensor(\n",
      "[[19 22]\n",
      " [43 50]], shape=(2, 2), dtype=int32)\n"
     ]
    }
   ],
   "source": [
    "print(tf_x @ tf_y)"
   ]
  },
  {
   "cell_type": "code",
   "execution_count": 50,
   "metadata": {
    "colab": {
     "base_uri": "https://localhost:8080/"
    },
    "id": "9FZv-O0UUHEs",
    "outputId": "66583990-e906-418b-eb9e-8356ddfd61f8"
   },
   "outputs": [
    {
     "name": "stdout",
     "output_type": "stream",
     "text": [
      "tf.Tensor(\n",
      "[[0.55478156 0.42658198 0.14140713]\n",
      " [0.703694   0.3726666  0.6976985 ]], shape=(2, 3), dtype=float32)\n"
     ]
    }
   ],
   "source": [
    "tf_rand = tf.random.uniform(shape=[2,3])\n",
    "\n",
    "print(tf_rand)"
   ]
  },
  {
   "cell_type": "markdown",
   "metadata": {},
   "source": [
    "**Tensor Reshape**"
   ]
  },
  {
   "cell_type": "code",
   "execution_count": 51,
   "metadata": {
    "colab": {
     "base_uri": "https://localhost:8080/"
    },
    "id": "kmEcxexGUI5Z",
    "outputId": "60f09fea-65b3-47ec-ea5b-06bf789a58bb"
   },
   "outputs": [
    {
     "name": "stdout",
     "output_type": "stream",
     "text": [
      "tf.Tensor(\n",
      "[[0.55478156 0.42658198]\n",
      " [0.14140713 0.703694  ]\n",
      " [0.3726666  0.6976985 ]], shape=(3, 2), dtype=float32)\n"
     ]
    }
   ],
   "source": [
    "tf_rand_reshape = tf.reshape(tf_rand, shape=(3,2))\n",
    "\n",
    "print(tf_rand_reshape)"
   ]
  },
  {
   "cell_type": "code",
   "execution_count": 52,
   "metadata": {
    "colab": {
     "base_uri": "https://localhost:8080/"
    },
    "id": "I5SCVt_yUpOc",
    "outputId": "897e4c30-b7e3-44c4-b792-57a0ddd72477"
   },
   "outputs": [
    {
     "name": "stdout",
     "output_type": "stream",
     "text": [
      "tf.Tensor(\n",
      "[[0.55478156 0.14140713 0.3726666 ]\n",
      " [0.42658198 0.703694   0.6976985 ]], shape=(2, 3), dtype=float32)\n"
     ]
    }
   ],
   "source": [
    "print(tf.transpose(tf_rand_reshape))"
   ]
  },
  {
   "cell_type": "code",
   "execution_count": 53,
   "metadata": {
    "colab": {
     "base_uri": "https://localhost:8080/"
    },
    "id": "booMAcMcUssh",
    "outputId": "348be453-284a-41b0-a841-1bec827e0343"
   },
   "outputs": [
    {
     "name": "stdout",
     "output_type": "stream",
     "text": [
      "tf.Tensor([ 0  8  0  4 18  3  5 14 14  3], shape=(10,), dtype=int64)\n"
     ]
    }
   ],
   "source": [
    "arr = tf.constant(np.random.randint(0,20, size=10))\n",
    "print(arr)"
   ]
  },
  {
   "cell_type": "markdown",
   "metadata": {},
   "source": [
    "**Aggregate Tensor**"
   ]
  },
  {
   "cell_type": "code",
   "execution_count": 54,
   "metadata": {
    "colab": {
     "base_uri": "https://localhost:8080/"
    },
    "id": "MotEBW2aJT8t",
    "outputId": "95a9c671-15a8-4ce0-e10c-38584587ddbf"
   },
   "outputs": [
    {
     "name": "stdout",
     "output_type": "stream",
     "text": [
      "tf.Tensor(0, shape=(), dtype=int64)\n",
      "tf.Tensor(18, shape=(), dtype=int64)\n",
      "tf.Tensor(6, shape=(), dtype=int64)\n",
      "tf.Tensor(4, shape=(), dtype=int64)\n",
      "tf.Tensor(0, shape=(), dtype=int64)\n"
     ]
    }
   ],
   "source": [
    "print(tf.reduce_min(arr))\n",
    "print(tf.reduce_max(arr))\n",
    "print(tf.reduce_mean(arr))\n",
    "print(tf.math.argmax(arr))\n",
    "print(tf.math.argmin(arr))"
   ]
  },
  {
   "cell_type": "markdown",
   "metadata": {},
   "source": [
    "**One Hot Encoding**"
   ]
  },
  {
   "cell_type": "code",
   "execution_count": 55,
   "metadata": {
    "colab": {
     "base_uri": "https://localhost:8080/"
    },
    "id": "nJzhUMzrJe6d",
    "outputId": "8b843337-70e7-4bed-ae14-72da436a4134"
   },
   "outputs": [
    {
     "data": {
      "text/plain": [
       "<tf.Tensor: shape=(3, 3), dtype=float32, numpy=\n",
       "array([[1., 0., 0.],\n",
       "       [0., 1., 0.],\n",
       "       [0., 0., 1.]], dtype=float32)>"
      ]
     },
     "execution_count": 55,
     "metadata": {},
     "output_type": "execute_result"
    }
   ],
   "source": [
    "# One hot encoding\n",
    "food = [0,1,2]\n",
    "tf.one_hot(food, depth=3)"
   ]
  }
 ],
 "metadata": {
  "colab": {
   "authorship_tag": "ABX9TyO7PMTQeUkXTNiw5luhIhCf",
   "name": "Introduction to TensorFlow.ipynb",
   "provenance": []
  },
  "kernelspec": {
   "display_name": "Python 3 (ipykernel)",
   "language": "python",
   "name": "python3"
  },
  "language_info": {
   "codemirror_mode": {
    "name": "ipython",
    "version": 3
   },
   "file_extension": ".py",
   "mimetype": "text/x-python",
   "name": "python",
   "nbconvert_exporter": "python",
   "pygments_lexer": "ipython3",
   "version": "3.9.7"
  }
 },
 "nbformat": 4,
 "nbformat_minor": 1
}
