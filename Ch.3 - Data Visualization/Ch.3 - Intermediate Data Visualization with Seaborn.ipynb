{
 "cells": [
  {
   "cell_type": "markdown",
   "id": "abb44078",
   "metadata": {},
   "source": [
    "### 1 - Seaborn Introduction"
   ]
  },
  {
   "cell_type": "markdown",
   "id": "63973538",
   "metadata": {},
   "source": [
    "### 2 - Customizing Seaborn Plots"
   ]
  },
  {
   "cell_type": "markdown",
   "id": "977ea3e5",
   "metadata": {},
   "source": [
    "### 3 - Additional Plot Types"
   ]
  },
  {
   "cell_type": "markdown",
   "id": "83066736",
   "metadata": {},
   "source": [
    "### 4 - Creating Plots on Data Aware Grids"
   ]
  }
 ],
 "metadata": {
  "kernelspec": {
   "display_name": "Python 3 (ipykernel)",
   "language": "python",
   "name": "python3"
  },
  "language_info": {
   "codemirror_mode": {
    "name": "ipython",
    "version": 3
   },
   "file_extension": ".py",
   "mimetype": "text/x-python",
   "name": "python",
   "nbconvert_exporter": "python",
   "pygments_lexer": "ipython3",
   "version": "3.9.7"
  }
 },
 "nbformat": 4,
 "nbformat_minor": 5
}
