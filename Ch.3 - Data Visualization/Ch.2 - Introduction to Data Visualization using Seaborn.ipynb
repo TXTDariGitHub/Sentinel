{
 "cells": [
  {
   "cell_type": "code",
   "execution_count": 1,
   "id": "43317aae",
   "metadata": {},
   "outputs": [],
   "source": [
    "import matplotlib.pyplot as plt\n",
    "import seaborn as sns\n",
    "import pandas as pd"
   ]
  },
  {
   "cell_type": "markdown",
   "id": "5f69a491",
   "metadata": {},
   "source": [
    "### 1 - Introduction to Seaborn"
   ]
  },
  {
   "cell_type": "markdown",
   "id": "8aa20b1a",
   "metadata": {},
   "source": [
    "### 2 - Visualizing Two Quantitative Variables"
   ]
  },
  {
   "cell_type": "markdown",
   "id": "ba3ffdd6",
   "metadata": {},
   "source": [
    "### 3 - Visualizing a Categorical and a Quantitative Variable"
   ]
  },
  {
   "cell_type": "markdown",
   "id": "18c98464",
   "metadata": {},
   "source": [
    "### 4 - Customizing Seaborn Plots"
   ]
  }
 ],
 "metadata": {
  "kernelspec": {
   "display_name": "Python 3 (ipykernel)",
   "language": "python",
   "name": "python3"
  },
  "language_info": {
   "codemirror_mode": {
    "name": "ipython",
    "version": 3
   },
   "file_extension": ".py",
   "mimetype": "text/x-python",
   "name": "python",
   "nbconvert_exporter": "python",
   "pygments_lexer": "ipython3",
   "version": "3.9.7"
  }
 },
 "nbformat": 4,
 "nbformat_minor": 5
}
