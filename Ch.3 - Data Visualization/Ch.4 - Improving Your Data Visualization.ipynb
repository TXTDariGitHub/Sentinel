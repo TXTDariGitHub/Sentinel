{
 "cells": [
  {
   "cell_type": "markdown",
   "id": "d8f3b093",
   "metadata": {},
   "source": [
    "### 1 - Highlighting your data"
   ]
  },
  {
   "cell_type": "markdown",
   "id": "6109dedf",
   "metadata": {},
   "source": [
    "### 2 - Using color in your visualizations"
   ]
  },
  {
   "cell_type": "markdown",
   "id": "875002dc",
   "metadata": {},
   "source": [
    "### 3 - Showing uncertainty"
   ]
  },
  {
   "cell_type": "markdown",
   "id": "adf96d3d",
   "metadata": {},
   "source": [
    "### 4 - Visualization in the data science workflow"
   ]
  }
 ],
 "metadata": {
  "kernelspec": {
   "display_name": "Python 3 (ipykernel)",
   "language": "python",
   "name": "python3"
  },
  "language_info": {
   "codemirror_mode": {
    "name": "ipython",
    "version": 3
   },
   "file_extension": ".py",
   "mimetype": "text/x-python",
   "name": "python",
   "nbconvert_exporter": "python",
   "pygments_lexer": "ipython3",
   "version": "3.9.7"
  }
 },
 "nbformat": 4,
 "nbformat_minor": 5
}
