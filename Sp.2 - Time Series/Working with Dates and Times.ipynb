{
 "cells": [
  {
   "cell_type": "markdown",
   "id": "5b4b13b0",
   "metadata": {},
   "source": [
    "### 1 - Dates and Calendar\n",
    "\n",
    "1. Dates in Python\n",
    "2. Mathematics with Dates\n",
    "3. Dates and String"
   ]
  },
  {
   "cell_type": "code",
   "execution_count": 1,
   "id": "2147fb24",
   "metadata": {},
   "outputs": [
    {
     "name": "stdout",
     "output_type": "stream",
     "text": [
      "1945-08-17\n"
     ]
    }
   ],
   "source": [
    "from datetime import date, datetime\n",
    "\n",
    "independence_day = date(1945, 8, 17)\n",
    "\n",
    "print(independence_day)"
   ]
  },
  {
   "cell_type": "code",
   "execution_count": 2,
   "id": "0abb091e",
   "metadata": {
    "scrolled": true
   },
   "outputs": [
    {
     "name": "stdout",
     "output_type": "stream",
     "text": [
      "2022-04-01\n"
     ]
    }
   ],
   "source": [
    "today = datetime.today()\n",
    "\n",
    "print(today.date())"
   ]
  },
  {
   "cell_type": "code",
   "execution_count": 3,
   "id": "44ed8a6d",
   "metadata": {
    "scrolled": true
   },
   "outputs": [
    {
     "name": "stdout",
     "output_type": "stream",
     "text": [
      "Friday\n"
     ]
    }
   ],
   "source": [
    "days = {0:'Monday',1:'Tuesday',2:'Wednesday',3:'Thursday',4:'Friday',5:'Saturday',6:'Sunday'}\n",
    "\n",
    "print(days[today.weekday()])"
   ]
  },
  {
   "cell_type": "code",
   "execution_count": 4,
   "id": "e4e3d943",
   "metadata": {},
   "outputs": [
    {
     "name": "stdout",
     "output_type": "stream",
     "text": [
      "Days : 1, Month : 4, Year : 2022\n"
     ]
    }
   ],
   "source": [
    "print(\"Days : {}, Month : {}, Year : {}\".format(today.day, today.month, today.year))"
   ]
  },
  {
   "cell_type": "code",
   "execution_count": 5,
   "id": "dc58de4a",
   "metadata": {},
   "outputs": [
    {
     "name": "stdout",
     "output_type": "stream",
     "text": [
      "<class 'datetime.datetime'>\n",
      "<class 'datetime.date'>\n"
     ]
    }
   ],
   "source": [
    "print(type(today))\n",
    "print(type(independence_day))"
   ]
  },
  {
   "cell_type": "code",
   "execution_count": 6,
   "id": "87ecb2bb",
   "metadata": {},
   "outputs": [
    {
     "name": "stdout",
     "output_type": "stream",
     "text": [
      "[datetime.date(1988, 8, 4), datetime.date(1990, 10, 12)]\n"
     ]
    }
   ],
   "source": [
    "import pandas as pd\n",
    "\n",
    "url = \"https://github.com/SophrosyneEunoia/Shockwave/blob/main/florida_hurricane_dates.pkl?raw=true\"\n",
    "\n",
    "hurricane = pd.read_pickle(url)\n",
    "\n",
    "print(hurricane[:2])"
   ]
  },
  {
   "cell_type": "code",
   "execution_count": 7,
   "id": "97da667f",
   "metadata": {},
   "outputs": [
    {
     "name": "stdout",
     "output_type": "stream",
     "text": [
      "0 0\n"
     ]
    }
   ],
   "source": [
    "early = lately = 0\n",
    "\n",
    "print(early, lately)"
   ]
  },
  {
   "cell_type": "code",
   "execution_count": 8,
   "id": "0dfabc3c",
   "metadata": {},
   "outputs": [
    {
     "name": "stdout",
     "output_type": "stream",
     "text": [
      "10 225\n"
     ]
    }
   ],
   "source": [
    "for storm in hurricane:\n",
    "    if storm.month < 6:\n",
    "        early += 1\n",
    "    else:\n",
    "        lately += 1\n",
    "        \n",
    "print(early, lately)"
   ]
  },
  {
   "cell_type": "code",
   "execution_count": 9,
   "id": "9a650023",
   "metadata": {},
   "outputs": [
    {
     "name": "stdout",
     "output_type": "stream",
     "text": [
      "{8: 49, 10: 43, 4: 1, 9: 70, 5: 8, 6: 32, 7: 21, 11: 9, 12: 1, 2: 1}\n"
     ]
    }
   ],
   "source": [
    "month = {}\n",
    "\n",
    "for storm in hurricane:\n",
    "    if storm.month in month.keys():\n",
    "        month[storm.month] += 1\n",
    "    else:\n",
    "        month[storm.month] = 1\n",
    "        \n",
    "print(month)"
   ]
  },
  {
   "cell_type": "code",
   "execution_count": 10,
   "id": "55d28126",
   "metadata": {},
   "outputs": [
    {
     "name": "stdout",
     "output_type": "stream",
     "text": [
      "218 days, 0:00:00\n",
      "218\n"
     ]
    }
   ],
   "source": [
    "start = date(2007, 5, 9)\n",
    "\n",
    "end = date(2007, 12, 13)\n",
    "\n",
    "print(end-start)\n",
    "print((end - start).days)"
   ]
  },
  {
   "cell_type": "code",
   "execution_count": 11,
   "id": "ab54f6a9",
   "metadata": {},
   "outputs": [
    {
     "name": "stdout",
     "output_type": "stream",
     "text": [
      "2022-11-20\n"
     ]
    }
   ],
   "source": [
    "tanggal = date(2022, 11, 20)\n",
    "\n",
    "print(tanggal)"
   ]
  },
  {
   "cell_type": "code",
   "execution_count": 12,
   "id": "10592c58",
   "metadata": {},
   "outputs": [
    {
     "name": "stdout",
     "output_type": "stream",
     "text": [
      "2022\n"
     ]
    }
   ],
   "source": [
    "print(tanggal.strftime(\"%Y\"))"
   ]
  },
  {
   "cell_type": "code",
   "execution_count": 13,
   "id": "524e234a",
   "metadata": {},
   "outputs": [
    {
     "name": "stdout",
     "output_type": "stream",
     "text": [
      "2022/11/20\n"
     ]
    }
   ],
   "source": [
    "print(tanggal.strftime(\"%Y/%m/%d\"))"
   ]
  },
  {
   "cell_type": "code",
   "execution_count": 14,
   "id": "feacb7b2",
   "metadata": {},
   "outputs": [
    {
     "name": "stdout",
     "output_type": "stream",
     "text": [
      "<class 'datetime.date'>\n",
      "<class 'str'>\n"
     ]
    }
   ],
   "source": [
    "tgl_str = tanggal.strftime(\"%Y/%m/%d\")\n",
    "\n",
    "print(type(tanggal))\n",
    "print(type(tgl_str))"
   ]
  },
  {
   "cell_type": "markdown",
   "id": "4446a3c0",
   "metadata": {},
   "source": [
    "Reference about strftime => <a href=\"https://docs.python.org/3/library/datetime.html#strftime-and-strptime-format-codes\" style=\"color:black; text-decoration:none\">Format Reference</a>"
   ]
  },
  {
   "cell_type": "code",
   "execution_count": 15,
   "id": "5c633471-94bf-4d12-9249-810827abeb77",
   "metadata": {},
   "outputs": [
    {
     "name": "stdout",
     "output_type": "stream",
     "text": [
      "2017-10-01 15:26:26\n",
      "2017-10-01T15:26:26\n"
     ]
    }
   ],
   "source": [
    "from datetime import datetime\n",
    "\n",
    "dt = datetime(2017, 10, 1, 15, 26, 26)\n",
    "\n",
    "print(dt)\n",
    "print(dt.isoformat())"
   ]
  },
  {
   "cell_type": "code",
   "execution_count": 16,
   "id": "589cdec8-51f2-41a3-b4ba-58a708b05ae9",
   "metadata": {},
   "outputs": [
    {
     "name": "stdout",
     "output_type": "stream",
     "text": [
      "2017-12-31 15:19:13\n",
      "1917-12-31 15:19:13\n"
     ]
    }
   ],
   "source": [
    "from datetime import datetime\n",
    "\n",
    "dt = datetime(2017, 12, 31, 15, 19, 13)\n",
    "\n",
    "dt_old = dt.replace(year=1917)\n",
    "\n",
    "print(dt)\n",
    "print(dt_old)"
   ]
  },
  {
   "cell_type": "code",
   "execution_count": 17,
   "id": "10dc9103",
   "metadata": {},
   "outputs": [
    {
     "data": {
      "text/html": [
       "<div>\n",
       "<style scoped>\n",
       "    .dataframe tbody tr th:only-of-type {\n",
       "        vertical-align: middle;\n",
       "    }\n",
       "\n",
       "    .dataframe tbody tr th {\n",
       "        vertical-align: top;\n",
       "    }\n",
       "\n",
       "    .dataframe thead th {\n",
       "        text-align: right;\n",
       "    }\n",
       "</style>\n",
       "<table border=\"1\" class=\"dataframe\">\n",
       "  <thead>\n",
       "    <tr style=\"text-align: right;\">\n",
       "      <th></th>\n",
       "      <th>Start date</th>\n",
       "      <th>End date</th>\n",
       "      <th>Start station number</th>\n",
       "      <th>Start station</th>\n",
       "      <th>End station number</th>\n",
       "      <th>End station</th>\n",
       "      <th>Bike number</th>\n",
       "      <th>Member type</th>\n",
       "    </tr>\n",
       "  </thead>\n",
       "  <tbody>\n",
       "    <tr>\n",
       "      <th>0</th>\n",
       "      <td>2017-10-01 15:23:25</td>\n",
       "      <td>2017-10-01 15:26:26</td>\n",
       "      <td>31038</td>\n",
       "      <td>Glebe Rd &amp; 11th St N</td>\n",
       "      <td>31036</td>\n",
       "      <td>George Mason Dr &amp; Wilson Blvd</td>\n",
       "      <td>W20529</td>\n",
       "      <td>Member</td>\n",
       "    </tr>\n",
       "    <tr>\n",
       "      <th>1</th>\n",
       "      <td>2017-10-01 15:42:57</td>\n",
       "      <td>2017-10-01 17:49:59</td>\n",
       "      <td>31036</td>\n",
       "      <td>George Mason Dr &amp; Wilson Blvd</td>\n",
       "      <td>31036</td>\n",
       "      <td>George Mason Dr &amp; Wilson Blvd</td>\n",
       "      <td>W20529</td>\n",
       "      <td>Casual</td>\n",
       "    </tr>\n",
       "    <tr>\n",
       "      <th>2</th>\n",
       "      <td>2017-10-02 06:37:10</td>\n",
       "      <td>2017-10-02 06:42:53</td>\n",
       "      <td>31036</td>\n",
       "      <td>George Mason Dr &amp; Wilson Blvd</td>\n",
       "      <td>31037</td>\n",
       "      <td>Ballston Metro / N Stuart &amp; 9th St N</td>\n",
       "      <td>W20529</td>\n",
       "      <td>Member</td>\n",
       "    </tr>\n",
       "    <tr>\n",
       "      <th>3</th>\n",
       "      <td>2017-10-02 08:56:45</td>\n",
       "      <td>2017-10-02 09:18:03</td>\n",
       "      <td>31037</td>\n",
       "      <td>Ballston Metro / N Stuart &amp; 9th St N</td>\n",
       "      <td>31295</td>\n",
       "      <td>Potomac &amp; M St NW</td>\n",
       "      <td>W20529</td>\n",
       "      <td>Member</td>\n",
       "    </tr>\n",
       "    <tr>\n",
       "      <th>4</th>\n",
       "      <td>2017-10-02 18:23:48</td>\n",
       "      <td>2017-10-02 18:45:05</td>\n",
       "      <td>31295</td>\n",
       "      <td>Potomac &amp; M St NW</td>\n",
       "      <td>31230</td>\n",
       "      <td>Metro Center / 12th &amp; G St NW</td>\n",
       "      <td>W20529</td>\n",
       "      <td>Member</td>\n",
       "    </tr>\n",
       "  </tbody>\n",
       "</table>\n",
       "</div>"
      ],
      "text/plain": [
       "            Start date             End date  Start station number  \\\n",
       "0  2017-10-01 15:23:25  2017-10-01 15:26:26                 31038   \n",
       "1  2017-10-01 15:42:57  2017-10-01 17:49:59                 31036   \n",
       "2  2017-10-02 06:37:10  2017-10-02 06:42:53                 31036   \n",
       "3  2017-10-02 08:56:45  2017-10-02 09:18:03                 31037   \n",
       "4  2017-10-02 18:23:48  2017-10-02 18:45:05                 31295   \n",
       "\n",
       "                          Start station  End station number  \\\n",
       "0                  Glebe Rd & 11th St N               31036   \n",
       "1         George Mason Dr & Wilson Blvd               31036   \n",
       "2         George Mason Dr & Wilson Blvd               31037   \n",
       "3  Ballston Metro / N Stuart & 9th St N               31295   \n",
       "4                     Potomac & M St NW               31230   \n",
       "\n",
       "                            End station Bike number Member type  \n",
       "0         George Mason Dr & Wilson Blvd      W20529      Member  \n",
       "1         George Mason Dr & Wilson Blvd      W20529      Casual  \n",
       "2  Ballston Metro / N Stuart & 9th St N      W20529      Member  \n",
       "3                     Potomac & M St NW      W20529      Member  \n",
       "4         Metro Center / 12th & G St NW      W20529      Member  "
      ]
     },
     "execution_count": 17,
     "metadata": {},
     "output_type": "execute_result"
    }
   ],
   "source": [
    "url_bike = \"https://raw.githubusercontent.com/SophrosyneEunoia/Shockwave/main/capital-onebike.csv\"\n",
    "\n",
    "onebike = pd.read_csv(url_bike)\n",
    "\n",
    "onebike.head()"
   ]
  },
  {
   "cell_type": "code",
   "execution_count": 18,
   "id": "84437b92",
   "metadata": {},
   "outputs": [
    {
     "data": {
      "text/plain": [
       "'2017-10-01 15:23:25'"
      ]
     },
     "execution_count": 18,
     "metadata": {},
     "output_type": "execute_result"
    }
   ],
   "source": [
    "onebike.iloc[0,0]"
   ]
  },
  {
   "cell_type": "code",
   "execution_count": 19,
   "id": "34a49308",
   "metadata": {},
   "outputs": [
    {
     "name": "stdout",
     "output_type": "stream",
     "text": [
      "<class 'str'>\n"
     ]
    }
   ],
   "source": [
    "print(type(onebike.iloc[0,0]))"
   ]
  },
  {
   "cell_type": "code",
   "execution_count": 20,
   "id": "33a94804",
   "metadata": {},
   "outputs": [
    {
     "name": "stdout",
     "output_type": "stream",
     "text": [
      "<class 'pandas._libs.tslibs.timestamps.Timestamp'>\n"
     ]
    }
   ],
   "source": [
    "for col in onebike.columns[:2]:\n",
    "    onebike[col] = pd.to_datetime(onebike[col])\n",
    "\n",
    "print(type(onebike.iloc[0,0]))"
   ]
  },
  {
   "cell_type": "code",
   "execution_count": 21,
   "id": "a91b2a89",
   "metadata": {},
   "outputs": [
    {
     "data": {
      "text/plain": [
       "Timestamp('2017-10-01 15:23:25')"
      ]
     },
     "execution_count": 21,
     "metadata": {},
     "output_type": "execute_result"
    }
   ],
   "source": [
    "onebike.iloc[0,0]"
   ]
  },
  {
   "cell_type": "code",
   "execution_count": 22,
   "id": "38050b26",
   "metadata": {},
   "outputs": [
    {
     "data": {
      "text/html": [
       "<div>\n",
       "<style scoped>\n",
       "    .dataframe tbody tr th:only-of-type {\n",
       "        vertical-align: middle;\n",
       "    }\n",
       "\n",
       "    .dataframe tbody tr th {\n",
       "        vertical-align: top;\n",
       "    }\n",
       "\n",
       "    .dataframe thead th {\n",
       "        text-align: right;\n",
       "    }\n",
       "</style>\n",
       "<table border=\"1\" class=\"dataframe\">\n",
       "  <thead>\n",
       "    <tr style=\"text-align: right;\">\n",
       "      <th></th>\n",
       "      <th>Start date</th>\n",
       "      <th>End date</th>\n",
       "      <th>Start station number</th>\n",
       "      <th>Start station</th>\n",
       "      <th>End station number</th>\n",
       "      <th>End station</th>\n",
       "      <th>Bike number</th>\n",
       "      <th>Member type</th>\n",
       "    </tr>\n",
       "  </thead>\n",
       "  <tbody>\n",
       "    <tr>\n",
       "      <th>0</th>\n",
       "      <td>2017-10-01 15:23:25</td>\n",
       "      <td>2017-10-01 15:26:26</td>\n",
       "      <td>31038</td>\n",
       "      <td>Glebe Rd &amp; 11th St N</td>\n",
       "      <td>31036</td>\n",
       "      <td>George Mason Dr &amp; Wilson Blvd</td>\n",
       "      <td>W20529</td>\n",
       "      <td>Member</td>\n",
       "    </tr>\n",
       "    <tr>\n",
       "      <th>1</th>\n",
       "      <td>2017-10-01 15:42:57</td>\n",
       "      <td>2017-10-01 17:49:59</td>\n",
       "      <td>31036</td>\n",
       "      <td>George Mason Dr &amp; Wilson Blvd</td>\n",
       "      <td>31036</td>\n",
       "      <td>George Mason Dr &amp; Wilson Blvd</td>\n",
       "      <td>W20529</td>\n",
       "      <td>Casual</td>\n",
       "    </tr>\n",
       "    <tr>\n",
       "      <th>2</th>\n",
       "      <td>2017-10-02 06:37:10</td>\n",
       "      <td>2017-10-02 06:42:53</td>\n",
       "      <td>31036</td>\n",
       "      <td>George Mason Dr &amp; Wilson Blvd</td>\n",
       "      <td>31037</td>\n",
       "      <td>Ballston Metro / N Stuart &amp; 9th St N</td>\n",
       "      <td>W20529</td>\n",
       "      <td>Member</td>\n",
       "    </tr>\n",
       "    <tr>\n",
       "      <th>3</th>\n",
       "      <td>2017-10-02 08:56:45</td>\n",
       "      <td>2017-10-02 09:18:03</td>\n",
       "      <td>31037</td>\n",
       "      <td>Ballston Metro / N Stuart &amp; 9th St N</td>\n",
       "      <td>31295</td>\n",
       "      <td>Potomac &amp; M St NW</td>\n",
       "      <td>W20529</td>\n",
       "      <td>Member</td>\n",
       "    </tr>\n",
       "    <tr>\n",
       "      <th>4</th>\n",
       "      <td>2017-10-02 18:23:48</td>\n",
       "      <td>2017-10-02 18:45:05</td>\n",
       "      <td>31295</td>\n",
       "      <td>Potomac &amp; M St NW</td>\n",
       "      <td>31230</td>\n",
       "      <td>Metro Center / 12th &amp; G St NW</td>\n",
       "      <td>W20529</td>\n",
       "      <td>Member</td>\n",
       "    </tr>\n",
       "  </tbody>\n",
       "</table>\n",
       "</div>"
      ],
      "text/plain": [
       "           Start date            End date  Start station number  \\\n",
       "0 2017-10-01 15:23:25 2017-10-01 15:26:26                 31038   \n",
       "1 2017-10-01 15:42:57 2017-10-01 17:49:59                 31036   \n",
       "2 2017-10-02 06:37:10 2017-10-02 06:42:53                 31036   \n",
       "3 2017-10-02 08:56:45 2017-10-02 09:18:03                 31037   \n",
       "4 2017-10-02 18:23:48 2017-10-02 18:45:05                 31295   \n",
       "\n",
       "                          Start station  End station number  \\\n",
       "0                  Glebe Rd & 11th St N               31036   \n",
       "1         George Mason Dr & Wilson Blvd               31036   \n",
       "2         George Mason Dr & Wilson Blvd               31037   \n",
       "3  Ballston Metro / N Stuart & 9th St N               31295   \n",
       "4                     Potomac & M St NW               31230   \n",
       "\n",
       "                            End station Bike number Member type  \n",
       "0         George Mason Dr & Wilson Blvd      W20529      Member  \n",
       "1         George Mason Dr & Wilson Blvd      W20529      Casual  \n",
       "2  Ballston Metro / N Stuart & 9th St N      W20529      Member  \n",
       "3                     Potomac & M St NW      W20529      Member  \n",
       "4         Metro Center / 12th & G St NW      W20529      Member  "
      ]
     },
     "execution_count": 22,
     "metadata": {},
     "output_type": "execute_result"
    }
   ],
   "source": [
    "onebike.head()"
   ]
  },
  {
   "cell_type": "code",
   "execution_count": 23,
   "id": "49baa341",
   "metadata": {},
   "outputs": [
    {
     "name": "stdout",
     "output_type": "stream",
     "text": [
      "15\n"
     ]
    }
   ],
   "source": [
    "print(onebike.iloc[0,0].hour)"
   ]
  },
  {
   "cell_type": "code",
   "execution_count": 24,
   "id": "f8ce1c5b",
   "metadata": {},
   "outputs": [
    {
     "name": "stdout",
     "output_type": "stream",
     "text": [
      "{'AM': 103, 'PM': 187}\n"
     ]
    }
   ],
   "source": [
    "time = {'AM':0,'PM':0}\n",
    "\n",
    "for tm in onebike.iloc[:,0]:\n",
    "    if tm.hour <= 12:\n",
    "        time['AM'] += 1\n",
    "    else:\n",
    "        time['PM'] += 1\n",
    "        \n",
    "print(time)"
   ]
  },
  {
   "cell_type": "code",
   "execution_count": 25,
   "id": "e0061a69",
   "metadata": {},
   "outputs": [
    {
     "name": "stdout",
     "output_type": "stream",
     "text": [
      "2017-10-01 15:23:25\n"
     ]
    }
   ],
   "source": [
    "waktu = onebike.iloc[0,0]\n",
    "\n",
    "print(waktu)"
   ]
  },
  {
   "cell_type": "code",
   "execution_count": 26,
   "id": "7168fb40",
   "metadata": {},
   "outputs": [
    {
     "name": "stdout",
     "output_type": "stream",
     "text": [
      "<class 'pandas._libs.tslibs.timestamps.Timestamp'>\n",
      "15-23-25\n",
      "<class 'str'>\n"
     ]
    }
   ],
   "source": [
    "print(type(waktu))\n",
    "\n",
    "waktu_str = waktu.strftime(\"%H-%M-%S\")\n",
    "print(waktu_str)\n",
    "print(type(waktu_str))"
   ]
  },
  {
   "cell_type": "code",
   "execution_count": 27,
   "id": "6173972b",
   "metadata": {},
   "outputs": [
    {
     "name": "stdout",
     "output_type": "stream",
     "text": [
      "[datetime.datetime(2017, 12, 31, 3, 19, 13), datetime.datetime(2017, 12, 31, 3, 9, 3)]\n"
     ]
    }
   ],
   "source": [
    "# Import datetime\n",
    "from datetime import datetime\n",
    "\n",
    "# Starting timestamps\n",
    "timestamps = [1514665153, 1514664543]\n",
    "\n",
    "# Datetime objects\n",
    "dts = []\n",
    "\n",
    "# Loop\n",
    "for ts in timestamps:\n",
    "    dts.append(datetime.fromtimestamp(ts))\n",
    "\n",
    "print(dts)"
   ]
  },
  {
   "cell_type": "code",
   "execution_count": 28,
   "id": "2147bc9e",
   "metadata": {},
   "outputs": [
    {
     "name": "stdout",
     "output_type": "stream",
     "text": [
      "2017-10-01 15:23:25\n",
      "2017-10-01 15:26:26\n",
      "0 days 00:03:01\n"
     ]
    }
   ],
   "source": [
    "a = onebike.iloc[0,0]\n",
    "b = onebike.iloc[0,1]\n",
    "\n",
    "print(a)\n",
    "print(b)\n",
    "print(b - a)"
   ]
  },
  {
   "cell_type": "code",
   "execution_count": 29,
   "id": "1627ed23",
   "metadata": {},
   "outputs": [
    {
     "name": "stdout",
     "output_type": "stream",
     "text": [
      "181.0\n"
     ]
    }
   ],
   "source": [
    "print((b - a).total_seconds())"
   ]
  },
  {
   "cell_type": "markdown",
   "id": "6d23f81c",
   "metadata": {},
   "source": [
    "### 3 - Time Zones and Daylight Saving\n",
    "\n",
    "1. UTC\n",
    "2. Time Zone\n",
    "3. Daylight Saving"
   ]
  },
  {
   "cell_type": "code",
   "execution_count": 30,
   "id": "42b3653a",
   "metadata": {},
   "outputs": [
    {
     "name": "stdout",
     "output_type": "stream",
     "text": [
      "2022-04-01 20:59:23.866865\n"
     ]
    }
   ],
   "source": [
    "from datetime import datetime, timezone\n",
    "\n",
    "this = datetime.today()\n",
    "\n",
    "print(this)"
   ]
  },
  {
   "cell_type": "markdown",
   "id": "c7f8e5e4",
   "metadata": {},
   "source": [
    "### 4 - Dates and Times in Pandas"
   ]
  }
 ],
 "metadata": {
  "kernelspec": {
   "display_name": "Python 3 (ipykernel)",
   "language": "python",
   "name": "python3"
  },
  "language_info": {
   "codemirror_mode": {
    "name": "ipython",
    "version": 3
   },
   "file_extension": ".py",
   "mimetype": "text/x-python",
   "name": "python",
   "nbconvert_exporter": "python",
   "pygments_lexer": "ipython3",
   "version": "3.9.7"
  }
 },
 "nbformat": 4,
 "nbformat_minor": 5
}
