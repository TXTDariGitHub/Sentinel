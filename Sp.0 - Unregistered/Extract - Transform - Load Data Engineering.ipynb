{
 "cells": [
  {
   "cell_type": "markdown",
   "id": "11e16037",
   "metadata": {},
   "source": [
    "### 1 - Data Exploration and Requirements"
   ]
  },
  {
   "cell_type": "markdown",
   "id": "60338dd0",
   "metadata": {},
   "source": [
    "### 2 - Create ETL Foundations"
   ]
  },
  {
   "cell_type": "markdown",
   "id": "32b23969",
   "metadata": {},
   "source": [
    "### 3 - Raw to Clean Data"
   ]
  },
  {
   "cell_type": "markdown",
   "id": "dd4480f1",
   "metadata": {},
   "source": [
    "### 4 - Clean Data to Meaningful Information"
   ]
  }
 ],
 "metadata": {
  "kernelspec": {
   "display_name": "Python 3 (ipykernel)",
   "language": "python",
   "name": "python3"
  },
  "language_info": {
   "codemirror_mode": {
    "name": "ipython",
    "version": 3
   },
   "file_extension": ".py",
   "mimetype": "text/x-python",
   "name": "python",
   "nbconvert_exporter": "python",
   "pygments_lexer": "ipython3",
   "version": "3.9.7"
  }
 },
 "nbformat": 4,
 "nbformat_minor": 5
}
