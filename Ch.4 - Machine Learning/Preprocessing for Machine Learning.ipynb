{
 "cells": [
  {
   "cell_type": "markdown",
   "id": "c34dc42b",
   "metadata": {},
   "source": [
    "### 1 - Introduction to Data Preprocessing"
   ]
  },
  {
   "cell_type": "markdown",
   "id": "4ef91818",
   "metadata": {},
   "source": [
    "### 2 - Standardizing Data"
   ]
  },
  {
   "cell_type": "markdown",
   "id": "740bdf48",
   "metadata": {},
   "source": [
    "### 3 - Feature Engineering"
   ]
  },
  {
   "cell_type": "markdown",
   "id": "592d8464",
   "metadata": {},
   "source": [
    "### 4 - Selecting features for modeling"
   ]
  },
  {
   "cell_type": "markdown",
   "id": "bacbf0fa",
   "metadata": {},
   "source": [
    "### 5 - UFO Study Case"
   ]
  }
 ],
 "metadata": {
  "kernelspec": {
   "display_name": "Python 3 (ipykernel)",
   "language": "python",
   "name": "python3"
  },
  "language_info": {
   "codemirror_mode": {
    "name": "ipython",
    "version": 3
   },
   "file_extension": ".py",
   "mimetype": "text/x-python",
   "name": "python",
   "nbconvert_exporter": "python",
   "pygments_lexer": "ipython3",
   "version": "3.9.7"
  }
 },
 "nbformat": 4,
 "nbformat_minor": 5
}
