{
 "cells": [
  {
   "cell_type": "markdown",
   "id": "f78471ec",
   "metadata": {},
   "source": [
    "#### 1 - Pendahuluan"
   ]
  },
  {
   "cell_type": "markdown",
   "id": "866bbea8",
   "metadata": {},
   "source": [
    "#### 2 - Data Cleansing"
   ]
  },
  {
   "cell_type": "markdown",
   "id": "f9e4c1b5",
   "metadata": {},
   "source": [
    "#### 3 - Exploring Data"
   ]
  },
  {
   "cell_type": "markdown",
   "id": "9a6822bb",
   "metadata": {},
   "source": [
    "#### 4 - Feature Engineering"
   ]
  },
  {
   "cell_type": "markdown",
   "id": "bbe3bf03",
   "metadata": {},
   "source": [
    "#### 5 - Modelling and Feature Engineering"
   ]
  }
 ],
 "metadata": {
  "kernelspec": {
   "display_name": "Python 3 (ipykernel)",
   "language": "python",
   "name": "python3"
  },
  "language_info": {
   "codemirror_mode": {
    "name": "ipython",
    "version": 3
   },
   "file_extension": ".py",
   "mimetype": "text/x-python",
   "name": "python",
   "nbconvert_exporter": "python",
   "pygments_lexer": "ipython3",
   "version": "3.9.7"
  }
 },
 "nbformat": 4,
 "nbformat_minor": 5
}
