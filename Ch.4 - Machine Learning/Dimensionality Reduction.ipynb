{
 "cells": [
  {
   "cell_type": "markdown",
   "id": "063ddf91",
   "metadata": {},
   "source": [
    "#### 1 - Exploring high dimensional data\n",
    "\n",
    "Focus : Understanding t-Stochastic Neighbor Embedding Visualization for Feature Selection<br>\n",
    "Dataset : ANSUR Female Dataset"
   ]
  },
  {
   "cell_type": "markdown",
   "id": "9919e330",
   "metadata": {},
   "source": [
    "#### 2 - Feature selection I - Feature Information"
   ]
  },
  {
   "cell_type": "markdown",
   "id": "1c840bc0",
   "metadata": {},
   "source": [
    "#### 3- Feature Selection II - Model Accuracy"
   ]
  },
  {
   "cell_type": "markdown",
   "id": "1a280a63",
   "metadata": {},
   "source": [
    "#### 4 - Feature Extraction\n",
    "\n",
    "Focus : Understanding Principal Component Analysis Python for Feature Extraction"
   ]
  },
  {
   "cell_type": "markdown",
   "id": "42eda514",
   "metadata": {},
   "source": [
    "#### 5 - Chi-Square for Feature Selection \n",
    "\n",
    "Answer :<br>\n",
    "1. <a href=\"https://www.geeksforgeeks.org/chi-square-test-for-feature-selection-mathematical-explanation/?ref=lbp\" style=\"color:black; text-decoration:none\">Mathematical Explanation</a>\n",
    "2. <a href=\"https://www.geeksforgeeks.org/ml-chi-square-test-for-feature-selection/\" style=\"color:black; text-decoration:none\">Python Implementation</a>"
   ]
  }
 ],
 "metadata": {
  "kernelspec": {
   "display_name": "Python 3 (ipykernel)",
   "language": "python",
   "name": "python3"
  },
  "language_info": {
   "codemirror_mode": {
    "name": "ipython",
    "version": 3
   },
   "file_extension": ".py",
   "mimetype": "text/x-python",
   "name": "python",
   "nbconvert_exporter": "python",
   "pygments_lexer": "ipython3",
   "version": "3.9.7"
  }
 },
 "nbformat": 4,
 "nbformat_minor": 5
}
