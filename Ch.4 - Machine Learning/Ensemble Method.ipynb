{
 "cells": [
  {
   "cell_type": "markdown",
   "id": "d15b92de",
   "metadata": {},
   "source": [
    "#### 1 - Voting Classifier"
   ]
  },
  {
   "cell_type": "markdown",
   "id": "4e2b7368",
   "metadata": {},
   "source": [
    "#### 2 - Voting Regressor"
   ]
  },
  {
   "cell_type": "markdown",
   "id": "eb1ee11f",
   "metadata": {},
   "source": [
    "#### 3 - Bagging Classifier"
   ]
  },
  {
   "cell_type": "markdown",
   "id": "a484d78d",
   "metadata": {},
   "source": [
    "#### 4 - Random Forest Classifier"
   ]
  }
 ],
 "metadata": {
  "kernelspec": {
   "display_name": "Python 3 (ipykernel)",
   "language": "python",
   "name": "python3"
  },
  "language_info": {
   "codemirror_mode": {
    "name": "ipython",
    "version": 3
   },
   "file_extension": ".py",
   "mimetype": "text/x-python",
   "name": "python",
   "nbconvert_exporter": "python",
   "pygments_lexer": "ipython3",
   "version": "3.9.7"
  }
 },
 "nbformat": 4,
 "nbformat_minor": 5
}
