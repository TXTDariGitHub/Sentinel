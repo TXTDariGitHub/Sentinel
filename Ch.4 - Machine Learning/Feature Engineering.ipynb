{
 "cells": [
  {
   "cell_type": "markdown",
   "id": "60b69bf7",
   "metadata": {},
   "source": [
    "### 1 - Creating Features"
   ]
  },
  {
   "cell_type": "markdown",
   "id": "6425e0a4",
   "metadata": {},
   "source": [
    "### 2 - Dealing with Messy Data"
   ]
  },
  {
   "cell_type": "markdown",
   "id": "0e9dd42c",
   "metadata": {},
   "source": [
    "### 3 - Conforming to Statistical Assumptions"
   ]
  },
  {
   "cell_type": "markdown",
   "id": "6d69f3bb",
   "metadata": {},
   "source": [
    "### 4 - Dealing with Text Data"
   ]
  }
 ],
 "metadata": {
  "kernelspec": {
   "display_name": "Python 3 (ipykernel)",
   "language": "python",
   "name": "python3"
  },
  "language_info": {
   "codemirror_mode": {
    "name": "ipython",
    "version": 3
   },
   "file_extension": ".py",
   "mimetype": "text/x-python",
   "name": "python",
   "nbconvert_exporter": "python",
   "pygments_lexer": "ipython3",
   "version": "3.9.7"
  }
 },
 "nbformat": 4,
 "nbformat_minor": 5
}
