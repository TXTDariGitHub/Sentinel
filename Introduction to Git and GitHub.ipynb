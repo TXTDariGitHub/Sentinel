{
 "cells": [
  {
   "cell_type": "markdown",
   "id": "fd3a4ae7",
   "metadata": {
    "slideshow": {
     "slide_type": "slide"
    }
   },
   "source": [
    "<h2 align=\"center\">Introduction to Git and GitHub</h2>\n",
    "\n",
    "<h3 align=\"center\">Kelvin Mulyawan & Wafin Amri</h3>"
   ]
  },
  {
   "cell_type": "markdown",
   "id": "844d1f52",
   "metadata": {
    "slideshow": {
     "slide_type": "slide"
    }
   },
   "source": [
    "<h3 align=\"center\">Learning Requirement</h3>\n",
    "1. GitHub Account<br>\n",
    "2. Stable Internet Connection<br>\n",
    "3. Basic Understanding of HTML or Others Programming Language"
   ]
  },
  {
   "cell_type": "markdown",
   "id": "21804653",
   "metadata": {
    "slideshow": {
     "slide_type": "slide"
    }
   },
   "source": [
    "<h3 align=\"center\">Learning Objectives</h3>\n",
    "1. GitHub Understanding<br>\n",
    "2. Git Understanding<br>\n",
    "3. Git WorkFlow Understanding<br>\n",
    "4. Git Command Understanding<br>\n",
    "5. Mandatory For HTML Final Test - Github Pages<br>\n",
    "6. Markdown Introduction [Optional]<br>"
   ]
  },
  {
   "cell_type": "markdown",
   "id": "09d1efb7",
   "metadata": {
    "slideshow": {
     "slide_type": "slide"
    }
   },
   "source": [
    "A. Version Control\n",
    "\n",
    "> Sebuah sistem yang melakukan source code management (SCM) )untuk mengelola perubahan di setiap dokumen, program komputer, website, dan kumpulan pemrograman lainnya.\n",
    "\n",
    "Mengapa Harus Menggunakan Version Control ?\n",
    "1. Kolaborasi\n",
    "2. Tracking / Review\n",
    "3. Konfigurasi"
   ]
  },
  {
   "cell_type": "markdown",
   "id": "24719aaf",
   "metadata": {
    "slideshow": {
     "slide_type": "slide"
    }
   },
   "source": [
    "B. Git\n",
    "\n",
    "> Git merupakan software berbasis Version Control System (VCS) yang bertugas untuk mencatat perubahan seluruh file atau repository suatu project"
   ]
  },
  {
   "cell_type": "markdown",
   "id": "7ce53c71",
   "metadata": {
    "slideshow": {
     "slide_type": "slide"
    }
   },
   "source": [
    "C. GitHub\n",
    "\n",
    "> GitHub merupakan layanan cloud yang berguna untuk menyimpan dan mengelola sebuah project yang dinamakan repository\n",
    "\n",
    "<a href=\"https://github.com/\" style=\"color:black; text-decoration:none\">GitHub</a>"
   ]
  },
  {
   "cell_type": "markdown",
   "id": "e5a4d128",
   "metadata": {
    "slideshow": {
     "slide_type": "slide"
    }
   },
   "source": [
    "D. Git Workflow\n",
    "\n",
    "> Working Tree => Staging Area => Git Directory\n",
    "\n",
    "a. ```git add [file]```<br>\n",
    "b. ```git commit [file]```"
   ]
  },
  {
   "cell_type": "markdown",
   "id": "b35c1efa",
   "metadata": {
    "slideshow": {
     "slide_type": "slide"
    }
   },
   "source": [
    "E. Staging Area\n",
    "> A file maintained by Git that contains all of the information about what files and changes are going into your next commit\n",
    "\n",
    "How to get into staging area ?\n",
    "use ```git add``` 😀"
   ]
  },
  {
   "cell_type": "markdown",
   "id": "090660ce",
   "metadata": {
    "slideshow": {
     "slide_type": "slide"
    }
   },
   "source": [
    "F. Pull Request\n",
    "\n",
    "> a commit that do by the forked-repository to the owner of the repository so they can merge it to the real repository"
   ]
  },
  {
   "cell_type": "markdown",
   "id": "db0e962a",
   "metadata": {
    "slideshow": {
     "slide_type": "slide"
    }
   },
   "source": [
    "G. Branch\n",
    "\n",
    "> Branch is a feature that isolate development work without affecting the others branchs in the repository"
   ]
  },
  {
   "cell_type": "markdown",
   "id": "e29fb078",
   "metadata": {
    "slideshow": {
     "slide_type": "slide"
    }
   },
   "source": [
    "<img src=\"https://docs.github.com/assets/cb-2058/images/help/branches/pr-retargeting-diagram1.png\" alt=\"download\">"
   ]
  },
  {
   "cell_type": "markdown",
   "id": "c238d9c4",
   "metadata": {
    "slideshow": {
     "slide_type": "slide"
    }
   },
   "source": [
    "H. Repository\n",
    "\n",
    "> A folder that contains all of your project's files and each file's revision history"
   ]
  },
  {
   "cell_type": "markdown",
   "id": "3c7faa86",
   "metadata": {
    "slideshow": {
     "slide_type": "slide"
    }
   },
   "source": [
    "I. Fork\n",
    "\n",
    "> Clone others repository to our repository without affect the real repository // Unless if we propose Pull Request //"
   ]
  },
  {
   "cell_type": "markdown",
   "id": "e1dddac3",
   "metadata": {
    "slideshow": {
     "slide_type": "slide"
    }
   },
   "source": [
    "0. ```git config```\n",
    "> ```git config``` use for telling Git, who we are, by set up ```git --config user.name``` to our github username and ```git config --user.email``` to our github email\n",
    "\n",
    "```git config --global user.name \"your name\"```<br>\n",
    "```git config --global user.email \"your email\"```<br>\n",
    "```--global``` is use to set up to our every repository<br>\n",
    "```git config --list``` is use to get information about git configuration"
   ]
  },
  {
   "cell_type": "markdown",
   "id": "4e4b5ea3",
   "metadata": {
    "slideshow": {
     "slide_type": "slide"
    }
   },
   "source": [
    "1. ```git init```\n",
    "> ```git init``` is use when we have the project locally but not on Github and we want to make it remotely.\n",
    "\n",
    "```git init``` => To initialize git folder<br>\n",
    "```git add .``` => To add file to staging area<br>\n",
    "```git commit -m \"add new file\"``` => Take a capture of any changes<br>\n",
    "```git remote add origin [repository link]``` => Connect our local and remote<br>\n",
    "```git remote -v``` => Set it as remote repository<br>\n",
    "```git push origin main``` => Push the changes to remote"
   ]
  },
  {
   "cell_type": "markdown",
   "id": "7beb29e5",
   "metadata": {
    "slideshow": {
     "slide_type": "slide"
    }
   },
   "source": [
    "2. ```git clone [repository link]```\n",
    "\n",
    "> ```git clone``` is use to pull the remote repository to our local PC"
   ]
  },
  {
   "cell_type": "markdown",
   "id": "80cefc9e",
   "metadata": {
    "slideshow": {
     "slide_type": "slide"
    }
   },
   "source": [
    "3. ```git status```\n",
    "\n",
    "> ```git status``` is use to get the status about the current working tree"
   ]
  },
  {
   "cell_type": "markdown",
   "id": "83a74ee1",
   "metadata": {
    "slideshow": {
     "slide_type": "slide"
    }
   },
   "source": [
    "4. ```git commit```\n",
    "> ```git commit``` is use to give a message about our modification to the repository\n",
    "\n",
    "```git commit -m \"adding new file\"```"
   ]
  },
  {
   "cell_type": "markdown",
   "id": "613a410a",
   "metadata": {
    "slideshow": {
     "slide_type": "slide"
    }
   },
   "source": [
    "5. ```git push```\n",
    "> ```git push``` is use to update the modification from our locally project into the remote repository\n",
    "\n",
    "```git push origin main``` => update the changes to repository with branch ```main```"
   ]
  },
  {
   "cell_type": "markdown",
   "id": "e37053af",
   "metadata": {
    "slideshow": {
     "slide_type": "slide"
    }
   },
   "source": [
    "6. ```git pull```\n",
    "> ```git pull``` is use to update the modification from our remote repository into the locally project\n",
    "\n",
    "```git pull origin main``` => update the changes to local project with branch ```main```"
   ]
  },
  {
   "cell_type": "markdown",
   "id": "99bca626",
   "metadata": {
    "slideshow": {
     "slide_type": "slide"
    }
   },
   "source": [
    "7. ```git branch [branch name]```\n",
    "> ```git pull``` is use create a new branch\n",
    "\n",
    "```git branch another``` => create a new branch with name ```another```<br>\n",
    "```git branch``` => show a list of all the branches in our repository"
   ]
  },
  {
   "cell_type": "markdown",
   "id": "3d180d23",
   "metadata": {
    "slideshow": {
     "slide_type": "slide"
    }
   },
   "source": [
    "8. ```git checkout [branch name]```\n",
    "> ```git checkout [branch name]``` is use to use the branch\n",
    "\n",
    "```git checkout another``` => use the branch another"
   ]
  },
  {
   "cell_type": "markdown",
   "id": "35bd153f",
   "metadata": {
    "slideshow": {
     "slide_type": "slide"
    }
   },
   "source": [
    "9. ```git add [filename]```\n",
    "\n",
    "> ```git add [filename]``` is use to add a new file to staging area from working space\n",
    "\n",
    "```git add index.html``` use to put index.html to staging area"
   ]
  },
  {
   "cell_type": "markdown",
   "id": "c62333c2",
   "metadata": {
    "slideshow": {
     "slide_type": "slide"
    }
   },
   "source": [
    "X. GitHub Fork, Pull Request\n",
    "> Please fork and do some pull request at Sandbox Repository\n",
    "\n",
    "<a href=\"https://github.com/UvoChrollo/Sandbox\" style=\"color:black; text-decoration:none\">Sandbox</a>"
   ]
  },
  {
   "cell_type": "markdown",
   "id": "18227bf0",
   "metadata": {
    "slideshow": {
     "slide_type": "slide"
    }
   },
   "source": [
    "#### GitHub Pages Tutorial\n",
    "\n",
    "1. Create a New Repository\n",
    "2. Create a HTML files\n",
    "3. git init on the folder where you're having the HTML files\n",
    "4. Settings -> Pages -> Set Source to main -> Save\n",
    "5. Wait"
   ]
  },
  {
   "cell_type": "markdown",
   "id": "e496f12c",
   "metadata": {
    "slideshow": {
     "slide_type": "slide"
    }
   },
   "source": [
    "Reference + Source\n",
    "\n",
    "1. <a href=\"https://www.coursera.org/learn/introduction-git-github\" style=\"color:black; text-decoration:none\">Coursera - Introduction to Git and GitHub</a>\n",
    "2. <a href=\"https://www.dicoding.com/blog/perbedaan-git-dan-github/\" style=\"color:black; text-decoration:none\">Git - Github Dicoding Blog</a>\n",
    "3. <a href=\"https://www.markdownguide.org/basic-syntax/\" style=\"color:black; text-decoration:none\">Markdown Guide</a>\n",
    "4. Bangkit Machine Learning Learning Path ILT 2\n",
    "5. <a href=\"https://docs.github.com/en\" style=\"color:black; text-decoration:none\">GitHub Documentation</a>"
   ]
  }
 ],
 "metadata": {
  "celltoolbar": "Slideshow",
  "kernelspec": {
   "display_name": "Python 3 (ipykernel)",
   "language": "python",
   "name": "python3"
  },
  "language_info": {
   "codemirror_mode": {
    "name": "ipython",
    "version": 3
   },
   "file_extension": ".py",
   "mimetype": "text/x-python",
   "name": "python",
   "nbconvert_exporter": "python",
   "pygments_lexer": "ipython3",
   "version": "3.9.7"
  }
 },
 "nbformat": 4,
 "nbformat_minor": 5
}
