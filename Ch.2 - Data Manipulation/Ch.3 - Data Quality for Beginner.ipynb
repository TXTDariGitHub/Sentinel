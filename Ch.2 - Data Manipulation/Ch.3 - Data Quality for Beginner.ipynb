{
 "cells": [
  {
   "cell_type": "markdown",
   "id": "1c240952",
   "metadata": {},
   "source": [
    "#### 1 - Data Profiling"
   ]
  },
  {
   "cell_type": "markdown",
   "id": "a277de4e",
   "metadata": {},
   "source": [
    "#### 2 - Data Cleansing"
   ]
  },
  {
   "cell_type": "markdown",
   "id": "6af640bb",
   "metadata": {},
   "source": [
    "#### 3 - Mini Project"
   ]
  }
 ],
 "metadata": {
  "kernelspec": {
   "display_name": "Python 3 (ipykernel)",
   "language": "python",
   "name": "python3"
  },
  "language_info": {
   "codemirror_mode": {
    "name": "ipython",
    "version": 3
   },
   "file_extension": ".py",
   "mimetype": "text/x-python",
   "name": "python",
   "nbconvert_exporter": "python",
   "pygments_lexer": "ipython3",
   "version": "3.9.7"
  }
 },
 "nbformat": 4,
 "nbformat_minor": 5
}
