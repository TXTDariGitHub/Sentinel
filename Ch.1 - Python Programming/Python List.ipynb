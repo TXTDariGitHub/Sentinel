{
 "cells": [
  {
   "cell_type": "markdown",
   "id": "d7c6cebb",
   "metadata": {},
   "source": [
    "#### Python List Introduction"
   ]
  },
  {
   "cell_type": "code",
   "execution_count": 1,
   "id": "9b0a9946",
   "metadata": {},
   "outputs": [
    {
     "name": "stdout",
     "output_type": "stream",
     "text": [
      "[1, 2, 3, 4, 5]\n"
     ]
    }
   ],
   "source": [
    "nums = [1, 2, 3, 4, 5]\n",
    "\n",
    "print(nums)"
   ]
  },
  {
   "cell_type": "code",
   "execution_count": 2,
   "id": "0e878197",
   "metadata": {},
   "outputs": [
    {
     "name": "stdout",
     "output_type": "stream",
     "text": [
      "[False, True, 2, 3.0, '4', [5, 6]]\n"
     ]
    }
   ],
   "source": [
    "rand_list = [False, True, 2, 3.0, '4', [5, 6]]\n",
    "\n",
    "print(rand_list)"
   ]
  },
  {
   "cell_type": "code",
   "execution_count": 3,
   "id": "4a137fbc",
   "metadata": {},
   "outputs": [
    {
     "name": "stdout",
     "output_type": "stream",
     "text": [
      "<class 'list'>\n",
      "<class 'list'>\n"
     ]
    }
   ],
   "source": [
    "print(type(nums))\n",
    "print(type(rand_list))"
   ]
  },
  {
   "cell_type": "markdown",
   "id": "c609dcea",
   "metadata": {},
   "source": [
    "#### Python List Method"
   ]
  },
  {
   "cell_type": "markdown",
   "id": "77c6ebfe",
   "metadata": {},
   "source": [
    "```list.append(value)```"
   ]
  },
  {
   "cell_type": "code",
   "execution_count": 4,
   "id": "f70ba2db",
   "metadata": {},
   "outputs": [
    {
     "name": "stdout",
     "output_type": "stream",
     "text": [
      "[1, 2, 3]\n"
     ]
    }
   ],
   "source": [
    "nums = [1, 2, 3]\n",
    "\n",
    "print(nums)"
   ]
  },
  {
   "cell_type": "code",
   "execution_count": 5,
   "id": "5057398e",
   "metadata": {},
   "outputs": [
    {
     "name": "stdout",
     "output_type": "stream",
     "text": [
      "[1, 2, 3, 4]\n"
     ]
    }
   ],
   "source": [
    "nums.append(4)\n",
    "\n",
    "print(nums)"
   ]
  },
  {
   "cell_type": "markdown",
   "id": "1b22b286",
   "metadata": {},
   "source": [
    "```list.insert(index, value)```"
   ]
  },
  {
   "cell_type": "code",
   "execution_count": 6,
   "id": "b96c8096",
   "metadata": {},
   "outputs": [
    {
     "name": "stdout",
     "output_type": "stream",
     "text": [
      "[1, 2, 3, 4]\n",
      "['Hello', 1, 2, 3, 4]\n"
     ]
    }
   ],
   "source": [
    "print(nums)\n",
    "\n",
    "nums.insert(0, 'Hello')\n",
    "\n",
    "print(nums)"
   ]
  },
  {
   "cell_type": "markdown",
   "id": "12cfc0e7",
   "metadata": {},
   "source": [
    "```list.extend(another_list)```"
   ]
  },
  {
   "cell_type": "code",
   "execution_count": 7,
   "id": "1bbd7ddf",
   "metadata": {},
   "outputs": [
    {
     "name": "stdout",
     "output_type": "stream",
     "text": [
      "[1, 2, 3]\n",
      "[1, 2, 3, 4, 5, 6]\n"
     ]
    }
   ],
   "source": [
    "nums1 = [1,2,3]\n",
    "nums2 = [4,5,6]\n",
    "\n",
    "print(nums1)\n",
    "nums1.extend(nums2)\n",
    "\n",
    "print(nums1)"
   ]
  },
  {
   "cell_type": "markdown",
   "id": "e6819c74",
   "metadata": {},
   "source": [
    "```list.sort(reverse=False)```"
   ]
  },
  {
   "cell_type": "code",
   "execution_count": 8,
   "id": "963432db",
   "metadata": {},
   "outputs": [
    {
     "name": "stdout",
     "output_type": "stream",
     "text": [
      "Before Sorting : [1, 4, 3, 2]\n",
      "After Sorting : [1, 2, 3, 4]\n"
     ]
    }
   ],
   "source": [
    "nums = [1, 4, 3, 2]\n",
    "\n",
    "print(f\"Before Sorting : {nums}\")\n",
    "nums.sort()\n",
    "print(f\"After Sorting : {nums}\")"
   ]
  },
  {
   "cell_type": "code",
   "execution_count": 9,
   "id": "2ccd4df3",
   "metadata": {},
   "outputs": [
    {
     "name": "stdout",
     "output_type": "stream",
     "text": [
      "Before Sorting : [1, 4, 3, 2]\n",
      "After Sorting : [4, 3, 2, 1]\n"
     ]
    }
   ],
   "source": [
    "nums = [1, 4, 3, 2]\n",
    "\n",
    "print(f\"Before Sorting : {nums}\")\n",
    "nums.sort(reverse=True)\n",
    "print(f\"After Sorting : {nums}\")"
   ]
  },
  {
   "cell_type": "markdown",
   "id": "f46dc8d0",
   "metadata": {},
   "source": [
    "```list.reverse()```"
   ]
  },
  {
   "cell_type": "code",
   "execution_count": 10,
   "id": "2e43f0b1",
   "metadata": {},
   "outputs": [
    {
     "name": "stdout",
     "output_type": "stream",
     "text": [
      "Before Reverse : [1, 5, 0, 9]\n",
      "After Reverse : [9, 0, 5, 1]\n"
     ]
    }
   ],
   "source": [
    "nums = [1, 5, 0, 9]\n",
    "\n",
    "print(f\"Before Reverse : {nums}\")\n",
    "nums.reverse()\n",
    "print(f\"After Reverse : {nums}\")"
   ]
  },
  {
   "cell_type": "markdown",
   "id": "5e8981c2",
   "metadata": {},
   "source": [
    "```list.remove(value)```"
   ]
  },
  {
   "cell_type": "code",
   "execution_count": 11,
   "id": "69b1156f",
   "metadata": {},
   "outputs": [
    {
     "name": "stdout",
     "output_type": "stream",
     "text": [
      "[1, 3, 4]\n"
     ]
    }
   ],
   "source": [
    "nums = [1, 2, 3, 4]\n",
    "nums.remove(2)\n",
    "print(nums)"
   ]
  },
  {
   "cell_type": "markdown",
   "id": "b3f207a2",
   "metadata": {},
   "source": [
    "```list.pop(index)```"
   ]
  },
  {
   "cell_type": "code",
   "execution_count": 12,
   "id": "89e22dd7",
   "metadata": {},
   "outputs": [
    {
     "name": "stdout",
     "output_type": "stream",
     "text": [
      "[1, 2, 3, 5]\n"
     ]
    }
   ],
   "source": [
    "nums = [1, 2, 3, 4, 5]\n",
    "nums.pop(3)\n",
    "print(nums)"
   ]
  },
  {
   "cell_type": "code",
   "execution_count": 13,
   "id": "8efe98c9",
   "metadata": {},
   "outputs": [
    {
     "name": "stdout",
     "output_type": "stream",
     "text": [
      "[1, 2, 3, 4]\n"
     ]
    }
   ],
   "source": [
    "nums = [1, 2, 3, 4, 5]\n",
    "nums.pop()\n",
    "print(nums)"
   ]
  },
  {
   "cell_type": "markdown",
   "id": "14196643",
   "metadata": {},
   "source": [
    "```del list[index]```"
   ]
  },
  {
   "cell_type": "code",
   "execution_count": 14,
   "id": "fa840ccc",
   "metadata": {},
   "outputs": [
    {
     "name": "stdout",
     "output_type": "stream",
     "text": [
      "[1, 2, 3, 5]\n"
     ]
    }
   ],
   "source": [
    "nums = [1, 2, 3, 4, 5]\n",
    "del nums[3]\n",
    "print(nums)"
   ]
  },
  {
   "cell_type": "markdown",
   "id": "78fe8700",
   "metadata": {},
   "source": [
    "```list.clear()```"
   ]
  },
  {
   "cell_type": "code",
   "execution_count": 15,
   "id": "e8f27fbc",
   "metadata": {},
   "outputs": [
    {
     "name": "stdout",
     "output_type": "stream",
     "text": [
      "[]\n"
     ]
    }
   ],
   "source": [
    "nums = [1, 2, 3, 4, 5]\n",
    "nums.clear()\n",
    "print(nums)"
   ]
  },
  {
   "cell_type": "markdown",
   "id": "bea1f64a",
   "metadata": {},
   "source": [
    "```del list```"
   ]
  },
  {
   "cell_type": "code",
   "execution_count": 16,
   "id": "3e09bf22",
   "metadata": {},
   "outputs": [
    {
     "name": "stdout",
     "output_type": "stream",
     "text": [
      "No nums list\n"
     ]
    }
   ],
   "source": [
    "nums = [1, 2, 3, 4, 5]\n",
    "\n",
    "del nums\n",
    "\n",
    "try:\n",
    "    print(nums)\n",
    "except:\n",
    "    print(\"No nums list\")"
   ]
  },
  {
   "cell_type": "markdown",
   "id": "9e1ed0c4",
   "metadata": {},
   "source": [
    "```list.index(value)```"
   ]
  },
  {
   "cell_type": "code",
   "execution_count": 17,
   "id": "e96f35c9",
   "metadata": {},
   "outputs": [
    {
     "name": "stdout",
     "output_type": "stream",
     "text": [
      "2\n"
     ]
    }
   ],
   "source": [
    "nums = [1, 2, 3, 4, 5]\n",
    "print(nums.index(3))"
   ]
  },
  {
   "cell_type": "markdown",
   "id": "b5207b8c",
   "metadata": {},
   "source": [
    "```list.count(value)```"
   ]
  },
  {
   "cell_type": "code",
   "execution_count": 18,
   "id": "0982064f",
   "metadata": {},
   "outputs": [
    {
     "name": "stdout",
     "output_type": "stream",
     "text": [
      "2\n"
     ]
    }
   ],
   "source": [
    "nums = [1, 1, 2, 3]\n",
    "\n",
    "print(nums.count(1))"
   ]
  },
  {
   "cell_type": "markdown",
   "id": "927ddb21",
   "metadata": {},
   "source": [
    "```list[index] = new value```"
   ]
  },
  {
   "cell_type": "code",
   "execution_count": 19,
   "id": "931f885d",
   "metadata": {},
   "outputs": [
    {
     "name": "stdout",
     "output_type": "stream",
     "text": [
      "[1, 1, 2, 3]\n",
      "['Martin Garrix', 1, 2, 3]\n"
     ]
    }
   ],
   "source": [
    "print(nums)\n",
    "\n",
    "nums[0] = \"Martin Garrix\"\n",
    "\n",
    "print(nums)"
   ]
  }
 ],
 "metadata": {
  "kernelspec": {
   "display_name": "Python 3 (ipykernel)",
   "language": "python",
   "name": "python3"
  },
  "language_info": {
   "codemirror_mode": {
    "name": "ipython",
    "version": 3
   },
   "file_extension": ".py",
   "mimetype": "text/x-python",
   "name": "python",
   "nbconvert_exporter": "python",
   "pygments_lexer": "ipython3",
   "version": "3.9.7"
  }
 },
 "nbformat": 4,
 "nbformat_minor": 5
}
