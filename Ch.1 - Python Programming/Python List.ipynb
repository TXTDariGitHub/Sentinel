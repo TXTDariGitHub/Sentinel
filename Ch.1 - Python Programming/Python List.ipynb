{
 "cells": [
  {
   "cell_type": "markdown",
   "id": "d7c6cebb",
   "metadata": {},
   "source": [
    "#### Python List Introduction"
   ]
  },
  {
   "cell_type": "code",
   "execution_count": 1,
   "id": "9b0a9946",
   "metadata": {},
   "outputs": [
    {
     "name": "stdout",
     "output_type": "stream",
     "text": [
      "[1, 2, 3, 4, 5]\n"
     ]
    }
   ],
   "source": [
    "nums = [1, 2, 3, 4, 5]\n",
    "\n",
    "print(nums)"
   ]
  },
  {
   "cell_type": "code",
   "execution_count": 2,
   "id": "0e878197",
   "metadata": {},
   "outputs": [
    {
     "name": "stdout",
     "output_type": "stream",
     "text": [
      "[False, True, 2, 3.0, '4', [5, 6]]\n"
     ]
    }
   ],
   "source": [
    "rand_list = [False, True, 2, 3.0, '4', [5, 6]]\n",
    "\n",
    "print(rand_list)"
   ]
  },
  {
   "cell_type": "code",
   "execution_count": 3,
   "id": "4a137fbc",
   "metadata": {},
   "outputs": [
    {
     "name": "stdout",
     "output_type": "stream",
     "text": [
      "<class 'list'>\n",
      "<class 'list'>\n"
     ]
    }
   ],
   "source": [
    "print(type(nums))\n",
    "print(type(rand_list))"
   ]
  },
  {
   "cell_type": "markdown",
   "id": "c609dcea",
   "metadata": {},
   "source": [
    "#### Python List Method"
   ]
  },
  {
   "cell_type": "markdown",
   "id": "77c6ebfe",
   "metadata": {},
   "source": [
    "```list.append(value)```"
   ]
  },
  {
   "cell_type": "code",
   "execution_count": 4,
   "id": "f70ba2db",
   "metadata": {},
   "outputs": [
    {
     "name": "stdout",
     "output_type": "stream",
     "text": [
      "[1, 2, 3]\n"
     ]
    }
   ],
   "source": [
    "nums = [1, 2, 3]\n",
    "\n",
    "print(nums)"
   ]
  },
  {
   "cell_type": "code",
   "execution_count": 5,
   "id": "5057398e",
   "metadata": {},
   "outputs": [
    {
     "name": "stdout",
     "output_type": "stream",
     "text": [
      "[1, 2, 3, 4]\n"
     ]
    }
   ],
   "source": [
    "nums.append(4)\n",
    "\n",
    "print(nums)"
   ]
  },
  {
   "cell_type": "markdown",
   "id": "1b22b286",
   "metadata": {},
   "source": [
    "```list.insert(index, value)```"
   ]
  },
  {
   "cell_type": "code",
   "execution_count": 6,
   "id": "b96c8096",
   "metadata": {},
   "outputs": [
    {
     "name": "stdout",
     "output_type": "stream",
     "text": [
      "[1, 2, 3, 4]\n",
      "['Hello', 1, 2, 3, 4]\n"
     ]
    }
   ],
   "source": [
    "print(nums)\n",
    "\n",
    "nums.insert(0, 'Hello')\n",
    "\n",
    "print(nums)"
   ]
  },
  {
   "cell_type": "markdown",
   "id": "12cfc0e7",
   "metadata": {},
   "source": [
    "```list.extend(another_list)```"
   ]
  },
  {
   "cell_type": "code",
   "execution_count": 7,
   "id": "1bbd7ddf",
   "metadata": {},
   "outputs": [
    {
     "name": "stdout",
     "output_type": "stream",
     "text": [
      "[1, 2, 3]\n",
      "[1, 2, 3, 4, 5, 6]\n"
     ]
    }
   ],
   "source": [
    "nums1 = [1,2,3]\n",
    "nums2 = [4,5,6]\n",
    "\n",
    "print(nums1)\n",
    "nums1.extend(nums2)\n",
    "\n",
    "print(nums1)"
   ]
  }
 ],
 "metadata": {
  "kernelspec": {
   "display_name": "Python 3 (ipykernel)",
   "language": "python",
   "name": "python3"
  },
  "language_info": {
   "codemirror_mode": {
    "name": "ipython",
    "version": 3
   },
   "file_extension": ".py",
   "mimetype": "text/x-python",
   "name": "python",
   "nbconvert_exporter": "python",
   "pygments_lexer": "ipython3",
   "version": "3.9.7"
  }
 },
 "nbformat": 4,
 "nbformat_minor": 5
}
