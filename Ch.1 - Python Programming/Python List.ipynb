{
 "cells": [
  {
   "cell_type": "markdown",
   "id": "d7c6cebb",
   "metadata": {},
   "source": [
    "#### Python List Introduction"
   ]
  },
  {
   "cell_type": "code",
   "execution_count": 1,
   "id": "9b0a9946",
   "metadata": {},
   "outputs": [
    {
     "name": "stdout",
     "output_type": "stream",
     "text": [
      "[1, 2, 3, 4, 5]\n"
     ]
    }
   ],
   "source": [
    "nums = [1, 2, 3, 4, 5]\n",
    "\n",
    "print(nums)"
   ]
  },
  {
   "cell_type": "code",
   "execution_count": 2,
   "id": "0e878197",
   "metadata": {},
   "outputs": [
    {
     "name": "stdout",
     "output_type": "stream",
     "text": [
      "[False, True, 2, 3.0, '4', [5, 6]]\n"
     ]
    }
   ],
   "source": [
    "rand_list = [False, True, 2, 3.0, '4', [5, 6]]\n",
    "\n",
    "print(rand_list)"
   ]
  },
  {
   "cell_type": "code",
   "execution_count": 3,
   "id": "4a137fbc",
   "metadata": {},
   "outputs": [
    {
     "name": "stdout",
     "output_type": "stream",
     "text": [
      "<class 'list'>\n",
      "<class 'list'>\n"
     ]
    }
   ],
   "source": [
    "print(type(nums))\n",
    "print(type(rand_list))"
   ]
  },
  {
   "cell_type": "markdown",
   "id": "c609dcea",
   "metadata": {},
   "source": [
    "#### Python List Method"
   ]
  },
  {
   "cell_type": "markdown",
   "id": "77c6ebfe",
   "metadata": {},
   "source": [
    "```list.append(value)```"
   ]
  },
  {
   "cell_type": "code",
   "execution_count": 4,
   "id": "f70ba2db",
   "metadata": {},
   "outputs": [
    {
     "name": "stdout",
     "output_type": "stream",
     "text": [
      "[1, 2, 3]\n"
     ]
    }
   ],
   "source": [
    "nums = [1, 2, 3]\n",
    "\n",
    "print(nums)"
   ]
  },
  {
   "cell_type": "code",
   "execution_count": 5,
   "id": "5057398e",
   "metadata": {},
   "outputs": [
    {
     "name": "stdout",
     "output_type": "stream",
     "text": [
      "[1, 2, 3, 4]\n"
     ]
    }
   ],
   "source": [
    "nums.append(4)\n",
    "\n",
    "print(nums)"
   ]
  },
  {
   "cell_type": "markdown",
   "id": "1b22b286",
   "metadata": {},
   "source": [
    "```list.insert(index, value)```"
   ]
  },
  {
   "cell_type": "code",
   "execution_count": 6,
   "id": "b96c8096",
   "metadata": {},
   "outputs": [
    {
     "name": "stdout",
     "output_type": "stream",
     "text": [
      "[1, 2, 3, 4]\n",
      "['Hello', 1, 2, 3, 4]\n"
     ]
    }
   ],
   "source": [
    "print(nums)\n",
    "\n",
    "nums.insert(0, 'Hello')\n",
    "\n",
    "print(nums)"
   ]
  },
  {
   "cell_type": "markdown",
   "id": "12cfc0e7",
   "metadata": {},
   "source": [
    "```list.extend(another_list)```"
   ]
  },
  {
   "cell_type": "code",
   "execution_count": 7,
   "id": "1bbd7ddf",
   "metadata": {},
   "outputs": [
    {
     "name": "stdout",
     "output_type": "stream",
     "text": [
      "[1, 2, 3]\n",
      "[1, 2, 3, 4, 5, 6]\n"
     ]
    }
   ],
   "source": [
    "nums1 = [1,2,3]\n",
    "nums2 = [4,5,6]\n",
    "\n",
    "print(nums1)\n",
    "nums1.extend(nums2)\n",
    "\n",
    "print(nums1)"
   ]
  },
  {
   "cell_type": "markdown",
   "id": "52fda7dd",
   "metadata": {},
   "source": [
    "```list.sort(reverse=False)```"
   ]
  },
  {
   "cell_type": "code",
   "execution_count": 8,
   "id": "6fb0fb18",
   "metadata": {},
   "outputs": [
    {
     "name": "stdout",
     "output_type": "stream",
     "text": [
      "Before Sorting : [1, 4, 3, 2]\n",
      "After Sorting : [1, 2, 3, 4]\n"
     ]
    }
   ],
   "source": [
    "nums = [1, 4, 3, 2]\n",
    "\n",
    "print(f\"Before Sorting : {nums}\")\n",
    "nums.sort()\n",
    "print(f\"After Sorting : {nums}\")"
   ]
  },
  {
   "cell_type": "code",
   "execution_count": 9,
   "id": "66a9eff6",
   "metadata": {},
   "outputs": [
    {
     "name": "stdout",
     "output_type": "stream",
     "text": [
      "Before Sorting : [1, 4, 3, 2]\n",
      "After Sorting : [4, 3, 2, 1]\n"
     ]
    }
   ],
   "source": [
    "nums = [1, 4, 3, 2]\n",
    "\n",
    "print(f\"Before Sorting : {nums}\")\n",
    "nums.sort(reverse=True)\n",
    "print(f\"After Sorting : {nums}\")"
   ]
  },
  {
   "cell_type": "markdown",
   "id": "f4b3faf9",
   "metadata": {},
   "source": [
    "```list.reverse()```"
   ]
  },
  {
   "cell_type": "code",
   "execution_count": 10,
   "id": "ce4b21f8",
   "metadata": {},
   "outputs": [
    {
     "name": "stdout",
     "output_type": "stream",
     "text": [
      "Before Reverse : [1, 5, 0, 9]\n",
      "After Reverse : [9, 0, 5, 1]\n"
     ]
    }
   ],
   "source": [
    "nums = [1, 5, 0, 9]\n",
    "\n",
    "print(f\"Before Reverse : {nums}\")\n",
    "nums.reverse()\n",
    "print(f\"After Reverse : {nums}\")"
   ]
  },
  {
   "cell_type": "markdown",
   "id": "533e3df4",
   "metadata": {},
   "source": [
    "```list.remove(value)```"
   ]
  },
  {
   "cell_type": "code",
   "execution_count": 11,
   "id": "2f7a659c",
   "metadata": {},
   "outputs": [
    {
     "name": "stdout",
     "output_type": "stream",
     "text": [
      "[1, 3, 4]\n"
     ]
    }
   ],
   "source": [
    "nums = [1, 2, 3, 4]\n",
    "nums.remove(2)\n",
    "print(nums)"
   ]
  },
  {
   "cell_type": "markdown",
   "id": "10607485",
   "metadata": {},
   "source": [
    "```list.pop(index)```"
   ]
  },
  {
   "cell_type": "code",
   "execution_count": 12,
   "id": "b952124f",
   "metadata": {},
   "outputs": [
    {
     "name": "stdout",
     "output_type": "stream",
     "text": [
      "[1, 2, 3, 5]\n"
     ]
    }
   ],
   "source": [
    "nums = [1, 2, 3, 4, 5]\n",
    "nums.pop(3)\n",
    "print(nums)"
   ]
  },
  {
   "cell_type": "code",
   "execution_count": 13,
   "id": "ddb595ee",
   "metadata": {},
   "outputs": [
    {
     "name": "stdout",
     "output_type": "stream",
     "text": [
      "[1, 2, 3, 4]\n"
     ]
    }
   ],
   "source": [
    "nums = [1, 2, 3, 4, 5]\n",
    "nums.pop()\n",
    "print(nums)"
   ]
  },
  {
   "cell_type": "markdown",
   "id": "a830dbd8",
   "metadata": {},
   "source": [
    "```del list[index]```"
   ]
  },
  {
   "cell_type": "code",
   "execution_count": 14,
   "id": "fad87b30",
   "metadata": {},
   "outputs": [
    {
     "name": "stdout",
     "output_type": "stream",
     "text": [
      "[1, 2, 3, 5]\n"
     ]
    }
   ],
   "source": [
    "nums = [1, 2, 3, 4, 5]\n",
    "del nums[3]\n",
    "print(nums)"
   ]
  },
  {
   "cell_type": "markdown",
   "id": "6befc750",
   "metadata": {},
   "source": [
    "```list.clear()```"
   ]
  },
  {
   "cell_type": "code",
   "execution_count": 15,
   "id": "6c9795d1",
   "metadata": {},
   "outputs": [
    {
     "name": "stdout",
     "output_type": "stream",
     "text": [
      "[]\n"
     ]
    }
   ],
   "source": [
    "nums = [1, 2, 3, 4, 5]\n",
    "nums.clear()\n",
    "print(nums)"
   ]
  },
  {
   "cell_type": "markdown",
   "id": "aac4f2eb",
   "metadata": {},
   "source": [
    "```del list```"
   ]
  },
  {
   "cell_type": "code",
   "execution_count": 16,
   "id": "1868689d",
   "metadata": {},
   "outputs": [
    {
     "name": "stdout",
     "output_type": "stream",
     "text": [
      "No nums list\n"
     ]
    }
   ],
   "source": [
    "nums = [1, 2, 3, 4, 5]\n",
    "\n",
    "del nums\n",
    "\n",
    "try:\n",
    "    print(nums)\n",
    "except:\n",
    "    print(\"No nums list\")"
   ]
  },
  {
   "cell_type": "markdown",
   "id": "ae32d2eb",
   "metadata": {},
   "source": [
    "```list.index(value)```"
   ]
  },
  {
   "cell_type": "code",
   "execution_count": 17,
   "id": "1ac9a6f4",
   "metadata": {},
   "outputs": [
    {
     "name": "stdout",
     "output_type": "stream",
     "text": [
      "2\n"
     ]
    }
   ],
   "source": [
    "nums = [1, 2, 3, 4, 5]\n",
    "print(nums.index(3))"
   ]
  },
  {
   "cell_type": "markdown",
   "id": "f95ca747",
   "metadata": {},
   "source": [
    "```list.count(value)```"
   ]
  },
  {
   "cell_type": "code",
   "execution_count": 18,
   "id": "e06f18cc",
   "metadata": {},
   "outputs": [
    {
     "name": "stdout",
     "output_type": "stream",
     "text": [
      "2\n"
     ]
    }
   ],
   "source": [
    "nums = [1, 1, 2, 3]\n",
    "\n",
    "print(nums.count(1))"
   ]
  },
  {
   "cell_type": "markdown",
   "id": "2a004f95",
   "metadata": {},
   "source": [
    "```list[index] = new value```"
   ]
  },
  {
   "cell_type": "code",
   "execution_count": 19,
   "id": "4dd40329",
   "metadata": {},
   "outputs": [
    {
     "name": "stdout",
     "output_type": "stream",
     "text": [
      "[1, 1, 2, 3]\n",
      "['Martin Garrix', 1, 2, 3]\n"
     ]
    }
   ],
   "source": [
    "print(nums)\n",
    "\n",
    "nums[0] = \"Martin Garrix\"\n",
    "\n",
    "print(nums)"
   ]
  },
  {
   "cell_type": "code",
   "execution_count": 20,
   "id": "7a24ee08",
   "metadata": {},
   "outputs": [
    {
     "name": "stdout",
     "output_type": "stream",
     "text": [
      "['Martin Garrix', 1, 2, 3, 4, 5, 6, 7]\n",
      "['Martin Garrix', 'Justin Mylo', 'Zedd', 'Tinie Tempah', 3, 4, 5, 6, 7]\n"
     ]
    }
   ],
   "source": [
    "nums.extend([4, 5, 6, 7])\n",
    "\n",
    "print(nums)\n",
    "\n",
    "nums[1:3] = ['Justin Mylo','Zedd','Tinie Tempah']\n",
    "\n",
    "print(nums)"
   ]
  },
  {
   "cell_type": "markdown",
   "id": "180594fc",
   "metadata": {},
   "source": [
    "List Accessing"
   ]
  },
  {
   "cell_type": "code",
   "execution_count": 21,
   "id": "69d3d097",
   "metadata": {},
   "outputs": [
    {
     "name": "stdout",
     "output_type": "stream",
     "text": [
      "1\n",
      "10\n"
     ]
    }
   ],
   "source": [
    "nums = [*range(1,11)]\n",
    "\n",
    "print(nums[0])\n",
    "print(nums[-1])"
   ]
  },
  {
   "cell_type": "code",
   "execution_count": 22,
   "id": "d11d685f",
   "metadata": {},
   "outputs": [
    {
     "name": "stdout",
     "output_type": "stream",
     "text": [
      "[1, 2, 3, 4, 5]\n"
     ]
    }
   ],
   "source": [
    "print(nums[:5])"
   ]
  },
  {
   "cell_type": "code",
   "execution_count": 23,
   "id": "ea22109f",
   "metadata": {},
   "outputs": [
    {
     "name": "stdout",
     "output_type": "stream",
     "text": [
      "[3, 4, 5]\n"
     ]
    }
   ],
   "source": [
    "print(nums[2:5])"
   ]
  },
  {
   "cell_type": "code",
   "execution_count": 24,
   "id": "2c8aeed4",
   "metadata": {},
   "outputs": [
    {
     "name": "stdout",
     "output_type": "stream",
     "text": [
      "[6, 7, 8, 9, 10]\n"
     ]
    }
   ],
   "source": [
    "print(nums[5:])"
   ]
  },
  {
   "cell_type": "code",
   "execution_count": 25,
   "id": "4627d33c",
   "metadata": {},
   "outputs": [
    {
     "name": "stdout",
     "output_type": "stream",
     "text": [
      "[7, 8]\n"
     ]
    }
   ],
   "source": [
    "print(nums[-4:-2])"
   ]
  }
 ],
 "metadata": {
  "kernelspec": {
   "display_name": "Python 3 (ipykernel)",
   "language": "python",
   "name": "python3"
  },
  "language_info": {
   "codemirror_mode": {
    "name": "ipython",
    "version": 3
   },
   "file_extension": ".py",
   "mimetype": "text/x-python",
   "name": "python",
   "nbconvert_exporter": "python",
   "pygments_lexer": "ipython3",
   "version": "3.9.7"
  }
 },
 "nbformat": 4,
 "nbformat_minor": 5
}
