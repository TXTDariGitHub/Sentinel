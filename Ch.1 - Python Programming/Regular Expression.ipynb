{
 "cells": [
  {
   "cell_type": "code",
   "execution_count": 1,
   "id": "800ac948",
   "metadata": {},
   "outputs": [],
   "source": [
    "import re\n",
    "import pandas as pd"
   ]
  },
  {
   "cell_type": "markdown",
   "id": "ca9e6846",
   "metadata": {},
   "source": [
    "#### 1 - Introduction to Regular Expression"
   ]
  },
  {
   "cell_type": "code",
   "execution_count": 2,
   "id": "30fb1de2",
   "metadata": {},
   "outputs": [
    {
     "name": "stdout",
     "output_type": "stream",
     "text": [
      "['robot', 'robot', 'robot']\n"
     ]
    }
   ],
   "source": [
    "text = \"@robot3!, @robot5& and @robot7#\"\n",
    "\n",
    "pattern = r\"robot\"\n",
    "\n",
    "print(re.findall(pattern, text))"
   ]
  },
  {
   "cell_type": "code",
   "execution_count": 3,
   "id": "5908fb96",
   "metadata": {},
   "outputs": [
    {
     "name": "stdout",
     "output_type": "stream",
     "text": [
      "['robot3', 'robot5', 'robot7']\n"
     ]
    }
   ],
   "source": [
    "pattern = r\"robot\\d\"\n",
    "\n",
    "print(re.findall(pattern, text))"
   ]
  },
  {
   "cell_type": "code",
   "execution_count": 4,
   "id": "185dcd2a",
   "metadata": {},
   "outputs": [
    {
     "name": "stdout",
     "output_type": "stream",
     "text": [
      "['@robot3!', '@robot5&', '@robot7#']\n"
     ]
    }
   ],
   "source": [
    "pattern = r\"@robot\\d\\W\"\n",
    "\n",
    "print(re.findall(pattern, text))"
   ]
  },
  {
   "cell_type": "code",
   "execution_count": 5,
   "id": "cb9d0414",
   "metadata": {},
   "outputs": [
    {
     "name": "stdout",
     "output_type": "stream",
     "text": [
      "['User_mentions:9', 'likes: 5', 'retweets: 4']\n"
     ]
    }
   ],
   "source": [
    "text = \"Agh,snow! User_mentions:9, likes: 5, number of retweets: 4\"\n",
    "\n",
    "pt1 = r\"\\S+\\W\\d\"\n",
    "\n",
    "print(re.findall(pt1, text))"
   ]
  },
  {
   "cell_type": "markdown",
   "id": "c4218f23",
   "metadata": {},
   "source": [
    "Space = Break<br>\n",
    "Space Word = SymbolnewCapitalLetter"
   ]
  },
  {
   "cell_type": "code",
   "execution_count": 6,
   "id": "3396d1a5",
   "metadata": {},
   "outputs": [],
   "source": [
    "text = \"He#newHis%newTin love with$newPscrappy. #8break%He is&newYmissing him@newLalready\"\n",
    "\n",
    "pattern = r\"\\W\\dbreak\\W\"\n",
    "\n",
    "# Replace the regex_sentence with a space\n",
    "text_sub = re.sub(pattern, \" \", text)"
   ]
  },
  {
   "cell_type": "code",
   "execution_count": 7,
   "id": "10c3e4b6",
   "metadata": {},
   "outputs": [
    {
     "name": "stdout",
     "output_type": "stream",
     "text": [
      "He#newHis%newTin love with$newPscrappy.  He is&newYmissing him@newLalready\n"
     ]
    }
   ],
   "source": [
    "print(text_sub)"
   ]
  },
  {
   "cell_type": "code",
   "execution_count": 8,
   "id": "c337d27c",
   "metadata": {},
   "outputs": [
    {
     "name": "stdout",
     "output_type": "stream",
     "text": [
      "He is in love with scrappy.  He is missing him already\n"
     ]
    }
   ],
   "source": [
    "regex_words = r\"\\Wnew\\w\"\n",
    "\n",
    "# Replace the regex_words and print the result\n",
    "sentiment_final = re.sub(regex_words, \" \", text_sub)\n",
    "print(sentiment_final)"
   ]
  },
  {
   "cell_type": "markdown",
   "id": "33058b8e",
   "metadata": {},
   "source": [
    "#### 2 - Regular Expression for Pattern Matching"
   ]
  },
  {
   "cell_type": "markdown",
   "id": "6fd56f27",
   "metadata": {},
   "source": [
    "#### 3 - Advanced Regular Expression Concept"
   ]
  }
 ],
 "metadata": {
  "kernelspec": {
   "display_name": "Python 3 (ipykernel)",
   "language": "python",
   "name": "python3"
  },
  "language_info": {
   "codemirror_mode": {
    "name": "ipython",
    "version": 3
   },
   "file_extension": ".py",
   "mimetype": "text/x-python",
   "name": "python",
   "nbconvert_exporter": "python",
   "pygments_lexer": "ipython3",
   "version": "3.9.7"
  }
 },
 "nbformat": 4,
 "nbformat_minor": 5
}
