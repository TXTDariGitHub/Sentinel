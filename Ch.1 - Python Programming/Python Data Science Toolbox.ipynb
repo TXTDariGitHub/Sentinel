{
 "cells": [
  {
   "cell_type": "markdown",
   "id": "5a07d020",
   "metadata": {},
   "source": [
    "### Part 1\n",
    "1. Writing your own functions\n",
    "2. Default arguments, variable-length arguments and scope\n",
    "3. Lambda functions and error-handling"
   ]
  },
  {
   "cell_type": "code",
   "execution_count": 1,
   "id": "a6d7cb9c",
   "metadata": {},
   "outputs": [
    {
     "name": "stdout",
     "output_type": "stream",
     "text": [
      "Hello Nicholas\n"
     ]
    }
   ],
   "source": [
    "def greetings():\n",
    "    print(\"Hello Nicholas\")\n",
    "    \n",
    "greetings()"
   ]
  },
  {
   "cell_type": "code",
   "execution_count": 2,
   "id": "b969bb30",
   "metadata": {},
   "outputs": [
    {
     "name": "stdout",
     "output_type": "stream",
     "text": [
      "Good Morning !!!\n"
     ]
    }
   ],
   "source": [
    "def morning():\n",
    "    print(\"Good Morning !!!\")\n",
    "    \n",
    "morning()"
   ]
  },
  {
   "cell_type": "code",
   "execution_count": 3,
   "id": "759a0182",
   "metadata": {},
   "outputs": [
    {
     "name": "stdout",
     "output_type": "stream",
     "text": [
      "Hello Isyana\n"
     ]
    }
   ],
   "source": [
    "def student_name(name):\n",
    "    print(f\"Hello {name}\")\n",
    "    \n",
    "student_name(\"Isyana\")"
   ]
  },
  {
   "cell_type": "code",
   "execution_count": 4,
   "id": "4cc70a0a",
   "metadata": {},
   "outputs": [
    {
     "name": "stdout",
     "output_type": "stream",
     "text": [
      "Current Age 20\n"
     ]
    }
   ],
   "source": [
    "def student_age(age):\n",
    "    print(f\"Current Age {age}\")\n",
    "    \n",
    "student_age(20)"
   ]
  },
  {
   "cell_type": "code",
   "execution_count": 5,
   "id": "93f78efe",
   "metadata": {},
   "outputs": [
    {
     "name": "stdout",
     "output_type": "stream",
     "text": [
      "Nicholas Like Python\n"
     ]
    }
   ],
   "source": [
    "def programming_language(prog_lang):\n",
    "    result = f\"Nicholas Like {prog_lang}\"\n",
    "    return result\n",
    "\n",
    "print(programming_language(\"Python\"))"
   ]
  },
  {
   "cell_type": "code",
   "execution_count": 6,
   "id": "3330c40d",
   "metadata": {},
   "outputs": [
    {
     "name": "stdout",
     "output_type": "stream",
     "text": [
      "I Like Zedd\n"
     ]
    }
   ],
   "source": [
    "def edm(edm_artist):\n",
    "    result = f\"I Like {edm_artist}\"\n",
    "    return result\n",
    "    print(\"Hello\")\n",
    "    \n",
    "print(edm(\"Zedd\"))"
   ]
  },
  {
   "cell_type": "code",
   "execution_count": 7,
   "id": "c85bde6c",
   "metadata": {},
   "outputs": [
    {
     "name": "stdout",
     "output_type": "stream",
     "text": [
      "Kelv age is 20\n"
     ]
    }
   ],
   "source": [
    "def student_profile(name, age):\n",
    "    return f\"{name} age is {age}\"\n",
    "\n",
    "print(student_profile(\"Kelv\",20))"
   ]
  },
  {
   "cell_type": "code",
   "execution_count": 8,
   "id": "3e57c309",
   "metadata": {},
   "outputs": [
    {
     "name": "stdout",
     "output_type": "stream",
     "text": [
      "ELV 29 Years Old\n"
     ]
    }
   ],
   "source": [
    "def student_profile(name, age):\n",
    "    name = name.upper()\n",
    "    age = str(age) + \" Years Old\"\n",
    "    return (name, age)\n",
    "\n",
    "x, y = student_profile(\"elv\",29)\n",
    "\n",
    "print(x, y)"
   ]
  },
  {
   "cell_type": "code",
   "execution_count": 9,
   "id": "7081a99a",
   "metadata": {},
   "outputs": [
    {
     "name": "stdout",
     "output_type": "stream",
     "text": [
      "153.86\n"
     ]
    }
   ],
   "source": [
    "def luas_lingkaran(r, pi = 3.14):\n",
    "    return pi * r * r\n",
    "\n",
    "print(luas_lingkaran(7))"
   ]
  },
  {
   "cell_type": "code",
   "execution_count": 10,
   "id": "4744abc3",
   "metadata": {},
   "outputs": [
    {
     "name": "stdout",
     "output_type": "stream",
     "text": [
      "5.0\n",
      "4.242640687119285\n"
     ]
    }
   ],
   "source": [
    "def pytha(a, b = 4):\n",
    "    return (a ** 2 + b ** 2)**0.5\n",
    "\n",
    "print(pytha(3))\n",
    "print(pytha(3,3))"
   ]
  },
  {
   "cell_type": "code",
   "execution_count": 11,
   "id": "ecfaa8c1",
   "metadata": {},
   "outputs": [
    {
     "name": "stdout",
     "output_type": "stream",
     "text": [
      "Martin Garrix\n",
      "Zedd\n",
      "Martin Garrix\n"
     ]
    }
   ],
   "source": [
    "nama = \"Martin Garrix\"\n",
    "\n",
    "def editor():\n",
    "    nama = \"Zedd\"\n",
    "    return nama\n",
    "\n",
    "print(nama)\n",
    "print(editor())\n",
    "print(nama)"
   ]
  },
  {
   "cell_type": "code",
   "execution_count": 12,
   "id": "0e1fb7ed",
   "metadata": {},
   "outputs": [
    {
     "name": "stdout",
     "output_type": "stream",
     "text": [
      "Harry Meguayer\n",
      "Haji Wak Benzema\n",
      "Haji Wak Benzema\n"
     ]
    }
   ],
   "source": [
    "nama = \"Harry Meguayer\"\n",
    "\n",
    "def editor():\n",
    "    global nama\n",
    "    nama = \"Haji Wak Benzema\"\n",
    "    return nama\n",
    "\n",
    "print(nama)\n",
    "print(editor())\n",
    "print(nama)"
   ]
  },
  {
   "cell_type": "code",
   "execution_count": 13,
   "id": "dc75bdee",
   "metadata": {},
   "outputs": [
    {
     "name": "stdout",
     "output_type": "stream",
     "text": [
      "Kelv mendapatkan mata kuliah Data Science\n"
     ]
    }
   ],
   "source": [
    "def main(nama, kelas):\n",
    "    def alpha():\n",
    "        return f\"{nama} mendapatkan mata kuliah Data Science\"\n",
    "    def beta():\n",
    "        return f\"{nama} mendapatkan mata kuliah Data Analytics\"\n",
    "    \n",
    "    if kelas.upper() == 'A':\n",
    "        return alpha()\n",
    "    elif kelas.upper() == 'B':\n",
    "        return beta()\n",
    "    else:\n",
    "        return \"Unregistered Class\"\n",
    "    \n",
    "print(main(\"Kelv\",\"a\"))"
   ]
  },
  {
   "cell_type": "code",
   "execution_count": 14,
   "id": "f23a42a1",
   "metadata": {},
   "outputs": [
    {
     "name": "stdout",
     "output_type": "stream",
     "text": [
      "Kelv mendapatkan mata kuliah Data\n"
     ]
    }
   ],
   "source": [
    "def main(nama):\n",
    "    def matkul(matkul):\n",
    "        return f\"{nama} mendapatkan mata kuliah {matkul}\"\n",
    "    return matkul\n",
    "    \n",
    "m1 = main(\"Kelv\")\n",
    "print(m1(\"Data\"))"
   ]
  },
  {
   "cell_type": "code",
   "execution_count": 15,
   "id": "8decf4ef",
   "metadata": {},
   "outputs": [
    {
     "name": "stdout",
     "output_type": "stream",
     "text": [
      "Helicopter\n"
     ]
    }
   ],
   "source": [
    "def random():\n",
    "    edm = \"Helicopter\"\n",
    "    def inner():\n",
    "        edm = \"Supposed to be\"\n",
    "    inner()\n",
    "    return edm\n",
    "\n",
    "print(random())"
   ]
  },
  {
   "cell_type": "code",
   "execution_count": 16,
   "id": "27cfa784",
   "metadata": {},
   "outputs": [
    {
     "name": "stdout",
     "output_type": "stream",
     "text": [
      "Supposed to be\n"
     ]
    }
   ],
   "source": [
    "def random():\n",
    "    edm = \"Helicopter\"\n",
    "    def inner():\n",
    "        nonlocal edm\n",
    "        edm = \"Supposed to be\"\n",
    "    inner()\n",
    "    return edm\n",
    "\n",
    "print(random())"
   ]
  },
  {
   "cell_type": "code",
   "execution_count": 17,
   "id": "79bc3a2b",
   "metadata": {},
   "outputs": [
    {
     "name": "stdout",
     "output_type": "stream",
     "text": [
      "1\n",
      "6\n"
     ]
    }
   ],
   "source": [
    "def unlimited(*args):\n",
    "    vals = 0\n",
    "    for num in args:\n",
    "        vals += num\n",
    "    return vals\n",
    "\n",
    "print(unlimited(1))\n",
    "print(unlimited(1,2,3))"
   ]
  },
  {
   "cell_type": "code",
   "execution_count": 18,
   "id": "8de275e9",
   "metadata": {},
   "outputs": [
    {
     "name": "stdout",
     "output_type": "stream",
     "text": [
      "nama : Kel\n",
      "fav_genre : Pop\n",
      "occupation : GoTo Data Scientist\n"
     ]
    }
   ],
   "source": [
    "def keyword(**kwargs):\n",
    "    for key, val in kwargs.items():\n",
    "        print(f\"{key} : {val}\")\n",
    "        \n",
    "keyword(nama=\"Kel\",fav_genre=\"Pop\",occupation=\"GoTo Data Scientist\")"
   ]
  },
  {
   "cell_type": "markdown",
   "id": "efe4f96c",
   "metadata": {},
   "source": [
    "```lambda arguments : expression``` can take unlimited number of arguments but only one expression"
   ]
  },
  {
   "cell_type": "code",
   "execution_count": 19,
   "id": "8ece3117",
   "metadata": {},
   "outputs": [
    {
     "name": "stdout",
     "output_type": "stream",
     "text": [
      "16\n"
     ]
    }
   ],
   "source": [
    "luas_persegi = lambda sisi : sisi ** 2\n",
    "\n",
    "print(luas_persegi(4))"
   ]
  },
  {
   "cell_type": "code",
   "execution_count": 20,
   "id": "bfd9b15b",
   "metadata": {},
   "outputs": [
    {
     "ename": "NameError",
     "evalue": "name 'var_X' is not defined",
     "output_type": "error",
     "traceback": [
      "\u001b[1;31m---------------------------------------------------------------------------\u001b[0m",
      "\u001b[1;31mNameError\u001b[0m                                 Traceback (most recent call last)",
      "\u001b[1;32m~\\AppData\\Local\\Temp/ipykernel_4940/2546124470.py\u001b[0m in \u001b[0;36m<module>\u001b[1;34m\u001b[0m\n\u001b[0;32m      1\u001b[0m \u001b[0mvar_x\u001b[0m \u001b[1;33m=\u001b[0m \u001b[1;36m10\u001b[0m\u001b[1;33m\u001b[0m\u001b[1;33m\u001b[0m\u001b[0m\n\u001b[0;32m      2\u001b[0m \u001b[1;33m\u001b[0m\u001b[0m\n\u001b[1;32m----> 3\u001b[1;33m \u001b[0mprint\u001b[0m\u001b[1;33m(\u001b[0m\u001b[0mvar_X\u001b[0m\u001b[1;33m)\u001b[0m\u001b[1;33m\u001b[0m\u001b[1;33m\u001b[0m\u001b[0m\n\u001b[0m",
      "\u001b[1;31mNameError\u001b[0m: name 'var_X' is not defined"
     ]
    }
   ],
   "source": [
    "var_x = 10\n",
    "\n",
    "print(var_X)"
   ]
  },
  {
   "cell_type": "code",
   "execution_count": 21,
   "id": "be35efdd",
   "metadata": {},
   "outputs": [
    {
     "name": "stdout",
     "output_type": "stream",
     "text": [
      "Undefined variable\n"
     ]
    }
   ],
   "source": [
    "var_x = 10\n",
    "\n",
    "try:\n",
    "    print(var_X)\n",
    "except:\n",
    "    print(\"Undefined variable\")"
   ]
  },
  {
   "cell_type": "code",
   "execution_count": 22,
   "id": "e00ec216",
   "metadata": {},
   "outputs": [
    {
     "name": "stdout",
     "output_type": "stream",
     "text": [
      "Undefined variable\n"
     ]
    }
   ],
   "source": [
    "var_x = 10\n",
    "\n",
    "try:\n",
    "    print(var_X)\n",
    "except NameError:\n",
    "    print(\"Undefined variable\")"
   ]
  },
  {
   "cell_type": "code",
   "execution_count": 23,
   "id": "e3875a95",
   "metadata": {},
   "outputs": [
    {
     "ename": "TypeError",
     "evalue": "Hanya menerima nilai berupa integer",
     "output_type": "error",
     "traceback": [
      "\u001b[1;31m---------------------------------------------------------------------------\u001b[0m",
      "\u001b[1;31mTypeError\u001b[0m                                 Traceback (most recent call last)",
      "\u001b[1;32m~\\AppData\\Local\\Temp/ipykernel_4940/4125084397.py\u001b[0m in \u001b[0;36m<module>\u001b[1;34m\u001b[0m\n\u001b[0;32m      2\u001b[0m \u001b[1;33m\u001b[0m\u001b[0m\n\u001b[0;32m      3\u001b[0m \u001b[1;32mif\u001b[0m \u001b[0mtype\u001b[0m\u001b[1;33m(\u001b[0m\u001b[0mx\u001b[0m\u001b[1;33m)\u001b[0m \u001b[1;33m!=\u001b[0m \u001b[0mint\u001b[0m\u001b[1;33m:\u001b[0m\u001b[1;33m\u001b[0m\u001b[1;33m\u001b[0m\u001b[0m\n\u001b[1;32m----> 4\u001b[1;33m     \u001b[1;32mraise\u001b[0m \u001b[0mTypeError\u001b[0m\u001b[1;33m(\u001b[0m\u001b[1;34m\"Hanya menerima nilai berupa integer\"\u001b[0m\u001b[1;33m)\u001b[0m\u001b[1;33m\u001b[0m\u001b[1;33m\u001b[0m\u001b[0m\n\u001b[0m",
      "\u001b[1;31mTypeError\u001b[0m: Hanya menerima nilai berupa integer"
     ]
    }
   ],
   "source": [
    "x = \"100\"\n",
    "\n",
    "if type(x) != int:\n",
    "    raise TypeError(\"Hanya menerima nilai berupa integer\")"
   ]
  },
  {
   "cell_type": "markdown",
   "id": "92a2b1fc",
   "metadata": {},
   "source": [
    "### Part 2\n",
    "1. Using iterators in PythonLand\n",
    "2. List comprehensions and generators\n",
    "3. Bringing it all together!"
   ]
  },
  {
   "cell_type": "markdown",
   "id": "6c88b59e",
   "metadata": {},
   "source": [
    "```Pre-req : List and For Loop```"
   ]
  },
  {
   "cell_type": "code",
   "execution_count": 24,
   "id": "e50880e9",
   "metadata": {},
   "outputs": [
    {
     "name": "stdout",
     "output_type": "stream",
     "text": [
      "[1, 2, 3, 4, 5]\n"
     ]
    }
   ],
   "source": [
    "nums = [1,2,3,4,5]\n",
    "\n",
    "print(nums)"
   ]
  },
  {
   "cell_type": "code",
   "execution_count": 25,
   "id": "91ae962e",
   "metadata": {},
   "outputs": [
    {
     "data": {
      "text/plain": [
       "[2, 4, 6, 8, 10]"
      ]
     },
     "execution_count": 25,
     "metadata": {},
     "output_type": "execute_result"
    }
   ],
   "source": [
    "double = []\n",
    "\n",
    "for num in nums:\n",
    "    double.append(num * 2)\n",
    "    \n",
    "double"
   ]
  },
  {
   "cell_type": "markdown",
   "id": "74dbfcac",
   "metadata": {},
   "source": [
    "```[expression for loop]```"
   ]
  },
  {
   "cell_type": "code",
   "execution_count": 26,
   "id": "7a80a689",
   "metadata": {},
   "outputs": [
    {
     "data": {
      "text/plain": [
       "[1, 4, 9, 16, 25]"
      ]
     },
     "execution_count": 26,
     "metadata": {},
     "output_type": "execute_result"
    }
   ],
   "source": [
    "logistic = [num**2 for num in nums]\n",
    "\n",
    "logistic"
   ]
  },
  {
   "cell_type": "markdown",
   "id": "3a4788c0",
   "metadata": {},
   "source": [
    "```[expression for loop if conditional]```"
   ]
  },
  {
   "cell_type": "code",
   "execution_count": 27,
   "id": "3c079b55",
   "metadata": {},
   "outputs": [
    {
     "data": {
      "text/plain": [
       "[4, 16, 36, 64, 100]"
      ]
     },
     "execution_count": 27,
     "metadata": {},
     "output_type": "execute_result"
    }
   ],
   "source": [
    "zero_logistic = [num ** 2 for num in range(1,11) if num % 2 == 0]\n",
    "\n",
    "zero_logistic"
   ]
  },
  {
   "cell_type": "markdown",
   "id": "d8d470ba",
   "metadata": {},
   "source": [
    "```[expression if else for loop]```"
   ]
  },
  {
   "cell_type": "code",
   "execution_count": 28,
   "id": "81bc24c2",
   "metadata": {},
   "outputs": [
    {
     "data": {
      "text/plain": [
       "[0, 4, 0, 16, 0, 36, 0, 64, 0, 100]"
      ]
     },
     "execution_count": 28,
     "metadata": {},
     "output_type": "execute_result"
    }
   ],
   "source": [
    "zero_logistic = [num ** 2 if num % 2 == 0 else 0 for num in range(1,11)]\n",
    "\n",
    "zero_logistic"
   ]
  },
  {
   "cell_type": "markdown",
   "id": "1768b48b",
   "metadata": {},
   "source": [
    "```Generators```"
   ]
  }
 ],
 "metadata": {
  "kernelspec": {
   "display_name": "Python 3 (ipykernel)",
   "language": "python",
   "name": "python3"
  },
  "language_info": {
   "codemirror_mode": {
    "name": "ipython",
    "version": 3
   },
   "file_extension": ".py",
   "mimetype": "text/x-python",
   "name": "python",
   "nbconvert_exporter": "python",
   "pygments_lexer": "ipython3",
   "version": "3.9.7"
  }
 },
 "nbformat": 4,
 "nbformat_minor": 5
}
