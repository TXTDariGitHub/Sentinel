{
 "cells": [
  {
   "cell_type": "markdown",
   "id": "5fb69aab",
   "metadata": {},
   "source": [
    "#### 1 - Introduction to String Manipulation"
   ]
  },
  {
   "cell_type": "markdown",
   "id": "7a1fa06e",
   "metadata": {},
   "source": [
    "#### 2 - Basic Concepts of String Manipulation"
   ]
  },
  {
   "cell_type": "markdown",
   "id": "8afc517d",
   "metadata": {},
   "source": [
    "#### 3 - Formatting String"
   ]
  }
 ],
 "metadata": {
  "kernelspec": {
   "display_name": "Python 3 (ipykernel)",
   "language": "python",
   "name": "python3"
  },
  "language_info": {
   "codemirror_mode": {
    "name": "ipython",
    "version": 3
   },
   "file_extension": ".py",
   "mimetype": "text/x-python",
   "name": "python",
   "nbconvert_exporter": "python",
   "pygments_lexer": "ipython3",
   "version": "3.9.7"
  }
 },
 "nbformat": 4,
 "nbformat_minor": 5
}
