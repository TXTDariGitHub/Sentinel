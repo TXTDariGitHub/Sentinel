{
 "cells": [
  {
   "cell_type": "code",
   "execution_count": 1,
   "id": "800ac948",
   "metadata": {},
   "outputs": [],
   "source": [
    "import re\n",
    "import pandas as pd"
   ]
  },
  {
   "cell_type": "markdown",
   "id": "fd82ec13",
   "metadata": {},
   "source": [
    "```\\s``` => Whitespace<br>\n",
    "```\\w``` => matches a \"word\" character: a letter or digit or underbar [a-zA-Z0-9_]<br>\n",
    "```\\W``` => matches what is not in ```\\w```"
   ]
  },
  {
   "cell_type": "markdown",
   "id": "ca9e6846",
   "metadata": {},
   "source": [
    "#### 1 - Introduction to Regular Expression"
   ]
  },
  {
   "cell_type": "code",
   "execution_count": 2,
   "id": "30fb1de2",
   "metadata": {},
   "outputs": [
    {
     "name": "stdout",
     "output_type": "stream",
     "text": [
      "['robot', 'robot', 'robot']\n"
     ]
    }
   ],
   "source": [
    "text = \"@robot3!, @robot5& and @robot7#\"\n",
    "\n",
    "pattern = r\"robot\"\n",
    "\n",
    "print(re.findall(pattern, text))"
   ]
  },
  {
   "cell_type": "code",
   "execution_count": 3,
   "id": "5908fb96",
   "metadata": {},
   "outputs": [
    {
     "name": "stdout",
     "output_type": "stream",
     "text": [
      "['robot3', 'robot5', 'robot7']\n"
     ]
    }
   ],
   "source": [
    "pattern = r\"robot\\d\"\n",
    "\n",
    "print(re.findall(pattern, text))"
   ]
  },
  {
   "cell_type": "code",
   "execution_count": 4,
   "id": "185dcd2a",
   "metadata": {},
   "outputs": [
    {
     "name": "stdout",
     "output_type": "stream",
     "text": [
      "['@robot3!', '@robot5&', '@robot7#']\n"
     ]
    }
   ],
   "source": [
    "pattern = r\"@robot\\d\\W\"\n",
    "\n",
    "print(re.findall(pattern, text))"
   ]
  },
  {
   "cell_type": "code",
   "execution_count": 5,
   "id": "cb9d0414",
   "metadata": {},
   "outputs": [
    {
     "name": "stdout",
     "output_type": "stream",
     "text": [
      "['User_mentions:9']\n",
      "['likes: 5']\n",
      "['retweets: 4']\n"
     ]
    }
   ],
   "source": [
    "text = \"Agh,snow! User_mentions:9, likes: 5, number of retweets: 4\"\n",
    "\n",
    "pt1 = r\"User_mentions:\\d\"\n",
    "pt2 = r\"likes:\\s\\d\"\n",
    "pt3 = r\"retweets:\\s\\d\"\n",
    "\n",
    "print(re.findall(pt1, text))\n",
    "print(re.findall(pt2, text))\n",
    "print(re.findall(pt3, text))"
   ]
  },
  {
   "cell_type": "markdown",
   "id": "c4218f23",
   "metadata": {},
   "source": [
    "Space = Break<br>\n",
    "Space Word = SymbolnewCapitalLetter"
   ]
  },
  {
   "cell_type": "code",
   "execution_count": 6,
   "id": "3396d1a5",
   "metadata": {},
   "outputs": [],
   "source": [
    "text = \"He#newHis%newTin love with$newPscrappy. #8break%He is&newYmissing him@newLalready\"\n",
    "\n",
    "pattern = r\"\\W\\dbreak\\W\"\n",
    "\n",
    "# Replace the regex_sentence with a space\n",
    "text_sub = re.sub(pattern, \" \", text)"
   ]
  },
  {
   "cell_type": "code",
   "execution_count": 7,
   "id": "10c3e4b6",
   "metadata": {},
   "outputs": [
    {
     "name": "stdout",
     "output_type": "stream",
     "text": [
      "He#newHis%newTin love with$newPscrappy.  He is&newYmissing him@newLalready\n"
     ]
    }
   ],
   "source": [
    "print(text_sub)"
   ]
  },
  {
   "cell_type": "code",
   "execution_count": 8,
   "id": "c337d27c",
   "metadata": {},
   "outputs": [
    {
     "name": "stdout",
     "output_type": "stream",
     "text": [
      "He is in love with scrappy.  He is missing him already\n"
     ]
    }
   ],
   "source": [
    "regex_words = r\"\\Wnew\\w\"\n",
    "\n",
    "# Replace the regex_words and print the result\n",
    "sentiment_final = re.sub(regex_words, \" \", text_sub)\n",
    "print(sentiment_final)"
   ]
  },
  {
   "cell_type": "markdown",
   "id": "44360bc9",
   "metadata": {},
   "source": [
    "**Repetitions**"
   ]
  },
  {
   "cell_type": "code",
   "execution_count": 9,
   "id": "0dd540d5",
   "metadata": {},
   "outputs": [
    {
     "data": {
      "text/html": [
       "<div>\n",
       "<style scoped>\n",
       "    .dataframe tbody tr th:only-of-type {\n",
       "        vertical-align: middle;\n",
       "    }\n",
       "\n",
       "    .dataframe tbody tr th {\n",
       "        vertical-align: top;\n",
       "    }\n",
       "\n",
       "    .dataframe thead th {\n",
       "        text-align: right;\n",
       "    }\n",
       "</style>\n",
       "<table border=\"1\" class=\"dataframe\">\n",
       "  <thead>\n",
       "    <tr style=\"text-align: right;\">\n",
       "      <th></th>\n",
       "      <th>text</th>\n",
       "    </tr>\n",
       "  </thead>\n",
       "  <tbody>\n",
       "    <tr>\n",
       "      <th>0</th>\n",
       "      <td>our duck and chicken are taking wayyy too long...</td>\n",
       "    </tr>\n",
       "    <tr>\n",
       "      <th>1</th>\n",
       "      <td>Put vacation photos online (They were so cute)...</td>\n",
       "    </tr>\n",
       "    <tr>\n",
       "      <th>2</th>\n",
       "      <td>I need a hug</td>\n",
       "    </tr>\n",
       "    <tr>\n",
       "      <th>3</th>\n",
       "      <td>@andywana Not sure what they are, only that th...</td>\n",
       "    </tr>\n",
       "    <tr>\n",
       "      <th>4</th>\n",
       "      <td>@oanhLove I hate when that happens...</td>\n",
       "    </tr>\n",
       "  </tbody>\n",
       "</table>\n",
       "</div>"
      ],
      "text/plain": [
       "                                                text\n",
       "0  our duck and chicken are taking wayyy too long...\n",
       "1  Put vacation photos online (They were so cute)...\n",
       "2                                      I need a hug \n",
       "3  @andywana Not sure what they are, only that th...\n",
       "4             @oanhLove I hate when that happens... "
      ]
     },
     "execution_count": 9,
     "metadata": {},
     "output_type": "execute_result"
    }
   ],
   "source": [
    "tweets = pd.read_csv(\"https://raw.githubusercontent.com/SophrosyneEunoia/Shockwave/main/short_tweets.csv\")\n",
    "tweets = tweets[['text']]\n",
    "tweets.head()"
   ]
  },
  {
   "cell_type": "code",
   "execution_count": 10,
   "id": "f0c103b8",
   "metadata": {},
   "outputs": [
    {
     "name": "stdout",
     "output_type": "stream",
     "text": [
      "Boredd. Colddd @blueKnight39 Internet keeps stuffing up. Save me! https://www.tellyourstory.com\n",
      "I had a horrible nightmare last night @anitaLopez98 @MyredHat31 which affected my sleep, now I'm really tired\n",
      "im lonely  keep me company @YourBestCompany! @foxRadio https://radio.foxnews.com 22 female, new york\n"
     ]
    }
   ],
   "source": [
    "text = tweets.iloc[545:548,0]\n",
    "\n",
    "for txt in text:\n",
    "    print(txt)"
   ]
  },
  {
   "cell_type": "code",
   "execution_count": 11,
   "id": "4a9cc999",
   "metadata": {},
   "outputs": [
    {
     "name": "stdout",
     "output_type": "stream",
     "text": [
      "['@blueKnight39']\n",
      "['@anitaLopez98', '@MyredHat31']\n",
      "['@YourBestCompany', '@foxRadio']\n"
     ]
    }
   ],
   "source": [
    "for txt in text:\n",
    "    pattern = r\"@\\w+\"\n",
    "    print(re.findall(pattern, txt))"
   ]
  },
  {
   "cell_type": "code",
   "execution_count": 12,
   "id": "e13df6e4",
   "metadata": {},
   "outputs": [
    {
     "name": "stdout",
     "output_type": "stream",
     "text": [
      "['https://www.tellyourstory.com']\n",
      "[]\n",
      "['https://radio.foxnews.com']\n"
     ]
    }
   ],
   "source": [
    "for txt in text:\n",
    "    pattern = r\"http\\S+\"\n",
    "    print(re.findall(pattern, txt))"
   ]
  },
  {
   "cell_type": "code",
   "execution_count": 13,
   "id": "5f24a2a4",
   "metadata": {},
   "outputs": [
    {
     "name": "stdout",
     "output_type": "stream",
     "text": [
      "232    I would like to apologize for the repeated Vid...\n",
      "233    @zaydia but i cant figure out how to get there...\n",
      "234    FML: So much for seniority, bc of technologica...\n",
      "Name: text, dtype: object\n"
     ]
    }
   ],
   "source": [
    "text = tweets.iloc[232:235,0]\n",
    "\n",
    "print(text)"
   ]
  },
  {
   "cell_type": "code",
   "execution_count": 14,
   "id": "95a88a16",
   "metadata": {},
   "outputs": [
    {
     "name": "stdout",
     "output_type": "stream",
     "text": [
      "I would like to apologize for the repeated Video Games Live related tweets. 32 minutes ago\n",
      "@zaydia but i cant figure out how to get there / back / pay for a hotel 1st May 2019\n",
      "FML: So much for seniority, bc of technological ineptness 23rd June 2018 17:54\n"
     ]
    }
   ],
   "source": [
    "for txt in text:\n",
    "    print(txt)"
   ]
  },
  {
   "cell_type": "markdown",
   "id": "10d44076",
   "metadata": {},
   "source": [
    "32 minutes ago<br>\n",
    "1st May 2019<br>\n",
    "23rd June 2018 17:54"
   ]
  },
  {
   "cell_type": "code",
   "execution_count": 15,
   "id": "ee4f4282",
   "metadata": {},
   "outputs": [
    {
     "name": "stdout",
     "output_type": "stream",
     "text": [
      "['32 minutes ago']\n",
      "[]\n",
      "[]\n"
     ]
    }
   ],
   "source": [
    "for txt in text:\n",
    "    pt = r\"\\d{2}\\s\\w+\\sago\"\n",
    "    print(re.findall(pt, txt))"
   ]
  },
  {
   "cell_type": "code",
   "execution_count": 16,
   "id": "9ab38403",
   "metadata": {},
   "outputs": [
    {
     "name": "stdout",
     "output_type": "stream",
     "text": [
      "[]\n",
      "['1st May 2019']\n",
      "['23rd June 2018']\n"
     ]
    }
   ],
   "source": [
    "for txt in text:\n",
    "    pt = r\"\\d\\w+\\s\\w+\\s\\d{4}\"\n",
    "    print(re.findall(pt, txt))"
   ]
  },
  {
   "cell_type": "code",
   "execution_count": 17,
   "id": "2a4574ba",
   "metadata": {},
   "outputs": [
    {
     "name": "stdout",
     "output_type": "stream",
     "text": [
      "[]\n",
      "[]\n",
      "['23rd June 2018 17:54']\n"
     ]
    }
   ],
   "source": [
    "for txt in text:\n",
    "    pt = r\"\\d\\w+\\s\\w+\\s\\d{4}\\s\\d{2}:\\d{2}\"\n",
    "    print(re.findall(pt, txt))"
   ]
  },
  {
   "cell_type": "code",
   "execution_count": 18,
   "id": "32e3501c",
   "metadata": {},
   "outputs": [
    {
     "name": "stdout",
     "output_type": "stream",
     "text": [
      "['#MissYou', '#SoMuch', '#Friendship', '#Forever']\n"
     ]
    }
   ],
   "source": [
    "text = \"ITS NOT ENOUGH TO SAY THAT IMISS U #MissYou #SoMuch #Friendship #Forever\"\n",
    "\n",
    "pt = r\"#\\w+\"\n",
    "\n",
    "print(re.findall(pt, text))"
   ]
  },
  {
   "cell_type": "code",
   "execution_count": 19,
   "id": "65c4f87c",
   "metadata": {},
   "outputs": [
    {
     "name": "stdout",
     "output_type": "stream",
     "text": [
      "ITS NOT ENOUGH TO SAY THAT IMISS U    \n"
     ]
    }
   ],
   "source": [
    "t_ = re.sub(pt, \"\", text)\n",
    "\n",
    "print(t_)"
   ]
  },
  {
   "cell_type": "markdown",
   "id": "33058b8e",
   "metadata": {},
   "source": [
    "#### 2 - Regular Expression for Pattern Matching"
   ]
  },
  {
   "cell_type": "markdown",
   "id": "6fd56f27",
   "metadata": {},
   "source": [
    "#### 3 - Advanced Regular Expression Concept"
   ]
  }
 ],
 "metadata": {
  "kernelspec": {
   "display_name": "Python 3 (ipykernel)",
   "language": "python",
   "name": "python3"
  },
  "language_info": {
   "codemirror_mode": {
    "name": "ipython",
    "version": 3
   },
   "file_extension": ".py",
   "mimetype": "text/x-python",
   "name": "python",
   "nbconvert_exporter": "python",
   "pygments_lexer": "ipython3",
   "version": "3.9.7"
  }
 },
 "nbformat": 4,
 "nbformat_minor": 5
}
