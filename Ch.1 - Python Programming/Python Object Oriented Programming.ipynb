{
 "cells": [
  {
   "cell_type": "code",
   "execution_count": 1,
   "id": "e20e68e9",
   "metadata": {},
   "outputs": [],
   "source": [
    "class Employee:\n",
    "    pass"
   ]
  },
  {
   "cell_type": "code",
   "execution_count": 2,
   "id": "f7f30c17",
   "metadata": {},
   "outputs": [
    {
     "data": {
      "text/plain": [
       "__main__.Employee"
      ]
     },
     "execution_count": 2,
     "metadata": {},
     "output_type": "execute_result"
    }
   ],
   "source": [
    "class Employee:\n",
    "    name = \"Budi Susanto\"\n",
    "    \n",
    "Employee"
   ]
  },
  {
   "cell_type": "code",
   "execution_count": 3,
   "id": "0b5fa91c",
   "metadata": {},
   "outputs": [
    {
     "name": "stdout",
     "output_type": "stream",
     "text": [
      "<class '__main__.Employee'>\n"
     ]
    }
   ],
   "source": [
    "print(Employee)"
   ]
  },
  {
   "cell_type": "code",
   "execution_count": 4,
   "id": "524d46bc",
   "metadata": {},
   "outputs": [
    {
     "name": "stdout",
     "output_type": "stream",
     "text": [
      "Budi Susanto\n"
     ]
    }
   ],
   "source": [
    "print(Employee.name)"
   ]
  },
  {
   "cell_type": "code",
   "execution_count": 5,
   "id": "229c548a",
   "metadata": {},
   "outputs": [
    {
     "name": "stdout",
     "output_type": "stream",
     "text": [
      "Budi Susanto\n"
     ]
    }
   ],
   "source": [
    "emp = Employee()\n",
    "print(emp.name)"
   ]
  },
  {
   "cell_type": "code",
   "execution_count": 6,
   "id": "fb6ce657",
   "metadata": {},
   "outputs": [
    {
     "name": "stdout",
     "output_type": "stream",
     "text": [
      "Damrada\n"
     ]
    }
   ],
   "source": [
    "class Employee:\n",
    "    def GetName(self,name):\n",
    "        return name\n",
    "    \n",
    "emp = Employee()\n",
    "print(emp.GetName(\"Damrada\"))"
   ]
  }
 ],
 "metadata": {
  "kernelspec": {
   "display_name": "Python 3 (ipykernel)",
   "language": "python",
   "name": "python3"
  },
  "language_info": {
   "codemirror_mode": {
    "name": "ipython",
    "version": 3
   },
   "file_extension": ".py",
   "mimetype": "text/x-python",
   "name": "python",
   "nbconvert_exporter": "python",
   "pygments_lexer": "ipython3",
   "version": "3.9.7"
  }
 },
 "nbformat": 4,
 "nbformat_minor": 5
}
