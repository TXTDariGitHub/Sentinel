{
 "cells": [
  {
   "cell_type": "markdown",
   "id": "60eb6962",
   "metadata": {},
   "source": [
    "### 1 - Summary Statistics"
   ]
  },
  {
   "cell_type": "markdown",
   "id": "09bb7f86",
   "metadata": {},
   "source": [
    "### 2 - Random Numbers and Probability"
   ]
  },
  {
   "cell_type": "markdown",
   "id": "32e3dc54",
   "metadata": {},
   "source": [
    "### 3 - More Distributions and the Central Limit Theorem"
   ]
  },
  {
   "cell_type": "markdown",
   "id": "3cb28d26",
   "metadata": {},
   "source": [
    "### 4 - Correlation and Experimental Design"
   ]
  }
 ],
 "metadata": {
  "kernelspec": {
   "display_name": "Python 3 (ipykernel)",
   "language": "python",
   "name": "python3"
  },
  "language_info": {
   "codemirror_mode": {
    "name": "ipython",
    "version": 3
   },
   "file_extension": ".py",
   "mimetype": "text/x-python",
   "name": "python",
   "nbconvert_exporter": "python",
   "pygments_lexer": "ipython3",
   "version": "3.9.7"
  }
 },
 "nbformat": 4,
 "nbformat_minor": 5
}
