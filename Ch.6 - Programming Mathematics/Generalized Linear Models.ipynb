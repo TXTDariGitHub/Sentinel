{
 "cells": [
  {
   "cell_type": "markdown",
   "id": "3bedec9c",
   "metadata": {},
   "source": [
    "### 1 - Introduction to General Linear Models"
   ]
  },
  {
   "cell_type": "markdown",
   "id": "0ae34382",
   "metadata": {},
   "source": [
    "### 2 - Modeling Binary Data"
   ]
  },
  {
   "cell_type": "markdown",
   "id": "6989e224",
   "metadata": {},
   "source": [
    "### 3 - Modeling Count Data"
   ]
  },
  {
   "cell_type": "markdown",
   "id": "87235080",
   "metadata": {},
   "source": [
    "### 4 - Multivariable Logistic Regression"
   ]
  }
 ],
 "metadata": {
  "kernelspec": {
   "display_name": "Python 3 (ipykernel)",
   "language": "python",
   "name": "python3"
  },
  "language_info": {
   "codemirror_mode": {
    "name": "ipython",
    "version": 3
   },
   "file_extension": ".py",
   "mimetype": "text/x-python",
   "name": "python",
   "nbconvert_exporter": "python",
   "pygments_lexer": "ipython3",
   "version": "3.9.7"
  }
 },
 "nbformat": 4,
 "nbformat_minor": 5
}
