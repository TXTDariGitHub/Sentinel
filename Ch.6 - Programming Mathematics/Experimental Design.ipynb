{
 "cells": [
  {
   "cell_type": "markdown",
   "id": "dd062eac",
   "metadata": {},
   "source": [
    "### 1 - The Basics of Statistical Hypothesis Testing"
   ]
  },
  {
   "cell_type": "markdown",
   "id": "c9a56748",
   "metadata": {},
   "source": [
    "### 2 - Design Considerations in Experimental Design"
   ]
  },
  {
   "cell_type": "markdown",
   "id": "8bd24a59",
   "metadata": {},
   "source": [
    "### 3 - Sample Size, Power Analysis, and Effect Size"
   ]
  },
  {
   "cell_type": "markdown",
   "id": "8066a858",
   "metadata": {},
   "source": [
    "### 4 - Testing Normality : Parametric and Non Parametric Tests"
   ]
  }
 ],
 "metadata": {
  "kernelspec": {
   "display_name": "Python 3 (ipykernel)",
   "language": "python",
   "name": "python3"
  },
  "language_info": {
   "codemirror_mode": {
    "name": "ipython",
    "version": 3
   },
   "file_extension": ".py",
   "mimetype": "text/x-python",
   "name": "python",
   "nbconvert_exporter": "python",
   "pygments_lexer": "ipython3",
   "version": "3.9.7"
  }
 },
 "nbformat": 4,
 "nbformat_minor": 5
}
