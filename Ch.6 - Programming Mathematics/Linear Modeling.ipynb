{
 "cells": [
  {
   "cell_type": "markdown",
   "id": "0b61e363",
   "metadata": {},
   "source": [
    "### 1 - Exploring Linear Trends"
   ]
  },
  {
   "cell_type": "markdown",
   "id": "a116dcd6",
   "metadata": {},
   "source": [
    "### 2 - Building Linear Models"
   ]
  },
  {
   "cell_type": "markdown",
   "id": "0d5fe08b",
   "metadata": {},
   "source": [
    "### 3 - Making Model Predictions"
   ]
  },
  {
   "cell_type": "markdown",
   "id": "0c62b4f6",
   "metadata": {},
   "source": [
    "### 4 - Estimating Model Parameters"
   ]
  }
 ],
 "metadata": {
  "kernelspec": {
   "display_name": "Python 3 (ipykernel)",
   "language": "python",
   "name": "python3"
  },
  "language_info": {
   "codemirror_mode": {
    "name": "ipython",
    "version": 3
   },
   "file_extension": ".py",
   "mimetype": "text/x-python",
   "name": "python",
   "nbconvert_exporter": "python",
   "pygments_lexer": "ipython3",
   "version": "3.9.7"
  }
 },
 "nbformat": 4,
 "nbformat_minor": 5
}
