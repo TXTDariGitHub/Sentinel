{
 "cells": [
  {
   "cell_type": "markdown",
   "id": "a7f83a20",
   "metadata": {},
   "source": [
    "### 1 - Introduction to Survival Analysis"
   ]
  },
  {
   "cell_type": "markdown",
   "id": "1c32ad54",
   "metadata": {},
   "source": [
    "### 2 - Survival Curve Estimation"
   ]
  },
  {
   "cell_type": "markdown",
   "id": "a0cbb849",
   "metadata": {},
   "source": [
    "### 3 - The Weibull Model"
   ]
  },
  {
   "cell_type": "markdown",
   "id": "b1bb9fa7",
   "metadata": {},
   "source": [
    "### 4 - The COX PH Model"
   ]
  }
 ],
 "metadata": {
  "kernelspec": {
   "display_name": "Python 3 (ipykernel)",
   "language": "python",
   "name": "python3"
  },
  "language_info": {
   "codemirror_mode": {
    "name": "ipython",
    "version": 3
   },
   "file_extension": ".py",
   "mimetype": "text/x-python",
   "name": "python",
   "nbconvert_exporter": "python",
   "pygments_lexer": "ipython3",
   "version": "3.9.7"
  }
 },
 "nbformat": 4,
 "nbformat_minor": 5
}
