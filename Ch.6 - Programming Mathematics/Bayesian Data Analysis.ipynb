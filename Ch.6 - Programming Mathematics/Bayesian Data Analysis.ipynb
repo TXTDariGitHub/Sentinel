{
 "cells": [
  {
   "cell_type": "markdown",
   "id": "0b84fe7e",
   "metadata": {},
   "source": [
    "### 1 - The Bayesian Way"
   ]
  },
  {
   "cell_type": "markdown",
   "id": "ecc151ac",
   "metadata": {},
   "source": [
    "### 2 - Bayesian Estimation"
   ]
  },
  {
   "cell_type": "markdown",
   "id": "a8c34cb5",
   "metadata": {},
   "source": [
    "### 3 - Bayesian Inference"
   ]
  },
  {
   "cell_type": "markdown",
   "id": "61f8ac94",
   "metadata": {},
   "source": [
    "### 4 - Bayesian Linear Regression with pyMC3"
   ]
  }
 ],
 "metadata": {
  "kernelspec": {
   "display_name": "Python 3 (ipykernel)",
   "language": "python",
   "name": "python3"
  },
  "language_info": {
   "codemirror_mode": {
    "name": "ipython",
    "version": 3
   },
   "file_extension": ".py",
   "mimetype": "text/x-python",
   "name": "python",
   "nbconvert_exporter": "python",
   "pygments_lexer": "ipython3",
   "version": "3.9.7"
  }
 },
 "nbformat": 4,
 "nbformat_minor": 5
}
