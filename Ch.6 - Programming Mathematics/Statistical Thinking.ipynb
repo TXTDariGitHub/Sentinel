{
 "cells": [
  {
   "cell_type": "markdown",
   "id": "9c88acf5",
   "metadata": {},
   "source": [
    "## Part 1\n",
    "\n",
    "### 1 - Graphical Exploratory Data Analysis"
   ]
  },
  {
   "cell_type": "code",
   "execution_count": null,
   "id": "690d0184",
   "metadata": {},
   "outputs": [],
   "source": []
  },
  {
   "cell_type": "markdown",
   "id": "6f473e5a",
   "metadata": {},
   "source": [
    "### 2 - Quantitative Exploratory Data Analysis"
   ]
  },
  {
   "cell_type": "code",
   "execution_count": null,
   "id": "9bad3797",
   "metadata": {},
   "outputs": [],
   "source": []
  },
  {
   "cell_type": "markdown",
   "id": "5dc96c80",
   "metadata": {},
   "source": [
    "### 3 - Thinking Probabilistically - Discrete Variables"
   ]
  },
  {
   "cell_type": "code",
   "execution_count": null,
   "id": "19f79bde",
   "metadata": {},
   "outputs": [],
   "source": []
  },
  {
   "cell_type": "markdown",
   "id": "54bee9d6",
   "metadata": {},
   "source": [
    "### 4 - Thinking Probabilistically - Continous Variables"
   ]
  },
  {
   "cell_type": "code",
   "execution_count": null,
   "id": "ca56b902",
   "metadata": {},
   "outputs": [],
   "source": []
  },
  {
   "cell_type": "markdown",
   "id": "881818e6",
   "metadata": {},
   "source": [
    "## Part 2\n",
    "\n",
    "### 1 - Parameter Estimation by Optimization"
   ]
  },
  {
   "cell_type": "code",
   "execution_count": null,
   "id": "e507617b",
   "metadata": {},
   "outputs": [],
   "source": []
  },
  {
   "cell_type": "markdown",
   "id": "0382d731",
   "metadata": {},
   "source": [
    "### 2 - Bootstrap Confidence Intervals"
   ]
  },
  {
   "cell_type": "code",
   "execution_count": null,
   "id": "78025a9f",
   "metadata": {},
   "outputs": [],
   "source": []
  },
  {
   "cell_type": "markdown",
   "id": "749544ec",
   "metadata": {},
   "source": [
    "### 3 - Introduction to Hypothesis Testing"
   ]
  },
  {
   "cell_type": "code",
   "execution_count": null,
   "id": "9519fe73",
   "metadata": {},
   "outputs": [],
   "source": []
  },
  {
   "cell_type": "markdown",
   "id": "127715d9",
   "metadata": {},
   "source": [
    "### 4 - Hypothesis Test Examples"
   ]
  },
  {
   "cell_type": "code",
   "execution_count": null,
   "id": "a46f43f7",
   "metadata": {},
   "outputs": [],
   "source": []
  },
  {
   "cell_type": "markdown",
   "id": "1bc47c35",
   "metadata": {},
   "source": [
    "## Study Case !!"
   ]
  },
  {
   "cell_type": "code",
   "execution_count": null,
   "id": "83dba64d",
   "metadata": {},
   "outputs": [],
   "source": []
  }
 ],
 "metadata": {
  "kernelspec": {
   "display_name": "Python 3 (ipykernel)",
   "language": "python",
   "name": "python3"
  },
  "language_info": {
   "codemirror_mode": {
    "name": "ipython",
    "version": 3
   },
   "file_extension": ".py",
   "mimetype": "text/x-python",
   "name": "python",
   "nbconvert_exporter": "python",
   "pygments_lexer": "ipython3",
   "version": "3.9.7"
  }
 },
 "nbformat": 4,
 "nbformat_minor": 5
}
