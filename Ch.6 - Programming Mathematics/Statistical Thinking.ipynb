{
 "cells": [
  {
   "cell_type": "markdown",
   "id": "9c88acf5",
   "metadata": {},
   "source": [
    "## Part 1\n",
    "\n",
    "### 1 - Graphical Exploratory Data Analysis"
   ]
  },
  {
   "cell_type": "code",
   "execution_count": 1,
   "id": "690d0184",
   "metadata": {},
   "outputs": [],
   "source": [
    "import matplotlib.pyplot as plt\n",
    "import seaborn as sns\n",
    "import pandas as pd\n",
    "import numpy as np\n",
    "\n",
    "sns.set()"
   ]
  },
  {
   "cell_type": "code",
   "execution_count": 2,
   "id": "a5ec6ffa",
   "metadata": {},
   "outputs": [
    {
     "data": {
      "text/html": [
       "<div>\n",
       "<style scoped>\n",
       "    .dataframe tbody tr th:only-of-type {\n",
       "        vertical-align: middle;\n",
       "    }\n",
       "\n",
       "    .dataframe tbody tr th {\n",
       "        vertical-align: top;\n",
       "    }\n",
       "\n",
       "    .dataframe thead th {\n",
       "        text-align: right;\n",
       "    }\n",
       "</style>\n",
       "<table border=\"1\" class=\"dataframe\">\n",
       "  <thead>\n",
       "    <tr style=\"text-align: right;\">\n",
       "      <th></th>\n",
       "      <th>state</th>\n",
       "      <th>county</th>\n",
       "      <th>total_votes</th>\n",
       "      <th>dem_votes</th>\n",
       "      <th>rep_votes</th>\n",
       "      <th>dem_share</th>\n",
       "    </tr>\n",
       "  </thead>\n",
       "  <tbody>\n",
       "    <tr>\n",
       "      <th>0</th>\n",
       "      <td>PA</td>\n",
       "      <td>Erie County</td>\n",
       "      <td>127691</td>\n",
       "      <td>75775</td>\n",
       "      <td>50351</td>\n",
       "      <td>60.08</td>\n",
       "    </tr>\n",
       "    <tr>\n",
       "      <th>1</th>\n",
       "      <td>PA</td>\n",
       "      <td>Bradford County</td>\n",
       "      <td>25787</td>\n",
       "      <td>10306</td>\n",
       "      <td>15057</td>\n",
       "      <td>40.64</td>\n",
       "    </tr>\n",
       "    <tr>\n",
       "      <th>2</th>\n",
       "      <td>PA</td>\n",
       "      <td>Tioga County</td>\n",
       "      <td>17984</td>\n",
       "      <td>6390</td>\n",
       "      <td>11326</td>\n",
       "      <td>36.07</td>\n",
       "    </tr>\n",
       "    <tr>\n",
       "      <th>3</th>\n",
       "      <td>PA</td>\n",
       "      <td>McKean County</td>\n",
       "      <td>15947</td>\n",
       "      <td>6465</td>\n",
       "      <td>9224</td>\n",
       "      <td>41.21</td>\n",
       "    </tr>\n",
       "    <tr>\n",
       "      <th>4</th>\n",
       "      <td>PA</td>\n",
       "      <td>Potter County</td>\n",
       "      <td>7507</td>\n",
       "      <td>2300</td>\n",
       "      <td>5109</td>\n",
       "      <td>31.04</td>\n",
       "    </tr>\n",
       "  </tbody>\n",
       "</table>\n",
       "</div>"
      ],
      "text/plain": [
       "  state           county  total_votes  dem_votes  rep_votes  dem_share\n",
       "0    PA      Erie County       127691      75775      50351      60.08\n",
       "1    PA  Bradford County        25787      10306      15057      40.64\n",
       "2    PA     Tioga County        17984       6390      11326      36.07\n",
       "3    PA    McKean County        15947       6465       9224      41.21\n",
       "4    PA    Potter County         7507       2300       5109      31.04"
      ]
     },
     "execution_count": 2,
     "metadata": {},
     "output_type": "execute_result"
    }
   ],
   "source": [
    "url = \"https://raw.githubusercontent.com/SophrosyneEunoia/Shockwave/main/2008_swing_states.csv\"\n",
    "\n",
    "df_swing = pd.read_csv(url)\n",
    "df_swing.head()"
   ]
  },
  {
   "cell_type": "markdown",
   "id": "5f036e27",
   "metadata": {},
   "source": [
    "<p style=\"font-size:20px\">Democratic Analyze</p>"
   ]
  },
  {
   "cell_type": "code",
   "execution_count": 3,
   "id": "8c1cc1b6",
   "metadata": {},
   "outputs": [
    {
     "data": {
      "text/html": [
       "<div>\n",
       "<style scoped>\n",
       "    .dataframe tbody tr th:only-of-type {\n",
       "        vertical-align: middle;\n",
       "    }\n",
       "\n",
       "    .dataframe tbody tr th {\n",
       "        vertical-align: top;\n",
       "    }\n",
       "\n",
       "    .dataframe thead th {\n",
       "        text-align: right;\n",
       "    }\n",
       "</style>\n",
       "<table border=\"1\" class=\"dataframe\">\n",
       "  <thead>\n",
       "    <tr style=\"text-align: right;\">\n",
       "      <th></th>\n",
       "      <th>state</th>\n",
       "      <th>total_votes</th>\n",
       "      <th>dem_votes</th>\n",
       "      <th>rep_votes</th>\n",
       "      <th>dem_share</th>\n",
       "    </tr>\n",
       "    <tr>\n",
       "      <th>county</th>\n",
       "      <th></th>\n",
       "      <th></th>\n",
       "      <th></th>\n",
       "      <th></th>\n",
       "      <th></th>\n",
       "    </tr>\n",
       "  </thead>\n",
       "  <tbody>\n",
       "    <tr>\n",
       "      <th>Philadelphia County</th>\n",
       "      <td>PA</td>\n",
       "      <td>717329</td>\n",
       "      <td>595980</td>\n",
       "      <td>117221</td>\n",
       "      <td>83.56</td>\n",
       "    </tr>\n",
       "    <tr>\n",
       "      <th>Miami-Dade County</th>\n",
       "      <td>FL</td>\n",
       "      <td>863486</td>\n",
       "      <td>499831</td>\n",
       "      <td>360551</td>\n",
       "      <td>58.09</td>\n",
       "    </tr>\n",
       "    <tr>\n",
       "      <th>Broward County</th>\n",
       "      <td>FL</td>\n",
       "      <td>733899</td>\n",
       "      <td>492640</td>\n",
       "      <td>237729</td>\n",
       "      <td>67.45</td>\n",
       "    </tr>\n",
       "    <tr>\n",
       "      <th>Cuyahoga County</th>\n",
       "      <td>OH</td>\n",
       "      <td>665352</td>\n",
       "      <td>458422</td>\n",
       "      <td>199880</td>\n",
       "      <td>69.64</td>\n",
       "    </tr>\n",
       "    <tr>\n",
       "      <th>Allegheny County</th>\n",
       "      <td>PA</td>\n",
       "      <td>651436</td>\n",
       "      <td>373153</td>\n",
       "      <td>272347</td>\n",
       "      <td>57.81</td>\n",
       "    </tr>\n",
       "  </tbody>\n",
       "</table>\n",
       "</div>"
      ],
      "text/plain": [
       "                    state  total_votes  dem_votes  rep_votes  dem_share\n",
       "county                                                                 \n",
       "Philadelphia County    PA       717329     595980     117221      83.56\n",
       "Miami-Dade County      FL       863486     499831     360551      58.09\n",
       "Broward County         FL       733899     492640     237729      67.45\n",
       "Cuyahoga County        OH       665352     458422     199880      69.64\n",
       "Allegheny County       PA       651436     373153     272347      57.81"
      ]
     },
     "execution_count": 3,
     "metadata": {},
     "output_type": "execute_result"
    }
   ],
   "source": [
    "v1 = df_swing.sort_values(by='dem_votes',ascending=False).set_index('county')\n",
    "\n",
    "v1.head()"
   ]
  },
  {
   "cell_type": "code",
   "execution_count": 4,
   "id": "d54d8c2c",
   "metadata": {},
   "outputs": [
    {
     "data": {
      "image/png": "[encoded data removed]",
      "text/plain": [
       "<Figure size 432x288 with 1 Axes>"
      ]
     },
     "metadata": {},
     "output_type": "display_data"
    }
   ],
   "source": [
    "fig, ax = plt.subplots()\n",
    "\n",
    "x_axis = v1.head(5).index\n",
    "y_axis = v1['dem_votes'].head(5)\n",
    "\n",
    "ax.barh(x_axis, y_axis)\n",
    "ax.set_title(\"5 Highest County Democratic Votes\")\n",
    "plt.show()"
   ]
  },
  {
   "cell_type": "code",
   "execution_count": 5,
   "id": "affdc16f",
   "metadata": {},
   "outputs": [
    {
     "data": {
      "image/png": "[encoded data removed]",
      "text/plain": [
       "<Figure size 432x288 with 1 Axes>"
      ]
     },
     "metadata": {},
     "output_type": "display_data"
    }
   ],
   "source": [
    "fig, ax = plt.subplots()\n",
    "\n",
    "ax.hist(x = 'dem_share', data=v1)\n",
    "ax.set_title(\"Democratic Share Data Distribution\")\n",
    "plt.show()"
   ]
  },
  {
   "cell_type": "markdown",
   "id": "b6ec2e16",
   "metadata": {},
   "source": [
    "<p style=\"font-size:20px\">Republic Analyze</p>"
   ]
  },
  {
   "cell_type": "code",
   "execution_count": 6,
   "id": "c6359261",
   "metadata": {},
   "outputs": [
    {
     "data": {
      "text/html": [
       "<div>\n",
       "<style scoped>\n",
       "    .dataframe tbody tr th:only-of-type {\n",
       "        vertical-align: middle;\n",
       "    }\n",
       "\n",
       "    .dataframe tbody tr th {\n",
       "        vertical-align: top;\n",
       "    }\n",
       "\n",
       "    .dataframe thead th {\n",
       "        text-align: right;\n",
       "    }\n",
       "</style>\n",
       "<table border=\"1\" class=\"dataframe\">\n",
       "  <thead>\n",
       "    <tr style=\"text-align: right;\">\n",
       "      <th></th>\n",
       "      <th>state</th>\n",
       "      <th>county</th>\n",
       "      <th>total_votes</th>\n",
       "      <th>dem_votes</th>\n",
       "      <th>rep_votes</th>\n",
       "      <th>dem_share</th>\n",
       "      <th>rep_share</th>\n",
       "    </tr>\n",
       "  </thead>\n",
       "  <tbody>\n",
       "    <tr>\n",
       "      <th>0</th>\n",
       "      <td>PA</td>\n",
       "      <td>Erie County</td>\n",
       "      <td>127691</td>\n",
       "      <td>75775</td>\n",
       "      <td>50351</td>\n",
       "      <td>60.08</td>\n",
       "      <td>39.92</td>\n",
       "    </tr>\n",
       "    <tr>\n",
       "      <th>1</th>\n",
       "      <td>PA</td>\n",
       "      <td>Bradford County</td>\n",
       "      <td>25787</td>\n",
       "      <td>10306</td>\n",
       "      <td>15057</td>\n",
       "      <td>40.64</td>\n",
       "      <td>59.36</td>\n",
       "    </tr>\n",
       "    <tr>\n",
       "      <th>2</th>\n",
       "      <td>PA</td>\n",
       "      <td>Tioga County</td>\n",
       "      <td>17984</td>\n",
       "      <td>6390</td>\n",
       "      <td>11326</td>\n",
       "      <td>36.07</td>\n",
       "      <td>63.93</td>\n",
       "    </tr>\n",
       "    <tr>\n",
       "      <th>3</th>\n",
       "      <td>PA</td>\n",
       "      <td>McKean County</td>\n",
       "      <td>15947</td>\n",
       "      <td>6465</td>\n",
       "      <td>9224</td>\n",
       "      <td>41.21</td>\n",
       "      <td>58.79</td>\n",
       "    </tr>\n",
       "    <tr>\n",
       "      <th>4</th>\n",
       "      <td>PA</td>\n",
       "      <td>Potter County</td>\n",
       "      <td>7507</td>\n",
       "      <td>2300</td>\n",
       "      <td>5109</td>\n",
       "      <td>31.04</td>\n",
       "      <td>68.96</td>\n",
       "    </tr>\n",
       "  </tbody>\n",
       "</table>\n",
       "</div>"
      ],
      "text/plain": [
       "  state           county  total_votes  dem_votes  rep_votes  dem_share  \\\n",
       "0    PA      Erie County       127691      75775      50351      60.08   \n",
       "1    PA  Bradford County        25787      10306      15057      40.64   \n",
       "2    PA     Tioga County        17984       6390      11326      36.07   \n",
       "3    PA    McKean County        15947       6465       9224      41.21   \n",
       "4    PA    Potter County         7507       2300       5109      31.04   \n",
       "\n",
       "   rep_share  \n",
       "0      39.92  \n",
       "1      59.36  \n",
       "2      63.93  \n",
       "3      58.79  \n",
       "4      68.96  "
      ]
     },
     "execution_count": 6,
     "metadata": {},
     "output_type": "execute_result"
    }
   ],
   "source": [
    "df_swing['rep_share'] = 100 - df_swing['dem_share']\n",
    "df_swing.head()"
   ]
  },
  {
   "cell_type": "code",
   "execution_count": 7,
   "id": "61c550d3",
   "metadata": {},
   "outputs": [
    {
     "data": {
      "text/html": [
       "<div>\n",
       "<style scoped>\n",
       "    .dataframe tbody tr th:only-of-type {\n",
       "        vertical-align: middle;\n",
       "    }\n",
       "\n",
       "    .dataframe tbody tr th {\n",
       "        vertical-align: top;\n",
       "    }\n",
       "\n",
       "    .dataframe thead th {\n",
       "        text-align: right;\n",
       "    }\n",
       "</style>\n",
       "<table border=\"1\" class=\"dataframe\">\n",
       "  <thead>\n",
       "    <tr style=\"text-align: right;\">\n",
       "      <th></th>\n",
       "      <th>state</th>\n",
       "      <th>total_votes</th>\n",
       "      <th>dem_votes</th>\n",
       "      <th>rep_votes</th>\n",
       "      <th>dem_share</th>\n",
       "      <th>rep_share</th>\n",
       "    </tr>\n",
       "    <tr>\n",
       "      <th>county</th>\n",
       "      <th></th>\n",
       "      <th></th>\n",
       "      <th></th>\n",
       "      <th></th>\n",
       "      <th></th>\n",
       "      <th></th>\n",
       "    </tr>\n",
       "  </thead>\n",
       "  <tbody>\n",
       "    <tr>\n",
       "      <th>Miami-Dade County</th>\n",
       "      <td>FL</td>\n",
       "      <td>863486</td>\n",
       "      <td>499831</td>\n",
       "      <td>360551</td>\n",
       "      <td>58.09</td>\n",
       "      <td>41.91</td>\n",
       "    </tr>\n",
       "    <tr>\n",
       "      <th>Allegheny County</th>\n",
       "      <td>PA</td>\n",
       "      <td>651436</td>\n",
       "      <td>373153</td>\n",
       "      <td>272347</td>\n",
       "      <td>57.81</td>\n",
       "      <td>42.19</td>\n",
       "    </tr>\n",
       "    <tr>\n",
       "      <th>Broward County</th>\n",
       "      <td>FL</td>\n",
       "      <td>733899</td>\n",
       "      <td>492640</td>\n",
       "      <td>237729</td>\n",
       "      <td>67.45</td>\n",
       "      <td>32.55</td>\n",
       "    </tr>\n",
       "    <tr>\n",
       "      <th>Hillsborough County</th>\n",
       "      <td>FL</td>\n",
       "      <td>513312</td>\n",
       "      <td>272963</td>\n",
       "      <td>236355</td>\n",
       "      <td>53.59</td>\n",
       "      <td>46.41</td>\n",
       "    </tr>\n",
       "    <tr>\n",
       "      <th>Palm Beach County</th>\n",
       "      <td>FL</td>\n",
       "      <td>590500</td>\n",
       "      <td>361271</td>\n",
       "      <td>226037</td>\n",
       "      <td>61.51</td>\n",
       "      <td>38.49</td>\n",
       "    </tr>\n",
       "  </tbody>\n",
       "</table>\n",
       "</div>"
      ],
      "text/plain": [
       "                    state  total_votes  dem_votes  rep_votes  dem_share  \\\n",
       "county                                                                    \n",
       "Miami-Dade County      FL       863486     499831     360551      58.09   \n",
       "Allegheny County       PA       651436     373153     272347      57.81   \n",
       "Broward County         FL       733899     492640     237729      67.45   \n",
       "Hillsborough County    FL       513312     272963     236355      53.59   \n",
       "Palm Beach County      FL       590500     361271     226037      61.51   \n",
       "\n",
       "                     rep_share  \n",
       "county                          \n",
       "Miami-Dade County        41.91  \n",
       "Allegheny County         42.19  \n",
       "Broward County           32.55  \n",
       "Hillsborough County      46.41  \n",
       "Palm Beach County        38.49  "
      ]
     },
     "execution_count": 7,
     "metadata": {},
     "output_type": "execute_result"
    }
   ],
   "source": [
    "v1_re = df_swing.sort_values(by='rep_votes',ascending=False).set_index('county')\n",
    "\n",
    "v1_re.head()"
   ]
  },
  {
   "cell_type": "code",
   "execution_count": 8,
   "id": "ac057473",
   "metadata": {},
   "outputs": [
    {
     "data": {
      "image/png": "[encoded data removed]",
      "text/plain": [
       "<Figure size 432x288 with 1 Axes>"
      ]
     },
     "metadata": {},
     "output_type": "display_data"
    }
   ],
   "source": [
    "fig, ax = plt.subplots()\n",
    "\n",
    "x_axis = v1_re.head(5).index\n",
    "y_axis = v1_re['rep_votes'].head(5)\n",
    "\n",
    "ax.barh(x_axis, y_axis)\n",
    "ax.set_title(\"5 Highest County Republic Votes\")\n",
    "plt.show()"
   ]
  },
  {
   "cell_type": "code",
   "execution_count": 9,
   "id": "39d26d96",
   "metadata": {},
   "outputs": [
    {
     "data": {
      "image/png": "[encoded data removed]",
      "text/plain": [
       "<Figure size 432x288 with 1 Axes>"
      ]
     },
     "metadata": {},
     "output_type": "display_data"
    }
   ],
   "source": [
    "fig, ax = plt.subplots()\n",
    "\n",
    "ax.hist(x = 'rep_share', data=v1_re)\n",
    "ax.set_title(\"Republic Share Data Distribution\")\n",
    "plt.show()"
   ]
  },
  {
   "cell_type": "markdown",
   "id": "6f473e5a",
   "metadata": {},
   "source": [
    "### 2 - Quantitative Exploratory Data Analysis"
   ]
  },
  {
   "cell_type": "markdown",
   "id": "5dc96c80",
   "metadata": {},
   "source": [
    "### 3 - Thinking Probabilistically - Discrete Variables"
   ]
  },
  {
   "cell_type": "markdown",
   "id": "54bee9d6",
   "metadata": {},
   "source": [
    "### 4 - Thinking Probabilistically - Continous Variables"
   ]
  },
  {
   "cell_type": "markdown",
   "id": "881818e6",
   "metadata": {},
   "source": [
    "## Part 2\n",
    "\n",
    "### 1 - Parameter Estimation by Optimization"
   ]
  },
  {
   "cell_type": "markdown",
   "id": "0382d731",
   "metadata": {},
   "source": [
    "### 2 - Bootstrap Confidence Intervals"
   ]
  },
  {
   "cell_type": "markdown",
   "id": "749544ec",
   "metadata": {},
   "source": [
    "### 3 - Introduction to Hypothesis Testing"
   ]
  },
  {
   "cell_type": "markdown",
   "id": "127715d9",
   "metadata": {},
   "source": [
    "### 4 - Hypothesis Test Examples"
   ]
  },
  {
   "cell_type": "markdown",
   "id": "1bc47c35",
   "metadata": {},
   "source": [
    "## Study Case !!"
   ]
  },
  {
   "cell_type": "markdown",
   "id": "bc5c3fa3",
   "metadata": {},
   "source": [
    "### Dataset Reference\n",
    "1. [United States 2008 Presidential Election](https://en.wikipedia.org/wiki/2008_United_States_presidential_election)\n",
    "2. [Pennsylvania - Erie County](https://en.wikipedia.org/wiki/2008_United_States_presidential_election_in_Pennsylvania)"
   ]
  }
 ],
 "metadata": {
  "kernelspec": {
   "display_name": "Python 3 (ipykernel)",
   "language": "python",
   "name": "python3"
  },
  "language_info": {
   "codemirror_mode": {
    "name": "ipython",
    "version": 3
   },
   "file_extension": ".py",
   "mimetype": "text/x-python",
   "name": "python",
   "nbconvert_exporter": "python",
   "pygments_lexer": "ipython3",
   "version": "3.9.7"
  }
 },
 "nbformat": 4,
 "nbformat_minor": 5
}
