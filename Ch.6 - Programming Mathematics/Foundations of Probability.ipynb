{
 "cells": [
  {
   "cell_type": "markdown",
   "id": "d1e6fa30",
   "metadata": {},
   "source": [
    "### 1 - Let's start Flipping Coins"
   ]
  },
  {
   "cell_type": "markdown",
   "id": "0f10f621",
   "metadata": {},
   "source": [
    "### 2 - Calculate some Probabilities"
   ]
  },
  {
   "cell_type": "markdown",
   "id": "a0714770",
   "metadata": {},
   "source": [
    "### 3 - Important Probability Distributions"
   ]
  },
  {
   "cell_type": "markdown",
   "id": "940de7d9",
   "metadata": {},
   "source": [
    "### 4 - Probability Feat Statistics"
   ]
  }
 ],
 "metadata": {
  "kernelspec": {
   "display_name": "Python 3 (ipykernel)",
   "language": "python",
   "name": "python3"
  },
  "language_info": {
   "codemirror_mode": {
    "name": "ipython",
    "version": 3
   },
   "file_extension": ".py",
   "mimetype": "text/x-python",
   "name": "python",
   "nbconvert_exporter": "python",
   "pygments_lexer": "ipython3",
   "version": "3.9.7"
  }
 },
 "nbformat": 4,
 "nbformat_minor": 5
}
