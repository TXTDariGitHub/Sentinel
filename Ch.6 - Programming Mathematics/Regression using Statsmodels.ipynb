{
 "cells": [
  {
   "cell_type": "markdown",
   "id": "e8dfde91",
   "metadata": {},
   "source": [
    "## Part 1\n",
    "\n",
    "### 1 - Simple Linear Regression Modeling"
   ]
  },
  {
   "cell_type": "markdown",
   "id": "9f9a2a1a",
   "metadata": {},
   "source": [
    "### 2 - Predictions and Model Objects"
   ]
  },
  {
   "cell_type": "markdown",
   "id": "c61a8abc",
   "metadata": {},
   "source": [
    "### 3 - Assessing Model Fit"
   ]
  },
  {
   "cell_type": "markdown",
   "id": "3c6fd893",
   "metadata": {},
   "source": [
    "### 4 - Simple Logistic Regression Modeling"
   ]
  },
  {
   "cell_type": "markdown",
   "id": "4b230675",
   "metadata": {},
   "source": [
    "## Part 2\n",
    "\n",
    "### 1 - Parallel Slopes"
   ]
  },
  {
   "cell_type": "markdown",
   "id": "36464008",
   "metadata": {},
   "source": [
    "### 2 - Interactions"
   ]
  },
  {
   "cell_type": "markdown",
   "id": "0c0442a2",
   "metadata": {},
   "source": [
    "### 3 - Multiple Linear Regression"
   ]
  },
  {
   "cell_type": "markdown",
   "id": "90b27885",
   "metadata": {},
   "source": [
    "### 4 - Multiple Logistic Regression"
   ]
  }
 ],
 "metadata": {
  "kernelspec": {
   "display_name": "Python 3 (ipykernel)",
   "language": "python",
   "name": "python3"
  },
  "language_info": {
   "codemirror_mode": {
    "name": "ipython",
    "version": 3
   },
   "file_extension": ".py",
   "mimetype": "text/x-python",
   "name": "python",
   "nbconvert_exporter": "python",
   "pygments_lexer": "ipython3",
   "version": "3.9.7"
  }
 },
 "nbformat": 4,
 "nbformat_minor": 5
}
